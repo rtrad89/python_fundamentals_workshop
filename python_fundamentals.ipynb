{
 "cells": [
  {
   "cell_type": "markdown",
   "id": "2402af3a",
   "metadata": {},
   "source": [
    "# Python Fundamentals Workshop\n",
    "***Part 1***"
   ]
  },
  {
   "cell_type": "markdown",
   "id": "2d0645ba",
   "metadata": {},
   "source": [
    "<img src=\"https://www.python.org/static/community_logos/python-logo-master-v3-TM.png\" title=\"Python Logo\"/>"
   ]
  },
  {
   "cell_type": "markdown",
   "id": "9eb01367",
   "metadata": {},
   "source": [
    "The main source of materials is the [official wiki page of Python](https://wiki.python.org/moin/BeginnersGuide/Programmers) (subsequently [this tutorial](https://python.land/python-tutorial)) and [Python cheatsheet](https://www.pythoncheatsheet.org/)."
   ]
  },
  {
   "cell_type": "markdown",
   "id": "882a7412",
   "metadata": {},
   "source": [
    "# The Zen of Python"
   ]
  },
  {
   "cell_type": "markdown",
   "id": "a0f363ab",
   "metadata": {},
   "source": [
    "Try `import this` to learn about some advocated principles by Python's gurus."
   ]
  },
  {
   "cell_type": "code",
   "execution_count": 1,
   "id": "21f64e7d",
   "metadata": {},
   "outputs": [
    {
     "name": "stdout",
     "output_type": "stream",
     "text": [
      "The Zen of Python, by Tim Peters\n",
      "\n",
      "Beautiful is better than ugly.\n",
      "Explicit is better than implicit.\n",
      "Simple is better than complex.\n",
      "Complex is better than complicated.\n",
      "Flat is better than nested.\n",
      "Sparse is better than dense.\n",
      "Readability counts.\n",
      "Special cases aren't special enough to break the rules.\n",
      "Although practicality beats purity.\n",
      "Errors should never pass silently.\n",
      "Unless explicitly silenced.\n",
      "In the face of ambiguity, refuse the temptation to guess.\n",
      "There should be one-- and preferably only one --obvious way to do it.\n",
      "Although that way may not be obvious at first unless you're Dutch.\n",
      "Now is better than never.\n",
      "Although never is often better than *right* now.\n",
      "If the implementation is hard to explain, it's a bad idea.\n",
      "If the implementation is easy to explain, it may be a good idea.\n",
      "Namespaces are one honking great idea -- let's do more of those!\n"
     ]
    }
   ],
   "source": [
    "import this"
   ]
  },
  {
   "cell_type": "markdown",
   "id": "c4e76862",
   "metadata": {},
   "source": [
    "---"
   ]
  },
  {
   "cell_type": "markdown",
   "id": "a2270844",
   "metadata": {},
   "source": [
    "# Commenting in Python"
   ]
  },
  {
   "cell_type": "markdown",
   "id": "994cbd6f",
   "metadata": {},
   "source": [
    "You can insert your comments in Python which will not be interpreted by it at all.\n",
    "Why?\n",
    "- Document what you are doing\n",
    "- Debug\n",
    "- Reminders: use `# TODO add another function here`\n",
    "- Etc."
   ]
  },
  {
   "cell_type": "code",
   "execution_count": 20,
   "id": "10187ca8",
   "metadata": {},
   "outputs": [
    {
     "name": "stdout",
     "output_type": "stream",
     "text": [
      " This is a longer\n",
      "multiline\n",
      "comment\n"
     ]
    }
   ],
   "source": [
    "# This is a single line comment\n",
    "\n",
    "\"\"\" This is a longer\n",
    "multiline\n",
    "comment\"\"\"\n",
    "\n",
    "# Or maybe\n",
    "# This multiline\n",
    "# comment\n",
    "print(\"\"\" This is a longer\n",
    "multiline\n",
    "comment\"\"\")"
   ]
  },
  {
   "cell_type": "markdown",
   "id": "18f80367",
   "metadata": {},
   "source": [
    "---"
   ]
  },
  {
   "cell_type": "markdown",
   "id": "00874cca",
   "metadata": {},
   "source": [
    "# Simple Operators"
   ]
  },
  {
   "cell_type": "markdown",
   "id": "1cca88ea",
   "metadata": {},
   "source": [
    "We have seven simple operators in Python:\n",
    "\n",
    "| # | Operator | Semantics | Example |\n",
    "| --- | --- | --- | --- |\n",
    "| 1 | `**`  | Exponent | `2 ** 3 = 8` |\n",
    "| 2 | `%` \t| Modulus/Remainder | \t`22 % 8 = 6` |\n",
    "| 3 | `//` | Integer division | \t`22 // 8 = 2` |\n",
    "| 4 | `/` \t| Division | \t`22 / 8 = 2.75` |\n",
    "| 5 | `*` \t| Multiplication | \t`3 * 3 = 9` |\n",
    "| 6 | `-` \t| Subtraction | \t`5 - 2 = 3` |\n",
    "| 7 | `+`  | \tAddition | \t`2 + 2 = 4` |\n",
    "| - | `=` | Assignment | - |\n"
   ]
  },
  {
   "cell_type": "markdown",
   "id": "74477789",
   "metadata": {},
   "source": [
    "**What do these `#` numbers mean though?** Let's try to evaluate the following **expressions**:"
   ]
  },
  {
   "cell_type": "code",
   "execution_count": 4,
   "id": "efcda735",
   "metadata": {},
   "outputs": [
    {
     "data": {
      "text/plain": [
       "6.0"
      ]
     },
     "execution_count": 4,
     "metadata": {},
     "output_type": "execute_result"
    }
   ],
   "source": [
    "(6 + 6) / 2"
   ]
  },
  {
   "cell_type": "code",
   "execution_count": 5,
   "id": "5efd64de",
   "metadata": {},
   "outputs": [
    {
     "data": {
      "text/plain": [
       "8.0"
      ]
     },
     "execution_count": 5,
     "metadata": {},
     "output_type": "execute_result"
    }
   ],
   "source": [
    "2 * 3 * 2 / 2 + 2"
   ]
  },
  {
   "cell_type": "code",
   "execution_count": 6,
   "id": "a199ced5",
   "metadata": {},
   "outputs": [
    {
     "data": {
      "text/plain": [
       "12"
      ]
     },
     "execution_count": 6,
     "metadata": {},
     "output_type": "execute_result"
    }
   ],
   "source": [
    "2 * 3 + 2 * 3"
   ]
  },
  {
   "cell_type": "code",
   "execution_count": 7,
   "id": "d287cb3a",
   "metadata": {},
   "outputs": [
    {
     "data": {
      "text/plain": [
       "18"
      ]
     },
     "execution_count": 7,
     "metadata": {},
     "output_type": "execute_result"
    }
   ],
   "source": [
    "2 * 3 + 2 ** 2 * 3"
   ]
  },
  {
   "cell_type": "code",
   "execution_count": 8,
   "id": "f852826b",
   "metadata": {
    "scrolled": true
   },
   "outputs": [
    {
     "data": {
      "text/plain": [
       "70"
      ]
     },
     "execution_count": 8,
     "metadata": {},
     "output_type": "execute_result"
    }
   ],
   "source": [
    "2 * 3 + 2 ** (2 * 3)"
   ]
  },
  {
   "cell_type": "markdown",
   "id": "8b3f516f",
   "metadata": {},
   "source": [
    "**Operators mean different things with different data types, or might not work!!**"
   ]
  },
  {
   "cell_type": "code",
   "execution_count": 11,
   "id": "ea29c45d",
   "metadata": {},
   "outputs": [
    {
     "data": {
      "text/plain": [
       "'Hello python!Hello python!Hello python!'"
      ]
     },
     "execution_count": 11,
     "metadata": {},
     "output_type": "execute_result"
    }
   ],
   "source": [
    "\"Hello python!\" * 3"
   ]
  },
  {
   "cell_type": "markdown",
   "id": "0ef6701c",
   "metadata": {},
   "source": [
    "So it's *absolutely important* to know your data types. Thus, let's learn more about `variables` in Python!"
   ]
  },
  {
   "cell_type": "markdown",
   "id": "55308f06",
   "metadata": {},
   "source": [
    "Assignment can be augmented thus:\n",
    "\n",
    "|Operator|Equivalent|\n",
    "|---|---|\n",
    "|var += 1 | var = var + 1|\n",
    "|var -= 1 | var = var - 1|\n",
    "|var *= 1 | var = var * 1|\n",
    "|var /= 1 | var = var / 1|\n",
    "|var %= 1 | var = var % 1|"
   ]
  },
  {
   "cell_type": "code",
   "execution_count": 12,
   "id": "6e116d2f",
   "metadata": {},
   "outputs": [
    {
     "data": {
      "text/plain": [
       "0"
      ]
     },
     "execution_count": 12,
     "metadata": {},
     "output_type": "execute_result"
    }
   ],
   "source": [
    "4 % 2"
   ]
  },
  {
   "cell_type": "code",
   "execution_count": 13,
   "id": "afad385f",
   "metadata": {},
   "outputs": [
    {
     "data": {
      "text/plain": [
       "1"
      ]
     },
     "execution_count": 13,
     "metadata": {},
     "output_type": "execute_result"
    }
   ],
   "source": [
    "5 % 2"
   ]
  },
  {
   "cell_type": "code",
   "execution_count": 14,
   "id": "d37f3456",
   "metadata": {},
   "outputs": [
    {
     "data": {
      "text/plain": [
       "15"
      ]
     },
     "execution_count": 14,
     "metadata": {},
     "output_type": "execute_result"
    }
   ],
   "source": [
    "var = 10\n",
    "var += 5\n",
    "var"
   ]
  },
  {
   "cell_type": "code",
   "execution_count": 15,
   "id": "140960f1",
   "metadata": {},
   "outputs": [
    {
     "data": {
      "text/plain": [
       "0"
      ]
     },
     "execution_count": 15,
     "metadata": {},
     "output_type": "execute_result"
    }
   ],
   "source": [
    "var %= 3\n",
    "var"
   ]
  },
  {
   "cell_type": "markdown",
   "id": "1e6aa5dc",
   "metadata": {},
   "source": [
    "---"
   ]
  },
  {
   "cell_type": "markdown",
   "id": "579246e1",
   "metadata": {},
   "source": [
    "# Variables"
   ]
  },
  {
   "cell_type": "markdown",
   "id": "35d8eb76",
   "metadata": {},
   "source": [
    "Variables are significant quantities that you want to save and use **later** in your code. Typical example would be **calculations** you make.\n",
    "\n",
    "Every variable in python must have **a name**. Names must be:\n",
    "- Starting with a letter, or an underscore `_`! We cannot start a variable with a number like `1_best_var_ever`\n",
    "- Containing only letters, numbers and `_`, so **one word**"
   ]
  },
  {
   "cell_type": "markdown",
   "id": "dfcb3d19",
   "metadata": {},
   "source": [
    "→ **Additional encouraged rules**:\n",
    "- Never name a variable with a reserved word (coloured usually)! like `print` or `def`\n",
    "    - Sometimes you will get a syntax error, sometimes you'd have very bad results!\n",
    "- Always use meaningful names, even if long\n",
    "- Variable names are case sensetive! So better use lower case always as a general rule, however:\n",
    "- Follow the naming and coding conventions of Python (found in `PEP 8` guide) from the start to get used to it. See them in [PEP 8 -- Style Guide for Python Code](https://www.python.org/dev/peps/pep-0008/)."
   ]
  },
  {
   "cell_type": "code",
   "execution_count": 16,
   "id": "68c3ace4",
   "metadata": {},
   "outputs": [
    {
     "name": "stdout",
     "output_type": "stream",
     "text": [
      "4\n"
     ]
    }
   ],
   "source": [
    "var = 4\n",
    "print(var)"
   ]
  },
  {
   "cell_type": "code",
   "execution_count": 17,
   "id": "5b612b0c",
   "metadata": {
    "scrolled": true
   },
   "outputs": [
    {
     "ename": "SyntaxError",
     "evalue": "invalid syntax (Temp/ipykernel_16188/2865143489.py, line 1)",
     "output_type": "error",
     "traceback": [
      "\u001b[1;36m  File \u001b[1;32m\"C:\\Users\\AndRafi\\AppData\\Local\\Temp/ipykernel_16188/2865143489.py\"\u001b[1;36m, line \u001b[1;32m1\u001b[0m\n\u001b[1;33m    my beautiful var = 5\u001b[0m\n\u001b[1;37m       ^\u001b[0m\n\u001b[1;31mSyntaxError\u001b[0m\u001b[1;31m:\u001b[0m invalid syntax\n"
     ]
    }
   ],
   "source": [
    "my beautiful var = 5"
   ]
  },
  {
   "cell_type": "code",
   "execution_count": 21,
   "id": "b7fe3f18",
   "metadata": {},
   "outputs": [
    {
     "name": "stdout",
     "output_type": "stream",
     "text": [
      "5\n"
     ]
    }
   ],
   "source": [
    "my_beautiful_var = 5\n",
    "print(my_beautiful_var)"
   ]
  },
  {
   "cell_type": "code",
   "execution_count": 23,
   "id": "2b820380",
   "metadata": {},
   "outputs": [
    {
     "name": "stdout",
     "output_type": "stream",
     "text": [
      "4\n"
     ]
    }
   ],
   "source": [
    "_var = 4\n",
    "print(_var)"
   ]
  },
  {
   "cell_type": "code",
   "execution_count": 24,
   "id": "64ca659c",
   "metadata": {
    "scrolled": true
   },
   "outputs": [
    {
     "ename": "SyntaxError",
     "evalue": "invalid syntax (Temp/ipykernel_16188/1838738779.py, line 1)",
     "output_type": "error",
     "traceback": [
      "\u001b[1;36m  File \u001b[1;32m\"C:\\Users\\AndRafi\\AppData\\Local\\Temp/ipykernel_16188/1838738779.py\"\u001b[1;36m, line \u001b[1;32m1\u001b[0m\n\u001b[1;33m    1st_var = 4\u001b[0m\n\u001b[1;37m     ^\u001b[0m\n\u001b[1;31mSyntaxError\u001b[0m\u001b[1;31m:\u001b[0m invalid syntax\n"
     ]
    }
   ],
   "source": [
    "1st_var = 4"
   ]
  },
  {
   "cell_type": "code",
   "execution_count": 25,
   "id": "73d2e4c7",
   "metadata": {},
   "outputs": [],
   "source": [
    "_var = 4"
   ]
  },
  {
   "cell_type": "code",
   "execution_count": 26,
   "id": "15aac725",
   "metadata": {},
   "outputs": [
    {
     "ename": "SyntaxError",
     "evalue": "invalid syntax (Temp/ipykernel_16188/823646212.py, line 1)",
     "output_type": "error",
     "traceback": [
      "\u001b[1;36m  File \u001b[1;32m\"C:\\Users\\AndRafi\\AppData\\Local\\Temp/ipykernel_16188/823646212.py\"\u001b[1;36m, line \u001b[1;32m1\u001b[0m\n\u001b[1;33m    def = 4\u001b[0m\n\u001b[1;37m        ^\u001b[0m\n\u001b[1;31mSyntaxError\u001b[0m\u001b[1;31m:\u001b[0m invalid syntax\n"
     ]
    }
   ],
   "source": [
    "def = 4"
   ]
  },
  {
   "cell_type": "markdown",
   "id": "12f457e6",
   "metadata": {},
   "source": [
    "## Types of Simple Variables in Python"
   ]
  },
  {
   "cell_type": "markdown",
   "id": "e25e3cda",
   "metadata": {},
   "source": [
    "We don't have to specify the types as we see above! However, we need to understand them and identify them.\n",
    "\n",
    "We have booleans (`bool`), integers (`int`), floats (`float`) and strings (`str`). We can test for their types using `type(.)`."
   ]
  },
  {
   "cell_type": "code",
   "execution_count": 27,
   "id": "b4d12f6c",
   "metadata": {},
   "outputs": [
    {
     "data": {
      "text/plain": [
       "bool"
      ]
     },
     "execution_count": 27,
     "metadata": {},
     "output_type": "execute_result"
    }
   ],
   "source": [
    "var = True\n",
    "type(var)"
   ]
  },
  {
   "cell_type": "code",
   "execution_count": 28,
   "id": "f03dd79a",
   "metadata": {},
   "outputs": [
    {
     "data": {
      "text/plain": [
       "bool"
      ]
     },
     "execution_count": 28,
     "metadata": {},
     "output_type": "execute_result"
    }
   ],
   "source": [
    "var = False\n",
    "type(var)"
   ]
  },
  {
   "cell_type": "code",
   "execution_count": 29,
   "id": "43d84c76",
   "metadata": {},
   "outputs": [
    {
     "data": {
      "text/plain": [
       "int"
      ]
     },
     "execution_count": 29,
     "metadata": {},
     "output_type": "execute_result"
    }
   ],
   "source": [
    "var = 5\n",
    "type(var)"
   ]
  },
  {
   "cell_type": "code",
   "execution_count": 31,
   "id": "4a1662b1",
   "metadata": {},
   "outputs": [
    {
     "data": {
      "text/plain": [
       "float"
      ]
     },
     "execution_count": 31,
     "metadata": {},
     "output_type": "execute_result"
    }
   ],
   "source": [
    "var = -5.5\n",
    "type(var)"
   ]
  },
  {
   "cell_type": "code",
   "execution_count": 32,
   "id": "581613e8",
   "metadata": {},
   "outputs": [
    {
     "data": {
      "text/plain": [
       "str"
      ]
     },
     "execution_count": 32,
     "metadata": {},
     "output_type": "execute_result"
    }
   ],
   "source": [
    "var = \"hello\"\n",
    "type(var)"
   ]
  },
  {
   "cell_type": "code",
   "execution_count": 33,
   "id": "b8415423",
   "metadata": {},
   "outputs": [
    {
     "data": {
      "text/plain": [
       "str"
      ]
     },
     "execution_count": 33,
     "metadata": {},
     "output_type": "execute_result"
    }
   ],
   "source": [
    "var = \"4\"\n",
    "type(var)"
   ]
  },
  {
   "cell_type": "code",
   "execution_count": 34,
   "id": "a8a007e1",
   "metadata": {},
   "outputs": [
    {
     "data": {
      "text/plain": [
       "'444'"
      ]
     },
     "execution_count": 34,
     "metadata": {},
     "output_type": "execute_result"
    }
   ],
   "source": [
    "var * 3"
   ]
  },
  {
   "cell_type": "code",
   "execution_count": 35,
   "id": "2dbe1031",
   "metadata": {
    "scrolled": true
   },
   "outputs": [
    {
     "data": {
      "text/plain": [
       "str"
      ]
     },
     "execution_count": 35,
     "metadata": {},
     "output_type": "execute_result"
    }
   ],
   "source": [
    "var = '4'\n",
    "type(var)"
   ]
  },
  {
   "cell_type": "markdown",
   "id": "a3a5a9f5",
   "metadata": {},
   "source": [
    "Double or single quotes is your choice, but Python prefers `'` over `\"`.\n",
    "\n",
    "Let's try to define a var with the value: `I'm happy`:"
   ]
  },
  {
   "cell_type": "code",
   "execution_count": 36,
   "id": "fcd22753",
   "metadata": {
    "scrolled": true
   },
   "outputs": [
    {
     "ename": "SyntaxError",
     "evalue": "invalid syntax (Temp/ipykernel_16188/881986287.py, line 1)",
     "output_type": "error",
     "traceback": [
      "\u001b[1;36m  File \u001b[1;32m\"C:\\Users\\AndRafi\\AppData\\Local\\Temp/ipykernel_16188/881986287.py\"\u001b[1;36m, line \u001b[1;32m1\u001b[0m\n\u001b[1;33m    var = 'I'm happy'\u001b[0m\n\u001b[1;37m             ^\u001b[0m\n\u001b[1;31mSyntaxError\u001b[0m\u001b[1;31m:\u001b[0m invalid syntax\n"
     ]
    }
   ],
   "source": [
    "var = 'I'm happy'\n",
    "var"
   ]
  },
  {
   "cell_type": "code",
   "execution_count": 37,
   "id": "56dcad4b",
   "metadata": {},
   "outputs": [
    {
     "data": {
      "text/plain": [
       "\"I'm happy\""
      ]
     },
     "execution_count": 37,
     "metadata": {},
     "output_type": "execute_result"
    }
   ],
   "source": [
    "var = \"I'm happy\"\n",
    "var"
   ]
  },
  {
   "cell_type": "code",
   "execution_count": 38,
   "id": "e17d0ea5",
   "metadata": {},
   "outputs": [
    {
     "data": {
      "text/plain": [
       "\"I like 'AMD'\""
      ]
     },
     "execution_count": 38,
     "metadata": {},
     "output_type": "execute_result"
    }
   ],
   "source": [
    "var = \"I like 'AMD'\"\n",
    "var"
   ]
  },
  {
   "cell_type": "code",
   "execution_count": 40,
   "id": "fa258543",
   "metadata": {},
   "outputs": [
    {
     "data": {
      "text/plain": [
       "\"I'm happy\""
      ]
     },
     "execution_count": 40,
     "metadata": {},
     "output_type": "execute_result"
    }
   ],
   "source": [
    "var = 'I\\'m happy'\n",
    "var"
   ]
  },
  {
   "cell_type": "markdown",
   "id": "1ed98c84",
   "metadata": {},
   "source": [
    "### Knowing your variables types makes a lot of difference"
   ]
  },
  {
   "cell_type": "markdown",
   "id": "a457e8fd",
   "metadata": {},
   "source": [
    "Especially if you are reading data from text files or CSV files!"
   ]
  },
  {
   "cell_type": "code",
   "execution_count": 41,
   "id": "27c6ee1c",
   "metadata": {},
   "outputs": [
    {
     "data": {
      "text/plain": [
       "10"
      ]
     },
     "execution_count": 41,
     "metadata": {},
     "output_type": "execute_result"
    }
   ],
   "source": [
    "4 + 6"
   ]
  },
  {
   "cell_type": "code",
   "execution_count": 42,
   "id": "e8dd7400",
   "metadata": {},
   "outputs": [
    {
     "data": {
      "text/plain": [
       "'46'"
      ]
     },
     "execution_count": 42,
     "metadata": {},
     "output_type": "execute_result"
    }
   ],
   "source": [
    "\"4\" + \"6\""
   ]
  },
  {
   "cell_type": "code",
   "execution_count": 43,
   "id": "e8a2a342",
   "metadata": {},
   "outputs": [
    {
     "data": {
      "text/plain": [
       "15"
      ]
     },
     "execution_count": 43,
     "metadata": {},
     "output_type": "execute_result"
    }
   ],
   "source": [
    "5 * 3"
   ]
  },
  {
   "cell_type": "code",
   "execution_count": 44,
   "id": "911f22b9",
   "metadata": {},
   "outputs": [
    {
     "data": {
      "text/plain": [
       "'555'"
      ]
     },
     "execution_count": 44,
     "metadata": {},
     "output_type": "execute_result"
    }
   ],
   "source": [
    "\"5\" * 3"
   ]
  },
  {
   "cell_type": "code",
   "execution_count": 45,
   "id": "e6cc5b94",
   "metadata": {},
   "outputs": [
    {
     "data": {
      "text/plain": [
       "'33333'"
      ]
     },
     "execution_count": 45,
     "metadata": {},
     "output_type": "execute_result"
    }
   ],
   "source": [
    "5 * \"3\""
   ]
  },
  {
   "cell_type": "code",
   "execution_count": 46,
   "id": "756b7948",
   "metadata": {},
   "outputs": [
    {
     "data": {
      "text/plain": [
       "8"
      ]
     },
     "execution_count": 46,
     "metadata": {},
     "output_type": "execute_result"
    }
   ],
   "source": [
    "2 ** 3"
   ]
  },
  {
   "cell_type": "code",
   "execution_count": 47,
   "id": "25fe1d11",
   "metadata": {},
   "outputs": [
    {
     "ename": "TypeError",
     "evalue": "unsupported operand type(s) for ** or pow(): 'int' and 'str'",
     "output_type": "error",
     "traceback": [
      "\u001b[1;31m---------------------------------------------------------------------------\u001b[0m",
      "\u001b[1;31mTypeError\u001b[0m                                 Traceback (most recent call last)",
      "\u001b[1;32m~\\AppData\\Local\\Temp/ipykernel_16188/1490463887.py\u001b[0m in \u001b[0;36m<module>\u001b[1;34m\u001b[0m\n\u001b[1;32m----> 1\u001b[1;33m \u001b[1;36m2\u001b[0m \u001b[1;33m**\u001b[0m \u001b[1;34m\"3\"\u001b[0m\u001b[1;33m\u001b[0m\u001b[1;33m\u001b[0m\u001b[0m\n\u001b[0m",
      "\u001b[1;31mTypeError\u001b[0m: unsupported operand type(s) for ** or pow(): 'int' and 'str'"
     ]
    }
   ],
   "source": [
    "2 ** \"3\""
   ]
  },
  {
   "cell_type": "markdown",
   "id": "fe153280",
   "metadata": {},
   "source": [
    "Note the difference in how the output is formulated, which helps you debug and develop your code:"
   ]
  },
  {
   "cell_type": "code",
   "execution_count": 48,
   "id": "ba757d86",
   "metadata": {},
   "outputs": [
    {
     "data": {
      "text/plain": [
       "int"
      ]
     },
     "execution_count": 48,
     "metadata": {},
     "output_type": "execute_result"
    }
   ],
   "source": [
    "type(2)"
   ]
  },
  {
   "cell_type": "code",
   "execution_count": 49,
   "id": "61810f5a",
   "metadata": {},
   "outputs": [
    {
     "data": {
      "text/plain": [
       "str"
      ]
     },
     "execution_count": 49,
     "metadata": {},
     "output_type": "execute_result"
    }
   ],
   "source": [
    "type(\"2\")"
   ]
  },
  {
   "cell_type": "code",
   "execution_count": 50,
   "id": "3b45eccd",
   "metadata": {},
   "outputs": [
    {
     "data": {
      "text/plain": [
       "str"
      ]
     },
     "execution_count": 50,
     "metadata": {},
     "output_type": "execute_result"
    }
   ],
   "source": [
    "type('2')"
   ]
  },
  {
   "cell_type": "code",
   "execution_count": 51,
   "id": "fd11fb40",
   "metadata": {},
   "outputs": [
    {
     "data": {
      "text/plain": [
       "float"
      ]
     },
     "execution_count": 51,
     "metadata": {},
     "output_type": "execute_result"
    }
   ],
   "source": [
    "type(2.0)"
   ]
  },
  {
   "cell_type": "markdown",
   "id": "488e8a4f",
   "metadata": {},
   "source": [
    "### Moving between variable types"
   ]
  },
  {
   "cell_type": "markdown",
   "id": "55cb732b",
   "metadata": {},
   "source": [
    "Sometimes we want to convert a variable from type to type.\n",
    "When you want to convert a variable from string to integer, you can use the data type keyword as function:"
   ]
  },
  {
   "cell_type": "code",
   "execution_count": 52,
   "id": "3b3c280e",
   "metadata": {},
   "outputs": [
    {
     "data": {
      "text/plain": [
       "5.0"
      ]
     },
     "execution_count": 52,
     "metadata": {},
     "output_type": "execute_result"
    }
   ],
   "source": [
    "var = 5.0\n",
    "var"
   ]
  },
  {
   "cell_type": "code",
   "execution_count": 53,
   "id": "31fc535b",
   "metadata": {},
   "outputs": [
    {
     "data": {
      "text/plain": [
       "'5.0'"
      ]
     },
     "execution_count": 53,
     "metadata": {},
     "output_type": "execute_result"
    }
   ],
   "source": [
    "str(var)"
   ]
  },
  {
   "cell_type": "code",
   "execution_count": 54,
   "id": "f1d898b1",
   "metadata": {},
   "outputs": [
    {
     "data": {
      "text/plain": [
       "'5'"
      ]
     },
     "execution_count": 54,
     "metadata": {},
     "output_type": "execute_result"
    }
   ],
   "source": [
    "str(int(var))"
   ]
  },
  {
   "cell_type": "code",
   "execution_count": 55,
   "id": "a8732e90",
   "metadata": {},
   "outputs": [
    {
     "data": {
      "text/plain": [
       "6.0"
      ]
     },
     "execution_count": 55,
     "metadata": {},
     "output_type": "execute_result"
    }
   ],
   "source": [
    "var = \"6\"\n",
    "float(var)"
   ]
  },
  {
   "cell_type": "code",
   "execution_count": 56,
   "id": "8bd49f42",
   "metadata": {
    "scrolled": true
   },
   "outputs": [
    {
     "data": {
      "text/plain": [
       "-6"
      ]
     },
     "execution_count": 56,
     "metadata": {},
     "output_type": "execute_result"
    }
   ],
   "source": [
    "var = \"-6\"\n",
    "int(var)"
   ]
  },
  {
   "cell_type": "code",
   "execution_count": 57,
   "id": "6a2ec330",
   "metadata": {},
   "outputs": [
    {
     "data": {
      "text/plain": [
       "-6.0"
      ]
     },
     "execution_count": 57,
     "metadata": {},
     "output_type": "execute_result"
    }
   ],
   "source": [
    "float(var)"
   ]
  },
  {
   "cell_type": "code",
   "execution_count": 58,
   "id": "c9a739d6",
   "metadata": {},
   "outputs": [
    {
     "data": {
      "text/plain": [
       "-6.787232"
      ]
     },
     "execution_count": 58,
     "metadata": {},
     "output_type": "execute_result"
    }
   ],
   "source": [
    "var = \"-6.787232\"\n",
    "float(var)"
   ]
  },
  {
   "cell_type": "code",
   "execution_count": 59,
   "id": "152b45f5",
   "metadata": {
    "scrolled": true
   },
   "outputs": [
    {
     "ename": "ValueError",
     "evalue": "invalid literal for int() with base 10: '-6.787232'",
     "output_type": "error",
     "traceback": [
      "\u001b[1;31m---------------------------------------------------------------------------\u001b[0m",
      "\u001b[1;31mValueError\u001b[0m                                Traceback (most recent call last)",
      "\u001b[1;32m~\\AppData\\Local\\Temp/ipykernel_16188/2269922384.py\u001b[0m in \u001b[0;36m<module>\u001b[1;34m\u001b[0m\n\u001b[1;32m----> 1\u001b[1;33m \u001b[0mint\u001b[0m\u001b[1;33m(\u001b[0m\u001b[0mvar\u001b[0m\u001b[1;33m)\u001b[0m\u001b[1;33m\u001b[0m\u001b[1;33m\u001b[0m\u001b[0m\n\u001b[0m",
      "\u001b[1;31mValueError\u001b[0m: invalid literal for int() with base 10: '-6.787232'"
     ]
    }
   ],
   "source": [
    "int(var)"
   ]
  },
  {
   "cell_type": "code",
   "execution_count": 60,
   "id": "42b5603d",
   "metadata": {},
   "outputs": [
    {
     "data": {
      "text/plain": [
       "-6"
      ]
     },
     "execution_count": 60,
     "metadata": {},
     "output_type": "execute_result"
    }
   ],
   "source": [
    "int(float(var))"
   ]
  },
  {
   "cell_type": "code",
   "execution_count": 61,
   "id": "e156a7ba",
   "metadata": {},
   "outputs": [
    {
     "ename": "ValueError",
     "evalue": "invalid literal for int() with base 10: '6.x'",
     "output_type": "error",
     "traceback": [
      "\u001b[1;31m---------------------------------------------------------------------------\u001b[0m",
      "\u001b[1;31mValueError\u001b[0m                                Traceback (most recent call last)",
      "\u001b[1;32m~\\AppData\\Local\\Temp/ipykernel_16188/1954339744.py\u001b[0m in \u001b[0;36m<module>\u001b[1;34m\u001b[0m\n\u001b[0;32m      1\u001b[0m \u001b[0mvar\u001b[0m \u001b[1;33m=\u001b[0m \u001b[1;34m\"6.x\"\u001b[0m\u001b[1;33m\u001b[0m\u001b[1;33m\u001b[0m\u001b[0m\n\u001b[1;32m----> 2\u001b[1;33m \u001b[0mint\u001b[0m\u001b[1;33m(\u001b[0m\u001b[0mvar\u001b[0m\u001b[1;33m)\u001b[0m\u001b[1;33m\u001b[0m\u001b[1;33m\u001b[0m\u001b[0m\n\u001b[0m",
      "\u001b[1;31mValueError\u001b[0m: invalid literal for int() with base 10: '6.x'"
     ]
    }
   ],
   "source": [
    "var = \"6.x\"\n",
    "int(var)"
   ]
  },
  {
   "cell_type": "code",
   "execution_count": 62,
   "id": "469e144c",
   "metadata": {},
   "outputs": [
    {
     "data": {
      "text/plain": [
       "bool"
      ]
     },
     "execution_count": 62,
     "metadata": {},
     "output_type": "execute_result"
    }
   ],
   "source": [
    "var = 5 > 4\n",
    "type(var)"
   ]
  },
  {
   "cell_type": "code",
   "execution_count": 63,
   "id": "cb5817ac",
   "metadata": {},
   "outputs": [
    {
     "data": {
      "text/plain": [
       "True"
      ]
     },
     "execution_count": 63,
     "metadata": {},
     "output_type": "execute_result"
    }
   ],
   "source": [
    "var"
   ]
  },
  {
   "cell_type": "code",
   "execution_count": 64,
   "id": "557abe2e",
   "metadata": {},
   "outputs": [
    {
     "data": {
      "text/plain": [
       "1"
      ]
     },
     "execution_count": 64,
     "metadata": {},
     "output_type": "execute_result"
    }
   ],
   "source": [
    "int(var)"
   ]
  },
  {
   "cell_type": "code",
   "execution_count": 65,
   "id": "04ced181",
   "metadata": {},
   "outputs": [
    {
     "data": {
      "text/plain": [
       "0"
      ]
     },
     "execution_count": 65,
     "metadata": {},
     "output_type": "execute_result"
    }
   ],
   "source": [
    "int(False)"
   ]
  },
  {
   "cell_type": "code",
   "execution_count": 66,
   "id": "2fa67ecd",
   "metadata": {},
   "outputs": [
    {
     "name": "stdout",
     "output_type": "stream",
     "text": [
      "5\n"
     ]
    },
    {
     "data": {
      "text/plain": [
       "int"
      ]
     },
     "execution_count": 66,
     "metadata": {},
     "output_type": "execute_result"
    }
   ],
   "source": [
    "var = True + 4\n",
    "print(var)\n",
    "type(var)"
   ]
  },
  {
   "cell_type": "code",
   "execution_count": 67,
   "id": "737e1fce",
   "metadata": {},
   "outputs": [
    {
     "data": {
      "text/plain": [
       "False"
      ]
     },
     "execution_count": 67,
     "metadata": {},
     "output_type": "execute_result"
    }
   ],
   "source": [
    "var = 0\n",
    "bool(0)"
   ]
  },
  {
   "cell_type": "code",
   "execution_count": 68,
   "id": "7a1c94e2",
   "metadata": {},
   "outputs": [
    {
     "data": {
      "text/plain": [
       "True"
      ]
     },
     "execution_count": 68,
     "metadata": {},
     "output_type": "execute_result"
    }
   ],
   "source": [
    "var = 1\n",
    "bool(1)"
   ]
  },
  {
   "cell_type": "code",
   "execution_count": 69,
   "id": "a8733203",
   "metadata": {},
   "outputs": [
    {
     "data": {
      "text/plain": [
       "True"
      ]
     },
     "execution_count": 69,
     "metadata": {},
     "output_type": "execute_result"
    }
   ],
   "source": [
    "var = 3\n",
    "bool(var)"
   ]
  },
  {
   "cell_type": "code",
   "execution_count": 70,
   "id": "03854d83",
   "metadata": {},
   "outputs": [
    {
     "data": {
      "text/plain": [
       "True"
      ]
     },
     "execution_count": 70,
     "metadata": {},
     "output_type": "execute_result"
    }
   ],
   "source": [
    "var = 3.4\n",
    "bool(var)"
   ]
  },
  {
   "cell_type": "code",
   "execution_count": 71,
   "id": "db89bb23",
   "metadata": {},
   "outputs": [
    {
     "data": {
      "text/plain": [
       "False"
      ]
     },
     "execution_count": 71,
     "metadata": {},
     "output_type": "execute_result"
    }
   ],
   "source": [
    "var = 0\n",
    "bool(0)"
   ]
  },
  {
   "cell_type": "code",
   "execution_count": 72,
   "id": "109eadc4",
   "metadata": {},
   "outputs": [
    {
     "data": {
      "text/plain": [
       "True"
      ]
     },
     "execution_count": 72,
     "metadata": {},
     "output_type": "execute_result"
    }
   ],
   "source": [
    "bool(-1)"
   ]
  },
  {
   "cell_type": "code",
   "execution_count": 73,
   "id": "429f6891",
   "metadata": {},
   "outputs": [
    {
     "data": {
      "text/plain": [
       "NoneType"
      ]
     },
     "execution_count": 73,
     "metadata": {},
     "output_type": "execute_result"
    }
   ],
   "source": [
    "var = None\n",
    "type(var)"
   ]
  },
  {
   "cell_type": "code",
   "execution_count": 74,
   "id": "2647f1bc",
   "metadata": {},
   "outputs": [
    {
     "data": {
      "text/plain": [
       "False"
      ]
     },
     "execution_count": 74,
     "metadata": {},
     "output_type": "execute_result"
    }
   ],
   "source": [
    "bool(var)"
   ]
  },
  {
   "cell_type": "markdown",
   "id": "b4054327",
   "metadata": {},
   "source": [
    "**So:**\n",
    "- Anything greater other than zero evaluates to `True` boolean value in Python\n",
    "- Zeros and `None` evaluate to `False`. `None` **is when our variable is defined, but has no value in it**, i.e. not initialised → very useful check!\n",
    "- Any comparison is a boolean in itself → important to understand"
   ]
  },
  {
   "cell_type": "markdown",
   "id": "da7a9fe3",
   "metadata": {},
   "source": [
    "### String variables are cool"
   ]
  },
  {
   "cell_type": "markdown",
   "id": "5a2dd2cd",
   "metadata": {},
   "source": [
    "String variables in Python have many useful functions and perks.\n",
    "- They can span multiple lines\n",
    "- They can include special characters (indicators of special cases), like:\n",
    "    - `\\n` the new line special character\n",
    "    - `\\t` the tab charachter\n",
    "    - `\\` the escape character if preceds a special case, to deactivate special cases of what follows\n",
    "- They have two useful kinds: raw strings and formatted strings"
   ]
  },
  {
   "cell_type": "code",
   "execution_count": 75,
   "id": "bebd214e",
   "metadata": {},
   "outputs": [
    {
     "name": "stdout",
     "output_type": "stream",
     "text": [
      "Here is my first line,\n",
      "And my second,\n",
      "and what about a third one?! why not!\n"
     ]
    }
   ],
   "source": [
    "var = \"\"\"Here is my first line,\n",
    "And my second,\n",
    "and what about a third one?! why not!\"\"\"\n",
    "print(var)"
   ]
  },
  {
   "cell_type": "code",
   "execution_count": 76,
   "id": "05692f08",
   "metadata": {},
   "outputs": [
    {
     "name": "stdout",
     "output_type": "stream",
     "text": [
      "Here is line1,\n",
      "And line 2,\n",
      "And three!\n"
     ]
    }
   ],
   "source": [
    "var = \"Here is line1,\\nAnd line 2,\\nAnd three!\"\n",
    "print(var)"
   ]
  },
  {
   "cell_type": "code",
   "execution_count": 77,
   "id": "cb85e766",
   "metadata": {},
   "outputs": [
    {
     "data": {
      "text/plain": [
       "'Here is line1,\\nAnd line 2,\\nAnd three!'"
      ]
     },
     "execution_count": 77,
     "metadata": {},
     "output_type": "execute_result"
    }
   ],
   "source": [
    "var"
   ]
  },
  {
   "cell_type": "code",
   "execution_count": 78,
   "id": "ff935a30",
   "metadata": {},
   "outputs": [
    {
     "name": "stdout",
     "output_type": "stream",
     "text": [
      "Name:\tRafi\n",
      "Origin:\tEarth\n"
     ]
    }
   ],
   "source": [
    "var = \"\"\"Name:\\tRafi\n",
    "Origin:\\tEarth\"\"\"\n",
    "print(var)"
   ]
  },
  {
   "cell_type": "code",
   "execution_count": 79,
   "id": "2ebd2e8b",
   "metadata": {},
   "outputs": [
    {
     "name": "stdout",
     "output_type": "stream",
     "text": [
      "Name:\tRafi\n",
      "Origin:\\tEarth\n"
     ]
    }
   ],
   "source": [
    "var = \"\"\"Name:\\tRafi\n",
    "Origin:\\\\tEarth\"\"\"\n",
    "print(var)"
   ]
  },
  {
   "cell_type": "markdown",
   "id": "2399e696",
   "metadata": {},
   "source": [
    "As you see, we can deactivate the special functionality of `\\` manually. This is sometimes tedious, like when defining filepaths on Windows:"
   ]
  },
  {
   "cell_type": "code",
   "execution_count": 81,
   "id": "6849d68e",
   "metadata": {},
   "outputs": [
    {
     "name": "stdout",
     "output_type": "stream",
     "text": [
      "D:\\repo\\python_fundamentals_workshop\\hello.txt\n"
     ]
    }
   ],
   "source": [
    "file_path = \"D:\\\\repo\\\\python_fundamentals_workshop\\\\hello.txt\"\n",
    "print(file_path)"
   ]
  },
  {
   "cell_type": "markdown",
   "id": "4088c74b",
   "metadata": {},
   "source": [
    "That's when you use raw strings! Just an `r` before starting the string:"
   ]
  },
  {
   "cell_type": "code",
   "execution_count": 82,
   "id": "ba4e633e",
   "metadata": {},
   "outputs": [
    {
     "name": "stdout",
     "output_type": "stream",
     "text": [
      "D:\\repo\\python_fundamentals_workshop\\hello.txt\n"
     ]
    }
   ],
   "source": [
    "file_path = r\"D:\\repo\\python_fundamentals_workshop\\hello.txt\"\n",
    "print(file_path)"
   ]
  },
  {
   "cell_type": "markdown",
   "id": "f298c32e",
   "metadata": {},
   "source": [
    "Finally, there are a lot of things to apply on string variables. Try to press `.` at the end of a string variable and check them up, or maybe see [this resource](https://www.w3schools.com/python/python_ref_string.asp)."
   ]
  },
  {
   "cell_type": "code",
   "execution_count": 83,
   "id": "c7f71c17",
   "metadata": {},
   "outputs": [
    {
     "data": {
      "text/plain": [
       "'    This Is My String   '"
      ]
     },
     "execution_count": 83,
     "metadata": {},
     "output_type": "execute_result"
    }
   ],
   "source": [
    "var = \"    This Is My String   \"\n",
    "var"
   ]
  },
  {
   "cell_type": "code",
   "execution_count": 84,
   "id": "2badc9f4",
   "metadata": {},
   "outputs": [
    {
     "data": {
      "text/plain": [
       "'    this is my string   '"
      ]
     },
     "execution_count": 84,
     "metadata": {},
     "output_type": "execute_result"
    }
   ],
   "source": [
    "var.lower()"
   ]
  },
  {
   "cell_type": "code",
   "execution_count": 85,
   "id": "52fb979f",
   "metadata": {},
   "outputs": [
    {
     "data": {
      "text/plain": [
       "'    THIS IS MY STRING   '"
      ]
     },
     "execution_count": 85,
     "metadata": {},
     "output_type": "execute_result"
    }
   ],
   "source": [
    "var.upper()"
   ]
  },
  {
   "cell_type": "code",
   "execution_count": 86,
   "id": "bb6a8b2a",
   "metadata": {},
   "outputs": [
    {
     "data": {
      "text/plain": [
       "'This Is My String'"
      ]
     },
     "execution_count": 86,
     "metadata": {},
     "output_type": "execute_result"
    }
   ],
   "source": [
    "var.strip()"
   ]
  },
  {
   "cell_type": "code",
   "execution_count": 87,
   "id": "90604854",
   "metadata": {},
   "outputs": [
    {
     "data": {
      "text/plain": [
       "'this is my string'"
      ]
     },
     "execution_count": 87,
     "metadata": {},
     "output_type": "execute_result"
    }
   ],
   "source": [
    "var.strip().lower()"
   ]
  },
  {
   "cell_type": "markdown",
   "id": "d66eb6a0",
   "metadata": {},
   "source": [
    "#### Formatting Strings using other Variables"
   ]
  },
  {
   "cell_type": "markdown",
   "id": "2ca91f10",
   "metadata": {},
   "source": [
    "There are many ways to print variable values within strings. Let's assume we want to print a greeting to someone.\n",
    "We will use `input` to get the user's name from them."
   ]
  },
  {
   "cell_type": "code",
   "execution_count": 88,
   "id": "3b7372eb",
   "metadata": {},
   "outputs": [
    {
     "name": "stdout",
     "output_type": "stream",
     "text": [
      "What is your name?Raafi\n"
     ]
    }
   ],
   "source": [
    "your_name = input(\"What is your name?\")"
   ]
  },
  {
   "cell_type": "code",
   "execution_count": 89,
   "id": "e8e03a81",
   "metadata": {},
   "outputs": [
    {
     "name": "stdout",
     "output_type": "stream",
     "text": [
      "Welcome Raafi to our workshop!\n"
     ]
    }
   ],
   "source": [
    "print(\"Welcome\", your_name, \"to our workshop!\")"
   ]
  },
  {
   "cell_type": "markdown",
   "id": "5a00b419",
   "metadata": {},
   "source": [
    "A neater and more efficient way is to use formatted strings! Like raw strings, you just put an `f` for formatted before the string:"
   ]
  },
  {
   "cell_type": "code",
   "execution_count": 90,
   "id": "fac2fcec",
   "metadata": {},
   "outputs": [
    {
     "name": "stdout",
     "output_type": "stream",
     "text": [
      "Welcome Raafi!\n"
     ]
    }
   ],
   "source": [
    "print(f\"Welcome {your_name}!\")"
   ]
  },
  {
   "cell_type": "code",
   "execution_count": 91,
   "id": "0c394462",
   "metadata": {},
   "outputs": [
    {
     "name": "stdout",
     "output_type": "stream",
     "text": [
      "Welcome RaafiRaafiRaafi!\n"
     ]
    }
   ],
   "source": [
    "print(f\"Welcome {your_name*3}!\")"
   ]
  },
  {
   "cell_type": "markdown",
   "id": "ceae1b7d",
   "metadata": {},
   "source": [
    "---"
   ]
  },
  {
   "cell_type": "markdown",
   "id": "5b395286",
   "metadata": {},
   "source": [
    "# More complex variables"
   ]
  },
  {
   "cell_type": "markdown",
   "id": "5486f52c",
   "metadata": {},
   "source": [
    "What if we want a group of vairable that are linked to each other?\n",
    "\n",
    "Your **address** is one such kind of data: you have a post code, a city, a street and a house number. Till now, we would define it as:"
   ]
  },
  {
   "cell_type": "code",
   "execution_count": 93,
   "id": "d8b47af4",
   "metadata": {},
   "outputs": [],
   "source": [
    "postcode = \"A45 3SA\"\n",
    "street = \"Victoria road\"\n",
    "house_number = 33\n",
    "city = \"Birmingham\""
   ]
  },
  {
   "cell_type": "markdown",
   "id": "3651e70b",
   "metadata": {},
   "source": [
    "A bit messy. However, we can group these in a more complex data types:\n",
    "- Tuple\n",
    "- List\n",
    "- Set\n",
    "- Dictionary\n",
    "\n",
    "When to choose each one though?\n",
    "\n",
    "| Data Type | Allows Duplicates | Ordered | Can change its contents (mutable) |\n",
    "| --- | --- | --- | --- |\n",
    "| Tuple | Yes | Yes | No|\n",
    "| List | Yes | Yes | Yes|\n",
    "| Set | No| No| \"Yes\"|\n",
    "\n",
    "Dictionary is more specific: you store `key:value` pairs inside.\n",
    "Keys must be a basic data type or something that can be used as key because **it doesn't change its internal contents**: like `int`, `str` or maybe `tuple` (In other words, keys **must be immutable**).\n"
   ]
  },
  {
   "cell_type": "markdown",
   "id": "0876c1c1",
   "metadata": {},
   "source": [
    "Getting back to our address example, which one to choose?\n",
    "- My address won't change\n",
    "- The order matters\n",
    "- Duplicates are OK\n",
    "\n",
    "→ A Tuple!\n",
    "Also: a tuple is faster and more memory efficient than lists, and it has fixed number of members."
   ]
  },
  {
   "cell_type": "markdown",
   "id": "8c158a78",
   "metadata": {},
   "source": [
    "► *Do you have examples of when to use lists or sets?*"
   ]
  },
  {
   "cell_type": "markdown",
   "id": "51b5304e",
   "metadata": {},
   "source": [
    "## Tuples: define them with brackets `(` `)`"
   ]
  },
  {
   "cell_type": "code",
   "execution_count": 94,
   "id": "6a634a36",
   "metadata": {},
   "outputs": [
    {
     "data": {
      "text/plain": [
       "(33, 'Victoria road', 'Birmingham', 'A45 3SA')"
      ]
     },
     "execution_count": 94,
     "metadata": {},
     "output_type": "execute_result"
    }
   ],
   "source": [
    "address = (house_number, street, city, postcode)\n",
    "address"
   ]
  },
  {
   "cell_type": "code",
   "execution_count": 95,
   "id": "3172f5c1",
   "metadata": {},
   "outputs": [
    {
     "data": {
      "text/plain": [
       "'Birmingham'"
      ]
     },
     "execution_count": 95,
     "metadata": {},
     "output_type": "execute_result"
    }
   ],
   "source": [
    "address[2]"
   ]
  },
  {
   "cell_type": "code",
   "execution_count": 96,
   "id": "ebb6508b",
   "metadata": {},
   "outputs": [
    {
     "name": "stdout",
     "output_type": "stream",
     "text": [
      "33 Victoria road\n",
      "Birmingham A45 3SA\n"
     ]
    }
   ],
   "source": [
    "# We can extract tuple's data in one shot!\n",
    "nbr, strt, cty, pcode = address\n",
    "print(f\"\"\"{nbr} {strt}\n",
    "{cty} {pcode}\"\"\")"
   ]
  },
  {
   "cell_type": "code",
   "execution_count": 97,
   "id": "2049ecec",
   "metadata": {
    "scrolled": false
   },
   "outputs": [
    {
     "ename": "TypeError",
     "evalue": "'tuple' object does not support item assignment",
     "output_type": "error",
     "traceback": [
      "\u001b[1;31m---------------------------------------------------------------------------\u001b[0m",
      "\u001b[1;31mTypeError\u001b[0m                                 Traceback (most recent call last)",
      "\u001b[1;32m~\\AppData\\Local\\Temp/ipykernel_16188/2714373041.py\u001b[0m in \u001b[0;36m<module>\u001b[1;34m\u001b[0m\n\u001b[1;32m----> 1\u001b[1;33m \u001b[0maddress\u001b[0m\u001b[1;33m[\u001b[0m\u001b[1;36m2\u001b[0m\u001b[1;33m]\u001b[0m \u001b[1;33m=\u001b[0m \u001b[1;34m\"London\"\u001b[0m\u001b[1;33m\u001b[0m\u001b[1;33m\u001b[0m\u001b[0m\n\u001b[0m",
      "\u001b[1;31mTypeError\u001b[0m: 'tuple' object does not support item assignment"
     ]
    }
   ],
   "source": [
    "address[2] = \"London\""
   ]
  },
  {
   "cell_type": "code",
   "execution_count": 98,
   "id": "1035a4a4",
   "metadata": {},
   "outputs": [
    {
     "ename": "AttributeError",
     "evalue": "'tuple' object has no attribute 'append'",
     "output_type": "error",
     "traceback": [
      "\u001b[1;31m---------------------------------------------------------------------------\u001b[0m",
      "\u001b[1;31mAttributeError\u001b[0m                            Traceback (most recent call last)",
      "\u001b[1;32m~\\AppData\\Local\\Temp/ipykernel_16188/2173436666.py\u001b[0m in \u001b[0;36m<module>\u001b[1;34m\u001b[0m\n\u001b[1;32m----> 1\u001b[1;33m \u001b[0maddress\u001b[0m\u001b[1;33m.\u001b[0m\u001b[0mappend\u001b[0m\u001b[1;33m(\u001b[0m\u001b[1;34m\"Earth\"\u001b[0m\u001b[1;33m)\u001b[0m\u001b[1;33m\u001b[0m\u001b[1;33m\u001b[0m\u001b[0m\n\u001b[0m",
      "\u001b[1;31mAttributeError\u001b[0m: 'tuple' object has no attribute 'append'"
     ]
    }
   ],
   "source": [
    "address.append(\"Earth\")"
   ]
  },
  {
   "cell_type": "code",
   "execution_count": 99,
   "id": "c5a9f4a4",
   "metadata": {},
   "outputs": [
    {
     "data": {
      "text/plain": [
       "tuple"
      ]
     },
     "execution_count": 99,
     "metadata": {},
     "output_type": "execute_result"
    }
   ],
   "source": [
    "type(address)"
   ]
  },
  {
   "cell_type": "markdown",
   "id": "6a335951",
   "metadata": {},
   "source": [
    "## Lists: define them with square brackets `[` `]`"
   ]
  },
  {
   "cell_type": "code",
   "execution_count": 100,
   "id": "db135bde",
   "metadata": {},
   "outputs": [
    {
     "data": {
      "text/plain": [
       "['Tom', 'John', 'Peter', 'Luke', 'Sam']"
      ]
     },
     "execution_count": 100,
     "metadata": {},
     "output_type": "execute_result"
    }
   ],
   "source": [
    "queue = [\"Tom\", \"John\", \"Peter\", \"Luke\", \"Sam\"]\n",
    "queue"
   ]
  },
  {
   "cell_type": "code",
   "execution_count": 101,
   "id": "f120fe36",
   "metadata": {},
   "outputs": [
    {
     "data": {
      "text/plain": [
       "'Luke'"
      ]
     },
     "execution_count": 101,
     "metadata": {},
     "output_type": "execute_result"
    }
   ],
   "source": [
    "queue[3]"
   ]
  },
  {
   "cell_type": "code",
   "execution_count": 102,
   "id": "30927816",
   "metadata": {},
   "outputs": [
    {
     "ename": "IndexError",
     "evalue": "list index out of range",
     "output_type": "error",
     "traceback": [
      "\u001b[1;31m---------------------------------------------------------------------------\u001b[0m",
      "\u001b[1;31mIndexError\u001b[0m                                Traceback (most recent call last)",
      "\u001b[1;32m~\\AppData\\Local\\Temp/ipykernel_16188/2683303199.py\u001b[0m in \u001b[0;36m<module>\u001b[1;34m\u001b[0m\n\u001b[1;32m----> 1\u001b[1;33m \u001b[0mqueue\u001b[0m\u001b[1;33m[\u001b[0m\u001b[1;36m5\u001b[0m\u001b[1;33m]\u001b[0m\u001b[1;33m\u001b[0m\u001b[1;33m\u001b[0m\u001b[0m\n\u001b[0m",
      "\u001b[1;31mIndexError\u001b[0m: list index out of range"
     ]
    }
   ],
   "source": [
    "queue[5]"
   ]
  },
  {
   "cell_type": "code",
   "execution_count": 103,
   "id": "c8b58757",
   "metadata": {},
   "outputs": [
    {
     "data": {
      "text/plain": [
       "'Sam'"
      ]
     },
     "execution_count": 103,
     "metadata": {},
     "output_type": "execute_result"
    }
   ],
   "source": [
    "queue[-1]"
   ]
  },
  {
   "cell_type": "code",
   "execution_count": 104,
   "id": "c93bf5fa",
   "metadata": {},
   "outputs": [
    {
     "data": {
      "text/plain": [
       "'Peter'"
      ]
     },
     "execution_count": 104,
     "metadata": {},
     "output_type": "execute_result"
    }
   ],
   "source": [
    "queue[-3]"
   ]
  },
  {
   "cell_type": "markdown",
   "id": "c88d2058",
   "metadata": {},
   "source": [
    "Slicing with lists"
   ]
  },
  {
   "cell_type": "code",
   "execution_count": 105,
   "id": "1ed70dda",
   "metadata": {},
   "outputs": [
    {
     "data": {
      "text/plain": [
       "['Tom', 'John', 'Peter', 'Luke', 'Sam']"
      ]
     },
     "execution_count": 105,
     "metadata": {},
     "output_type": "execute_result"
    }
   ],
   "source": [
    "queue[:]"
   ]
  },
  {
   "cell_type": "code",
   "execution_count": 106,
   "id": "7d37afb7",
   "metadata": {},
   "outputs": [
    {
     "data": {
      "text/plain": [
       "['John', 'Peter']"
      ]
     },
     "execution_count": 106,
     "metadata": {},
     "output_type": "execute_result"
    }
   ],
   "source": [
    "queue[1:3]"
   ]
  },
  {
   "cell_type": "code",
   "execution_count": 107,
   "id": "81c354ca",
   "metadata": {},
   "outputs": [
    {
     "data": {
      "text/plain": [
       "['Peter', 'Luke', 'Sam']"
      ]
     },
     "execution_count": 107,
     "metadata": {},
     "output_type": "execute_result"
    }
   ],
   "source": [
    "queue[2:]"
   ]
  },
  {
   "cell_type": "code",
   "execution_count": 108,
   "id": "306e037f",
   "metadata": {},
   "outputs": [
    {
     "data": {
      "text/plain": [
       "['Tom', 'John', 'Peter']"
      ]
     },
     "execution_count": 108,
     "metadata": {},
     "output_type": "execute_result"
    }
   ],
   "source": [
    "queue[:3]"
   ]
  },
  {
   "cell_type": "code",
   "execution_count": 109,
   "id": "202917bb",
   "metadata": {},
   "outputs": [
    {
     "ename": "TypeError",
     "evalue": "list indices must be integers or slices, not tuple",
     "output_type": "error",
     "traceback": [
      "\u001b[1;31m---------------------------------------------------------------------------\u001b[0m",
      "\u001b[1;31mTypeError\u001b[0m                                 Traceback (most recent call last)",
      "\u001b[1;32m~\\AppData\\Local\\Temp/ipykernel_16188/2749274440.py\u001b[0m in \u001b[0;36m<module>\u001b[1;34m\u001b[0m\n\u001b[1;32m----> 1\u001b[1;33m \u001b[0mqueue\u001b[0m\u001b[1;33m[\u001b[0m\u001b[1;36m2\u001b[0m\u001b[1;33m,\u001b[0m\u001b[1;36m3\u001b[0m\u001b[1;33m,\u001b[0m\u001b[1;36m4\u001b[0m\u001b[1;33m]\u001b[0m\u001b[1;33m\u001b[0m\u001b[1;33m\u001b[0m\u001b[0m\n\u001b[0m",
      "\u001b[1;31mTypeError\u001b[0m: list indices must be integers or slices, not tuple"
     ]
    }
   ],
   "source": [
    "queue[2,3,4]"
   ]
  },
  {
   "cell_type": "code",
   "execution_count": 110,
   "id": "5e3a7d81",
   "metadata": {},
   "outputs": [
    {
     "data": {
      "text/plain": [
       "['Tom', 'John', 'Peter', 'Luke', 'Sam', 'Aaron']"
      ]
     },
     "execution_count": 110,
     "metadata": {},
     "output_type": "execute_result"
    }
   ],
   "source": [
    "# We can change the contents of the queue because it is mutable!\n",
    "queue.append(\"Aaron\")\n",
    "queue"
   ]
  },
  {
   "cell_type": "code",
   "execution_count": 111,
   "id": "5c78f10d",
   "metadata": {},
   "outputs": [
    {
     "data": {
      "text/plain": [
       "['Tom',\n",
       " 'John',\n",
       " 'Peter',\n",
       " 'Luke',\n",
       " 'Sam',\n",
       " 'Aaron',\n",
       " ['Bridget', 'Valerie', 'Mary']]"
      ]
     },
     "execution_count": 111,
     "metadata": {},
     "output_type": "execute_result"
    }
   ],
   "source": [
    "# Let's imagine we have a new line of people at the door\n",
    "new_people = [\"Bridget\", \"Valerie\", \"Mary\"]\n",
    "queue.append(new_people)\n",
    "queue"
   ]
  },
  {
   "cell_type": "code",
   "execution_count": 112,
   "id": "89015911",
   "metadata": {},
   "outputs": [
    {
     "ename": "AttributeError",
     "evalue": "'NoneType' object has no attribute 'append'",
     "output_type": "error",
     "traceback": [
      "\u001b[1;31m---------------------------------------------------------------------------\u001b[0m",
      "\u001b[1;31mAttributeError\u001b[0m                            Traceback (most recent call last)",
      "\u001b[1;32m~\\AppData\\Local\\Temp/ipykernel_16188/803657733.py\u001b[0m in \u001b[0;36m<module>\u001b[1;34m\u001b[0m\n\u001b[1;32m----> 1\u001b[1;33m \u001b[0mqueue\u001b[0m\u001b[1;33m.\u001b[0m\u001b[0mappend\u001b[0m\u001b[1;33m(\u001b[0m\u001b[1;34m\"Mary\"\u001b[0m\u001b[1;33m)\u001b[0m\u001b[1;33m.\u001b[0m\u001b[0mappend\u001b[0m\u001b[1;33m(\u001b[0m\u001b[1;34m\"Valerie\"\u001b[0m\u001b[1;33m)\u001b[0m\u001b[1;33m\u001b[0m\u001b[1;33m\u001b[0m\u001b[0m\n\u001b[0m\u001b[0;32m      2\u001b[0m \u001b[0mqueue\u001b[0m\u001b[1;33m\u001b[0m\u001b[1;33m\u001b[0m\u001b[0m\n",
      "\u001b[1;31mAttributeError\u001b[0m: 'NoneType' object has no attribute 'append'"
     ]
    }
   ],
   "source": [
    "queue.append(\"Mary\").append(\"Valerie\")\n",
    "queue"
   ]
  },
  {
   "cell_type": "code",
   "execution_count": 113,
   "id": "a87186f4",
   "metadata": {},
   "outputs": [
    {
     "data": {
      "text/plain": [
       "['Tom', 'John', 'Peter', 'Luke', 'Sam', 'Bridget', 'Valerie', 'Mary']"
      ]
     },
     "execution_count": 113,
     "metadata": {},
     "output_type": "execute_result"
    }
   ],
   "source": [
    "queue = [\"Tom\", \"John\", \"Peter\", \"Luke\", \"Sam\"]\n",
    "queue.extend(new_people)\n",
    "queue"
   ]
  },
  {
   "cell_type": "code",
   "execution_count": 114,
   "id": "196e95c7",
   "metadata": {},
   "outputs": [
    {
     "data": {
      "text/plain": [
       "['Tom', 'John', 'Peter', 'Luke', 'Sam', 'Bridget', 'Valerie', 'Mary']"
      ]
     },
     "execution_count": 114,
     "metadata": {},
     "output_type": "execute_result"
    }
   ],
   "source": [
    "# Can use basic operations on lists\n",
    "queue = [\"Tom\", \"John\", \"Peter\", \"Luke\", \"Sam\"]\n",
    "queue + new_people"
   ]
  },
  {
   "cell_type": "code",
   "execution_count": 115,
   "id": "5295d1ac",
   "metadata": {},
   "outputs": [
    {
     "data": {
      "text/plain": [
       "['Tom', 'John', 'Peter', 'Felicity', 'Luke', 'Sam']"
      ]
     },
     "execution_count": 115,
     "metadata": {},
     "output_type": "execute_result"
    }
   ],
   "source": [
    "# Since order matters, we want to be able to insert at specific location sometimes. We can then use `.insert()`:\n",
    "queue.insert(3, \"Felicity\")\n",
    "queue"
   ]
  },
  {
   "cell_type": "code",
   "execution_count": 116,
   "id": "58a02a51",
   "metadata": {},
   "outputs": [
    {
     "data": {
      "text/plain": [
       "['Felicity', 'John', 'Luke', 'Peter', 'Sam', 'Tom']"
      ]
     },
     "execution_count": 116,
     "metadata": {},
     "output_type": "execute_result"
    }
   ],
   "source": [
    "# Or even sort things\n",
    "queue.sort()\n",
    "queue"
   ]
  },
  {
   "cell_type": "code",
   "execution_count": 118,
   "id": "aa7e3dae",
   "metadata": {},
   "outputs": [
    {
     "data": {
      "text/plain": [
       "['Tom', 'Sam', 'Peter', 'Luke', 'John', 'Felicity']"
      ]
     },
     "execution_count": 118,
     "metadata": {},
     "output_type": "execute_result"
    }
   ],
   "source": [
    "queue.sort(reverse=True)\n",
    "queue"
   ]
  },
  {
   "cell_type": "code",
   "execution_count": 119,
   "id": "907c9ccb",
   "metadata": {},
   "outputs": [
    {
     "data": {
      "text/plain": [
       "['Tom', 'Sam', 'Luke', 'John', 'Felicity']"
      ]
     },
     "execution_count": 119,
     "metadata": {},
     "output_type": "execute_result"
    }
   ],
   "source": [
    "# Or even remove things\n",
    "queue.remove(\"Peter\")\n",
    "queue"
   ]
  },
  {
   "cell_type": "code",
   "execution_count": 120,
   "id": "815cbff1",
   "metadata": {},
   "outputs": [
    {
     "ename": "ValueError",
     "evalue": "list.remove(x): x not in list",
     "output_type": "error",
     "traceback": [
      "\u001b[1;31m---------------------------------------------------------------------------\u001b[0m",
      "\u001b[1;31mValueError\u001b[0m                                Traceback (most recent call last)",
      "\u001b[1;32m~\\AppData\\Local\\Temp/ipykernel_16188/4272851878.py\u001b[0m in \u001b[0;36m<module>\u001b[1;34m\u001b[0m\n\u001b[1;32m----> 1\u001b[1;33m \u001b[0mqueue\u001b[0m\u001b[1;33m.\u001b[0m\u001b[0mremove\u001b[0m\u001b[1;33m(\u001b[0m\u001b[1;34m\"Dan\"\u001b[0m\u001b[1;33m)\u001b[0m\u001b[1;33m\u001b[0m\u001b[1;33m\u001b[0m\u001b[0m\n\u001b[0m",
      "\u001b[1;31mValueError\u001b[0m: list.remove(x): x not in list"
     ]
    }
   ],
   "source": [
    "queue.remove(\"Dan\")"
   ]
  },
  {
   "cell_type": "markdown",
   "id": "012eed88",
   "metadata": {},
   "source": [
    "**We can have multi-dimensional lists!** that is by *nesting* lists:"
   ]
  },
  {
   "cell_type": "code",
   "execution_count": null,
   "id": "9f80183e",
   "metadata": {},
   "outputs": [],
   "source": [
    "matrix = [[1, 2, 3],\n",
    "         [4, 5, 6],\n",
    "         [7, 8, 9]]\n",
    "matrix"
   ]
  },
  {
   "cell_type": "code",
   "execution_count": null,
   "id": "8f599cb5",
   "metadata": {},
   "outputs": [],
   "source": [
    "for r, element in enumerate(matrix):\n",
    "    print(f\"row {r}:{element}\")"
   ]
  },
  {
   "cell_type": "code",
   "execution_count": null,
   "id": "50d3c8b8",
   "metadata": {},
   "outputs": [],
   "source": [
    "for r, row in enumerate(matrix):\n",
    "    for c, column in enumerate(row):\n",
    "        print(f\"row{r}, column{c}: {matrix[r][c]}\")"
   ]
  },
  {
   "cell_type": "markdown",
   "id": "49dba8d6",
   "metadata": {},
   "source": [
    "### The `isinstance()` function"
   ]
  },
  {
   "cell_type": "code",
   "execution_count": null,
   "id": "25d07c73",
   "metadata": {},
   "outputs": [],
   "source": [
    "my_list = [2, 6, \"Tom\", \"John\", 8, True]\n",
    "my_tupe = (\"0044\", \"1521\", \"759123\")"
   ]
  },
  {
   "cell_type": "code",
   "execution_count": null,
   "id": "cc273f8b",
   "metadata": {},
   "outputs": [],
   "source": [
    "type(my_list)"
   ]
  },
  {
   "cell_type": "code",
   "execution_count": null,
   "id": "e604a1f5",
   "metadata": {},
   "outputs": [],
   "source": [
    "type(my_tupe)"
   ]
  },
  {
   "cell_type": "code",
   "execution_count": null,
   "id": "ce35cad5",
   "metadata": {},
   "outputs": [],
   "source": [
    "type(my_list) == list"
   ]
  },
  {
   "cell_type": "code",
   "execution_count": null,
   "id": "88f508b2",
   "metadata": {},
   "outputs": [],
   "source": [
    "type(my_tupe) == tuple"
   ]
  },
  {
   "cell_type": "code",
   "execution_count": null,
   "id": "70bca6bb",
   "metadata": {},
   "outputs": [],
   "source": [
    "# Safer and should be used always for headache-free execution (subtypes and OOP...)\n",
    "isinstance(my_list, list)"
   ]
  },
  {
   "cell_type": "code",
   "execution_count": null,
   "id": "1f6fb456",
   "metadata": {},
   "outputs": [],
   "source": [
    "isinstance(\"3\", int)"
   ]
  },
  {
   "cell_type": "markdown",
   "id": "e2f60fff",
   "metadata": {},
   "source": [
    "### The `len()` function"
   ]
  },
  {
   "cell_type": "code",
   "execution_count": null,
   "id": "602ee169",
   "metadata": {
    "scrolled": true
   },
   "outputs": [],
   "source": [
    "len(my_list)"
   ]
  },
  {
   "cell_type": "code",
   "execution_count": null,
   "id": "3837d06d",
   "metadata": {},
   "outputs": [],
   "source": [
    "len(my_tupe)"
   ]
  },
  {
   "cell_type": "markdown",
   "id": "6c3de449",
   "metadata": {},
   "source": [
    "### The `in` operator"
   ]
  },
  {
   "cell_type": "code",
   "execution_count": null,
   "id": "848ef283",
   "metadata": {},
   "outputs": [],
   "source": [
    "queue = [\"Sam\", \"Tom\", \"Paul\"]"
   ]
  },
  {
   "cell_type": "code",
   "execution_count": null,
   "id": "140021bb",
   "metadata": {},
   "outputs": [],
   "source": [
    "\"Tom\" in queue"
   ]
  },
  {
   "cell_type": "code",
   "execution_count": null,
   "id": "c0e42b72",
   "metadata": {},
   "outputs": [],
   "source": [
    "\"Tom\" not in queue"
   ]
  },
  {
   "cell_type": "markdown",
   "id": "dabc3aea",
   "metadata": {},
   "source": [
    "---"
   ]
  },
  {
   "cell_type": "markdown",
   "id": "8b3dbbb3",
   "metadata": {},
   "source": [
    "# Conditionals and comparisons"
   ]
  },
  {
   "cell_type": "markdown",
   "id": "f6d38cfb",
   "metadata": {},
   "source": [
    "We have six comparison operators in Python:"
   ]
  },
  {
   "cell_type": "markdown",
   "id": "4dbe8da7",
   "metadata": {},
   "source": [
    "|Operator|Meaning|\n",
    "|---|---|\n",
    "|>| greater than|\n",
    "|<| smaller than|\n",
    "|>=| greater than or equal to|\n",
    "|<=| smaller than or equal to|\n",
    "|**==**| is equal|\n",
    "|!=| is not equal|"
   ]
  },
  {
   "cell_type": "markdown",
   "id": "c2b50f17",
   "metadata": {},
   "source": [
    "**Each comparison results in a boolean True or False, so it gives us a boolean values**.\n",
    "\n",
    "We use `if`, `else` and `elif` for complex comparison logic. **indentation is key to know which code lines belong under which condition expression!**"
   ]
  },
  {
   "cell_type": "code",
   "execution_count": null,
   "id": "95ad0317",
   "metadata": {},
   "outputs": [],
   "source": [
    "var = 0\n",
    "if var > 0:\n",
    "    print(f\"value {var} is positive!\")\n",
    "    var2 = \"Yes!\"\n",
    "elif var < 0:\n",
    "    print(f\"value {var} is negative!\")\n",
    "    var2 = \"No!\"\n",
    "else:\n",
    "    print(f\"value {var} is zero.\")\n",
    "    var2 = \"Meh\"\n",
    "print(var2, \".\")"
   ]
  },
  {
   "cell_type": "code",
   "execution_count": null,
   "id": "88a2abf0",
   "metadata": {},
   "outputs": [],
   "source": [
    "if 2 < 3 < 4 < 5:\n",
    "    print(\"School is good\")\n",
    "else:\n",
    "    print(\"They lied to us!\")"
   ]
  },
  {
   "cell_type": "code",
   "execution_count": null,
   "id": "8b911ec0",
   "metadata": {},
   "outputs": [],
   "source": [
    "if 'a' >= 'z':\n",
    "    print(\"hello\")\n",
    "elif 'a' < 'z':\n",
    "    print(\"bye\")"
   ]
  },
  {
   "cell_type": "code",
   "execution_count": null,
   "id": "e1fc5b96",
   "metadata": {},
   "outputs": [],
   "source": [
    "var = 5\n",
    "\n",
    "if var = 0:\n",
    "    print(f\"This var is absolutely zero, and it's value is {var}\")\n",
    "elif var != 0:\n",
    "    print(f\"{var} is not zilch at the end.\")"
   ]
  },
  {
   "cell_type": "code",
   "execution_count": null,
   "id": "89a27234",
   "metadata": {},
   "outputs": [],
   "source": [
    "if False == 1:\n",
    "    print(\"hello\")\n",
    "elif False != 1:\n",
    "    print(\"bye\")"
   ]
  },
  {
   "cell_type": "markdown",
   "id": "06ad6c65",
   "metadata": {},
   "source": [
    "## Taking it to the next level: `or`, `and` and `not`"
   ]
  },
  {
   "cell_type": "markdown",
   "id": "0759f307",
   "metadata": {},
   "source": [
    "`or`, `not` and `and` can be used to make complex comparisons like this:"
   ]
  },
  {
   "cell_type": "code",
   "execution_count": null,
   "id": "d250d534",
   "metadata": {},
   "outputs": [],
   "source": [
    "check = (2 + 2 == 4) and (5 * 5 == 25) and not (5 + 2 == 7)\n",
    "if check:\n",
    "    print(\"hello\")\n",
    "else:\n",
    "    print(\"bye\")"
   ]
  },
  {
   "cell_type": "code",
   "execution_count": null,
   "id": "47992020",
   "metadata": {},
   "outputs": [],
   "source": [
    "raining = True\n",
    "windy = False\n",
    "warm = True"
   ]
  },
  {
   "cell_type": "code",
   "execution_count": null,
   "id": "2e6acbdf",
   "metadata": {},
   "outputs": [],
   "source": [
    "play_outside = None"
   ]
  },
  {
   "cell_type": "code",
   "execution_count": null,
   "id": "13cfaecb",
   "metadata": {},
   "outputs": [],
   "source": [
    "if warm or not raining:\n",
    "    play_outside = True\n",
    "elif raining and windy:\n",
    "    play_outside = False\n",
    "elif warm and not windy:\n",
    "    play_outside = True\n",
    "\n",
    "print(f\"Play outside: {play_outside}\")"
   ]
  },
  {
   "cell_type": "markdown",
   "id": "95a62fa0",
   "metadata": {},
   "source": [
    "What if a variable is unknown?"
   ]
  },
  {
   "cell_type": "code",
   "execution_count": null,
   "id": "d5c12176",
   "metadata": {},
   "outputs": [],
   "source": [
    "var1 = None\n",
    "var2 = None\n",
    "\n",
    "if var1 == var2:\n",
    "    print(\"zero\")\n",
    "elif var1 != var2:\n",
    "    print(\"not zero\")"
   ]
  },
  {
   "cell_type": "markdown",
   "id": "c77cbc21",
   "metadata": {},
   "source": [
    "However, it is **always recommended** to use `is` when comparing to `None` because `None` is \"unknown\"/\"unassigned\""
   ]
  },
  {
   "cell_type": "code",
   "execution_count": null,
   "id": "6ed9219f",
   "metadata": {},
   "outputs": [],
   "source": [
    "if var1 is var2:\n",
    "    print(\"zero\")\n",
    "else:\n",
    "    print(\"not zero\")"
   ]
  },
  {
   "cell_type": "markdown",
   "id": "d8999e64",
   "metadata": {},
   "source": [
    "---"
   ]
  },
  {
   "cell_type": "markdown",
   "id": "2ea93140",
   "metadata": {},
   "source": [
    "# Loops"
   ]
  },
  {
   "cell_type": "markdown",
   "id": "21684db2",
   "metadata": {},
   "source": [
    "Let's try to print the names of people standing at the till:"
   ]
  },
  {
   "cell_type": "code",
   "execution_count": null,
   "id": "14f46f0f",
   "metadata": {},
   "outputs": [],
   "source": [
    "queue = [\"Tom\", \"John\", \"Peter\", \"Luke\", \"Sam\"]\n",
    "# Print all elements\n",
    "print(queue[0])\n",
    "print(queue[1])\n",
    "print(queue[2])\n",
    "print(queue[3])\n",
    "print(queue[4])"
   ]
  },
  {
   "cell_type": "markdown",
   "id": "f1448544",
   "metadata": {},
   "source": [
    "Imagine that we have 100 customers...\n",
    "\n",
    "For tasks than need repetition, like going over a list or data, we should use loops.\n",
    "\n",
    "We have two kinds of loops in Python:\n",
    "- `for` loops\n",
    "- `while` loops"
   ]
  },
  {
   "cell_type": "code",
   "execution_count": null,
   "id": "3ab98d9e",
   "metadata": {},
   "outputs": [],
   "source": [
    "for customer in queue:\n",
    "    print(customer)"
   ]
  },
  {
   "cell_type": "code",
   "execution_count": null,
   "id": "23300841",
   "metadata": {},
   "outputs": [],
   "source": [
    "for turn, customer in enumerate(queue):\n",
    "    print(f\"{turn} - {customer}\")"
   ]
  },
  {
   "cell_type": "code",
   "execution_count": null,
   "id": "c06ef723",
   "metadata": {},
   "outputs": [],
   "source": [
    "for turn, customer in enumerate(queue):\n",
    "    print(f\"# {turn+1} - {customer}\")"
   ]
  },
  {
   "cell_type": "markdown",
   "id": "a47f8170",
   "metadata": {},
   "source": [
    "**For (and while) loops can iterate over *iterable* objects**, i.e. they need to have elements to return one at a time.\n",
    "How about this?"
   ]
  },
  {
   "cell_type": "code",
   "execution_count": null,
   "id": "73bbb227",
   "metadata": {},
   "outputs": [],
   "source": [
    "for letter in \"ABCDEFG\":\n",
    "    print(letter)"
   ]
  },
  {
   "cell_type": "code",
   "execution_count": null,
   "id": "e662c7e0",
   "metadata": {},
   "outputs": [],
   "source": [
    "for number in 2376:\n",
    "    print(element)"
   ]
  },
  {
   "cell_type": "code",
   "execution_count": null,
   "id": "9fb120cb",
   "metadata": {},
   "outputs": [],
   "source": [
    "for counter in range(6):\n",
    "    print(counter)"
   ]
  },
  {
   "cell_type": "markdown",
   "id": "27c310fb",
   "metadata": {},
   "source": [
    "If I don't know how many times to iterate, or my loop depends on a guarding condition, `while` can be used:"
   ]
  },
  {
   "cell_type": "code",
   "execution_count": null,
   "id": "8f400240",
   "metadata": {
    "scrolled": false
   },
   "outputs": [],
   "source": [
    "end = 6\n",
    "counter = 0\n",
    "while counter < end:\n",
    "    print(counter)\n",
    "    counter += 1"
   ]
  },
  {
   "cell_type": "code",
   "execution_count": null,
   "id": "ffdc133f",
   "metadata": {},
   "outputs": [],
   "source": [
    "search = [\"innocent\", \"innocent\", \"guilty\", \"innocent\", \"innocent\"]*100\n",
    "search"
   ]
  },
  {
   "cell_type": "code",
   "execution_count": null,
   "id": "567befaa",
   "metadata": {},
   "outputs": [],
   "source": [
    "i = 0\n",
    "while i < len(search) and search[i] != \"guilty\":\n",
    "    print(search[i])\n",
    "    i += 1"
   ]
  },
  {
   "cell_type": "markdown",
   "id": "754796ac",
   "metadata": {},
   "source": [
    "## `break` and `continue`"
   ]
  },
  {
   "cell_type": "markdown",
   "id": "3b810c68",
   "metadata": {},
   "source": [
    "`break` and `continue` are very handful for finely managing loops.\n",
    "\n",
    "- `break`: breaks the current loop and gets out of it to continue execution\n",
    "- `continue`: skips the current iteration or the loop and goes to the next iteration"
   ]
  },
  {
   "cell_type": "code",
   "execution_count": null,
   "id": "14cfd368",
   "metadata": {},
   "outputs": [],
   "source": [
    "search"
   ]
  },
  {
   "cell_type": "code",
   "execution_count": null,
   "id": "bfaf4bb5",
   "metadata": {},
   "outputs": [],
   "source": [
    "for case in search:\n",
    "    if case == \"innocent\":\n",
    "        print(case)\n",
    "    else:\n",
    "        break"
   ]
  },
  {
   "cell_type": "code",
   "execution_count": null,
   "id": "f9c2e2fb",
   "metadata": {},
   "outputs": [],
   "source": [
    "data = [\"Falk\", \"Kim\", \"Uli\", None, \"Dani\", \"Charlie\", None]\n",
    "for name in data:\n",
    "    print(len(name))"
   ]
  },
  {
   "cell_type": "code",
   "execution_count": null,
   "id": "2ce28b64",
   "metadata": {},
   "outputs": [],
   "source": [
    "for name in data:\n",
    "    if name is None:\n",
    "        continue\n",
    "    print(name)"
   ]
  },
  {
   "cell_type": "markdown",
   "id": "3e36b8af",
   "metadata": {},
   "source": [
    "---"
   ]
  },
  {
   "cell_type": "markdown",
   "id": "96e33f61",
   "metadata": {},
   "source": [
    "**Let's go all out now!**"
   ]
  }
 ],
 "metadata": {
  "kernelspec": {
   "display_name": "Python 3 (ipykernel)",
   "language": "python",
   "name": "python3"
  },
  "language_info": {
   "codemirror_mode": {
    "name": "ipython",
    "version": 3
   },
   "file_extension": ".py",
   "mimetype": "text/x-python",
   "name": "python",
   "nbconvert_exporter": "python",
   "pygments_lexer": "ipython3",
   "version": "3.9.6"
  }
 },
 "nbformat": 4,
 "nbformat_minor": 5
}
