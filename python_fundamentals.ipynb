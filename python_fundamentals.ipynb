{
 "cells": [
  {
   "cell_type": "markdown",
   "id": "2402af3a",
   "metadata": {},
   "source": [
    "# Python Fundamentals Workshop\n",
    "***Part 1 & 2***"
   ]
  },
  {
   "cell_type": "markdown",
   "id": "2d0645ba",
   "metadata": {},
   "source": [
    "<img src=\"https://www.python.org/static/community_logos/python-logo-master-v3-TM.png\" title=\"Python Logo\"/>"
   ]
  },
  {
   "cell_type": "markdown",
   "id": "9eb01367",
   "metadata": {},
   "source": [
    "The main source of materials is the [official wiki page of Python](https://wiki.python.org/moin/BeginnersGuide/Programmers) (subsequently [this tutorial](https://python.land/python-tutorial)) and [Python cheatsheet](https://www.pythoncheatsheet.org/)."
   ]
  },
  {
   "cell_type": "markdown",
   "id": "882a7412",
   "metadata": {},
   "source": [
    "# The Zen of Python"
   ]
  },
  {
   "cell_type": "markdown",
   "id": "a0f363ab",
   "metadata": {},
   "source": [
    "Try `import this` to learn about some advocated principles by Python's gurus."
   ]
  },
  {
   "cell_type": "code",
   "execution_count": null,
   "id": "21f64e7d",
   "metadata": {},
   "outputs": [],
   "source": [
    "import this"
   ]
  },
  {
   "cell_type": "markdown",
   "id": "c4e76862",
   "metadata": {},
   "source": [
    "---"
   ]
  },
  {
   "cell_type": "markdown",
   "id": "a2270844",
   "metadata": {},
   "source": [
    "# Commenting in Python"
   ]
  },
  {
   "cell_type": "markdown",
   "id": "994cbd6f",
   "metadata": {},
   "source": [
    "You can insert your comments in Python which will not be interpreted by it at all.\n",
    "Why?\n",
    "- Document what you are doing\n",
    "- Debug\n",
    "- Reminders: use `# TODO add another function here`\n",
    "- Etc."
   ]
  },
  {
   "cell_type": "code",
   "execution_count": null,
   "id": "10187ca8",
   "metadata": {},
   "outputs": [],
   "source": [
    "# This is a single line comment\n",
    "\n",
    "\"\"\" This is a longer\n",
    "multiline\n",
    "comment\"\"\"\n",
    "\n",
    "# Or maybe\n",
    "# This multiline\n",
    "# comment\n",
    "print(\"\"\" This is a longer\n",
    "multiline\n",
    "comment\"\"\")"
   ]
  },
  {
   "cell_type": "markdown",
   "id": "18f80367",
   "metadata": {},
   "source": [
    "---"
   ]
  },
  {
   "cell_type": "markdown",
   "id": "00874cca",
   "metadata": {},
   "source": [
    "# Simple Operators"
   ]
  },
  {
   "cell_type": "markdown",
   "id": "1cca88ea",
   "metadata": {},
   "source": [
    "We have seven simple operators in Python:\n",
    "\n",
    "| # | Operator | Semantics | Example |\n",
    "| --- | --- | --- | --- |\n",
    "| 1 | `**`  | Exponent | `2 ** 3 = 8` |\n",
    "| 2 | `%` \t| Modulus/Remainder | \t`22 % 8 = 6` |\n",
    "| 3 | `//` | Integer division | \t`22 // 8 = 2` |\n",
    "| 4 | `/` \t| Division | \t`22 / 8 = 2.75` |\n",
    "| 5 | `*` \t| Multiplication | \t`3 * 3 = 9` |\n",
    "| 6 | `-` \t| Subtraction | \t`5 - 2 = 3` |\n",
    "| 7 | `+`  | \tAddition | \t`2 + 2 = 4` |\n",
    "| - | `=` | Assignment | - |\n"
   ]
  },
  {
   "cell_type": "markdown",
   "id": "74477789",
   "metadata": {},
   "source": [
    "**What do these `#` numbers mean though?** Let's try to evaluate the following **expressions**:"
   ]
  },
  {
   "cell_type": "code",
   "execution_count": null,
   "id": "efcda735",
   "metadata": {},
   "outputs": [],
   "source": [
    "(6 + 6) / 2"
   ]
  },
  {
   "cell_type": "code",
   "execution_count": null,
   "id": "5efd64de",
   "metadata": {},
   "outputs": [],
   "source": [
    "2 * 3 * 2 / 2 + 2"
   ]
  },
  {
   "cell_type": "code",
   "execution_count": null,
   "id": "a199ced5",
   "metadata": {},
   "outputs": [],
   "source": [
    "2 * 3 + 2 * 3"
   ]
  },
  {
   "cell_type": "code",
   "execution_count": null,
   "id": "d287cb3a",
   "metadata": {},
   "outputs": [],
   "source": [
    "2 * 3 + 2 ** 2 * 3"
   ]
  },
  {
   "cell_type": "code",
   "execution_count": null,
   "id": "f852826b",
   "metadata": {
    "scrolled": true
   },
   "outputs": [],
   "source": [
    "2 * 3 + 2 ** (2 * 3)"
   ]
  },
  {
   "cell_type": "markdown",
   "id": "8b3f516f",
   "metadata": {},
   "source": [
    "**Operators mean different things with different data types, or might not work!!**"
   ]
  },
  {
   "cell_type": "code",
   "execution_count": null,
   "id": "ea29c45d",
   "metadata": {},
   "outputs": [],
   "source": [
    "\"Hello python!\" * 3"
   ]
  },
  {
   "cell_type": "markdown",
   "id": "0ef6701c",
   "metadata": {},
   "source": [
    "So it's *absolutely important* to know your data types. Thus, let's learn more about `variables` in Python!"
   ]
  },
  {
   "cell_type": "markdown",
   "id": "55308f06",
   "metadata": {},
   "source": [
    "Assignment can be augmented thus:\n",
    "\n",
    "|Operator|Equivalent|\n",
    "|---|---|\n",
    "|var += 1 | var = var + 1|\n",
    "|var -= 1 | var = var - 1|\n",
    "|var *= 1 | var = var * 1|\n",
    "|var /= 1 | var = var / 1|\n",
    "|var %= 1 | var = var % 1|"
   ]
  },
  {
   "cell_type": "code",
   "execution_count": null,
   "id": "6e116d2f",
   "metadata": {},
   "outputs": [],
   "source": [
    "4 % 2"
   ]
  },
  {
   "cell_type": "code",
   "execution_count": null,
   "id": "afad385f",
   "metadata": {},
   "outputs": [],
   "source": [
    "5 % 2"
   ]
  },
  {
   "cell_type": "code",
   "execution_count": null,
   "id": "d37f3456",
   "metadata": {},
   "outputs": [],
   "source": [
    "var = 10\n",
    "var += 5\n",
    "var"
   ]
  },
  {
   "cell_type": "code",
   "execution_count": null,
   "id": "140960f1",
   "metadata": {},
   "outputs": [],
   "source": [
    "var %= 3\n",
    "var"
   ]
  },
  {
   "cell_type": "markdown",
   "id": "1e6aa5dc",
   "metadata": {},
   "source": [
    "---"
   ]
  },
  {
   "cell_type": "markdown",
   "id": "579246e1",
   "metadata": {},
   "source": [
    "# Variables"
   ]
  },
  {
   "cell_type": "markdown",
   "id": "35d8eb76",
   "metadata": {},
   "source": [
    "Variables are significant quantities that you want to save and use **later** in your code. Typical example would be **calculations** you make.\n",
    "\n",
    "Every variable in python must have **a name**. Names must be:\n",
    "- Starting with a letter, or an underscore `_`! We cannot start a variable with a number like `1_best_var_ever`\n",
    "- Containing only letters, numbers and `_`, so **one word**"
   ]
  },
  {
   "cell_type": "markdown",
   "id": "dfcb3d19",
   "metadata": {},
   "source": [
    "→ **Additional encouraged rules**:\n",
    "- Never name a variable with a reserved word (coloured usually)! like `print` or `def`\n",
    "    - Sometimes you will get a syntax error, sometimes you'd have very bad results!\n",
    "- Always use meaningful names, even if long\n",
    "- Variable names are case sensetive! So better use lower case always as a general rule, however:\n",
    "- Follow the naming and coding conventions of Python (found in `PEP 8` guide) from the start to get used to it. See them in [PEP 8 -- Style Guide for Python Code](https://www.python.org/dev/peps/pep-0008/)."
   ]
  },
  {
   "cell_type": "code",
   "execution_count": null,
   "id": "68c3ace4",
   "metadata": {},
   "outputs": [],
   "source": [
    "var = 4\n",
    "print(var)"
   ]
  },
  {
   "cell_type": "code",
   "execution_count": null,
   "id": "5b612b0c",
   "metadata": {
    "scrolled": true
   },
   "outputs": [],
   "source": [
    "my beautiful var = 5"
   ]
  },
  {
   "cell_type": "code",
   "execution_count": null,
   "id": "b7fe3f18",
   "metadata": {},
   "outputs": [],
   "source": [
    "my_beautiful_var = 5\n",
    "print(my_beautiful_var)"
   ]
  },
  {
   "cell_type": "code",
   "execution_count": null,
   "id": "2b820380",
   "metadata": {},
   "outputs": [],
   "source": [
    "_var = 4\n",
    "print(_var)"
   ]
  },
  {
   "cell_type": "code",
   "execution_count": null,
   "id": "64ca659c",
   "metadata": {
    "scrolled": true
   },
   "outputs": [],
   "source": [
    "1st_var = 4"
   ]
  },
  {
   "cell_type": "code",
   "execution_count": null,
   "id": "73d2e4c7",
   "metadata": {},
   "outputs": [],
   "source": [
    "_var = 4"
   ]
  },
  {
   "cell_type": "code",
   "execution_count": null,
   "id": "15aac725",
   "metadata": {},
   "outputs": [],
   "source": [
    "def = 4"
   ]
  },
  {
   "cell_type": "markdown",
   "id": "12f457e6",
   "metadata": {},
   "source": [
    "## Types of Simple Variables in Python"
   ]
  },
  {
   "cell_type": "markdown",
   "id": "e25e3cda",
   "metadata": {},
   "source": [
    "We don't have to specify the types as we see above! However, we need to understand them and identify them.\n",
    "\n",
    "We have booleans (`bool`), integers (`int`), floats (`float`) and strings (`str`). We can test for their types using `type(.)`."
   ]
  },
  {
   "cell_type": "code",
   "execution_count": null,
   "id": "b4d12f6c",
   "metadata": {},
   "outputs": [],
   "source": [
    "var = True\n",
    "type(var)"
   ]
  },
  {
   "cell_type": "code",
   "execution_count": null,
   "id": "f03dd79a",
   "metadata": {},
   "outputs": [],
   "source": [
    "var = False\n",
    "type(var)"
   ]
  },
  {
   "cell_type": "code",
   "execution_count": null,
   "id": "43d84c76",
   "metadata": {},
   "outputs": [],
   "source": [
    "var = 5\n",
    "type(var)"
   ]
  },
  {
   "cell_type": "code",
   "execution_count": null,
   "id": "4a1662b1",
   "metadata": {},
   "outputs": [],
   "source": [
    "var = -5.5\n",
    "type(var)"
   ]
  },
  {
   "cell_type": "code",
   "execution_count": null,
   "id": "581613e8",
   "metadata": {},
   "outputs": [],
   "source": [
    "var = \"hello\"\n",
    "type(var)"
   ]
  },
  {
   "cell_type": "code",
   "execution_count": null,
   "id": "b8415423",
   "metadata": {},
   "outputs": [],
   "source": [
    "var = \"4\"\n",
    "type(var)"
   ]
  },
  {
   "cell_type": "code",
   "execution_count": null,
   "id": "a8a007e1",
   "metadata": {},
   "outputs": [],
   "source": [
    "var * 3"
   ]
  },
  {
   "cell_type": "code",
   "execution_count": null,
   "id": "2dbe1031",
   "metadata": {
    "scrolled": true
   },
   "outputs": [],
   "source": [
    "var = '4'\n",
    "type(var)"
   ]
  },
  {
   "cell_type": "markdown",
   "id": "a3a5a9f5",
   "metadata": {},
   "source": [
    "Double or single quotes is your choice, but Python prefers `'` over `\"`.\n",
    "\n",
    "Let's try to define a var with the value: `I'm happy`:"
   ]
  },
  {
   "cell_type": "code",
   "execution_count": null,
   "id": "fcd22753",
   "metadata": {
    "scrolled": true
   },
   "outputs": [],
   "source": [
    "var = 'I'm happy'\n",
    "var"
   ]
  },
  {
   "cell_type": "code",
   "execution_count": null,
   "id": "56dcad4b",
   "metadata": {},
   "outputs": [],
   "source": [
    "var = \"I'm happy\"\n",
    "var"
   ]
  },
  {
   "cell_type": "code",
   "execution_count": null,
   "id": "e17d0ea5",
   "metadata": {},
   "outputs": [],
   "source": [
    "var = \"I like 'AMD'\"\n",
    "var"
   ]
  },
  {
   "cell_type": "code",
   "execution_count": null,
   "id": "fa258543",
   "metadata": {},
   "outputs": [],
   "source": [
    "var = 'I\\'m happy'\n",
    "var"
   ]
  },
  {
   "cell_type": "markdown",
   "id": "1ed98c84",
   "metadata": {},
   "source": [
    "### Knowing your variables types makes a lot of difference"
   ]
  },
  {
   "cell_type": "markdown",
   "id": "a457e8fd",
   "metadata": {},
   "source": [
    "Especially if you are reading data from text files or CSV files!"
   ]
  },
  {
   "cell_type": "code",
   "execution_count": null,
   "id": "27c6ee1c",
   "metadata": {},
   "outputs": [],
   "source": [
    "4 + 6"
   ]
  },
  {
   "cell_type": "code",
   "execution_count": null,
   "id": "e8dd7400",
   "metadata": {},
   "outputs": [],
   "source": [
    "\"4\" + \"6\""
   ]
  },
  {
   "cell_type": "code",
   "execution_count": null,
   "id": "e8a2a342",
   "metadata": {},
   "outputs": [],
   "source": [
    "5 * 3"
   ]
  },
  {
   "cell_type": "code",
   "execution_count": null,
   "id": "911f22b9",
   "metadata": {},
   "outputs": [],
   "source": [
    "\"5\" * 3"
   ]
  },
  {
   "cell_type": "code",
   "execution_count": null,
   "id": "e6cc5b94",
   "metadata": {},
   "outputs": [],
   "source": [
    "5 * \"3\""
   ]
  },
  {
   "cell_type": "code",
   "execution_count": null,
   "id": "756b7948",
   "metadata": {},
   "outputs": [],
   "source": [
    "2 ** 3"
   ]
  },
  {
   "cell_type": "code",
   "execution_count": null,
   "id": "25fe1d11",
   "metadata": {},
   "outputs": [],
   "source": [
    "2 ** \"3\""
   ]
  },
  {
   "cell_type": "markdown",
   "id": "fe153280",
   "metadata": {},
   "source": [
    "Note the difference in how the output is formulated, which helps you debug and develop your code:"
   ]
  },
  {
   "cell_type": "code",
   "execution_count": null,
   "id": "ba757d86",
   "metadata": {},
   "outputs": [],
   "source": [
    "type(2)"
   ]
  },
  {
   "cell_type": "code",
   "execution_count": null,
   "id": "61810f5a",
   "metadata": {},
   "outputs": [],
   "source": [
    "type(\"2\")"
   ]
  },
  {
   "cell_type": "code",
   "execution_count": null,
   "id": "3b45eccd",
   "metadata": {},
   "outputs": [],
   "source": [
    "type('2')"
   ]
  },
  {
   "cell_type": "code",
   "execution_count": null,
   "id": "fd11fb40",
   "metadata": {},
   "outputs": [],
   "source": [
    "type(2.0)"
   ]
  },
  {
   "cell_type": "markdown",
   "id": "488e8a4f",
   "metadata": {},
   "source": [
    "### Moving between variable types"
   ]
  },
  {
   "cell_type": "markdown",
   "id": "55cb732b",
   "metadata": {},
   "source": [
    "Sometimes we want to convert a variable from type to type.\n",
    "When you want to convert a variable from string to integer, you can use the data type keyword as function:"
   ]
  },
  {
   "cell_type": "code",
   "execution_count": null,
   "id": "3b3c280e",
   "metadata": {},
   "outputs": [],
   "source": [
    "var = 5.0\n",
    "var"
   ]
  },
  {
   "cell_type": "code",
   "execution_count": null,
   "id": "31fc535b",
   "metadata": {},
   "outputs": [],
   "source": [
    "str(var)"
   ]
  },
  {
   "cell_type": "code",
   "execution_count": null,
   "id": "f1d898b1",
   "metadata": {},
   "outputs": [],
   "source": [
    "str(int(var))"
   ]
  },
  {
   "cell_type": "code",
   "execution_count": null,
   "id": "a8732e90",
   "metadata": {},
   "outputs": [],
   "source": [
    "var = \"6\"\n",
    "float(var)"
   ]
  },
  {
   "cell_type": "code",
   "execution_count": null,
   "id": "8bd49f42",
   "metadata": {
    "scrolled": true
   },
   "outputs": [],
   "source": [
    "var = \"-6\"\n",
    "int(var)"
   ]
  },
  {
   "cell_type": "code",
   "execution_count": null,
   "id": "6a2ec330",
   "metadata": {},
   "outputs": [],
   "source": [
    "float(var)"
   ]
  },
  {
   "cell_type": "code",
   "execution_count": null,
   "id": "c9a739d6",
   "metadata": {},
   "outputs": [],
   "source": [
    "var = \"-6.787232\"\n",
    "float(var)"
   ]
  },
  {
   "cell_type": "code",
   "execution_count": null,
   "id": "152b45f5",
   "metadata": {
    "scrolled": true
   },
   "outputs": [],
   "source": [
    "int(var)"
   ]
  },
  {
   "cell_type": "code",
   "execution_count": null,
   "id": "42b5603d",
   "metadata": {},
   "outputs": [],
   "source": [
    "int(float(var))"
   ]
  },
  {
   "cell_type": "code",
   "execution_count": null,
   "id": "e156a7ba",
   "metadata": {},
   "outputs": [],
   "source": [
    "var = \"6.x\"\n",
    "int(var)"
   ]
  },
  {
   "cell_type": "code",
   "execution_count": null,
   "id": "469e144c",
   "metadata": {},
   "outputs": [],
   "source": [
    "var = 5 > 4\n",
    "type(var)"
   ]
  },
  {
   "cell_type": "code",
   "execution_count": null,
   "id": "cb5817ac",
   "metadata": {},
   "outputs": [],
   "source": [
    "var"
   ]
  },
  {
   "cell_type": "code",
   "execution_count": null,
   "id": "557abe2e",
   "metadata": {},
   "outputs": [],
   "source": [
    "int(var)"
   ]
  },
  {
   "cell_type": "code",
   "execution_count": null,
   "id": "04ced181",
   "metadata": {},
   "outputs": [],
   "source": [
    "int(False)"
   ]
  },
  {
   "cell_type": "code",
   "execution_count": null,
   "id": "2fa67ecd",
   "metadata": {},
   "outputs": [],
   "source": [
    "var = True + 4\n",
    "print(var)\n",
    "type(var)"
   ]
  },
  {
   "cell_type": "code",
   "execution_count": null,
   "id": "737e1fce",
   "metadata": {},
   "outputs": [],
   "source": [
    "var = 0\n",
    "bool(0)"
   ]
  },
  {
   "cell_type": "code",
   "execution_count": null,
   "id": "7a1c94e2",
   "metadata": {},
   "outputs": [],
   "source": [
    "var = 1\n",
    "bool(1)"
   ]
  },
  {
   "cell_type": "code",
   "execution_count": null,
   "id": "a8733203",
   "metadata": {},
   "outputs": [],
   "source": [
    "var = 3\n",
    "bool(var)"
   ]
  },
  {
   "cell_type": "code",
   "execution_count": null,
   "id": "03854d83",
   "metadata": {},
   "outputs": [],
   "source": [
    "var = 3.4\n",
    "bool(var)"
   ]
  },
  {
   "cell_type": "code",
   "execution_count": null,
   "id": "db89bb23",
   "metadata": {},
   "outputs": [],
   "source": [
    "var = 0\n",
    "bool(0)"
   ]
  },
  {
   "cell_type": "code",
   "execution_count": null,
   "id": "109eadc4",
   "metadata": {},
   "outputs": [],
   "source": [
    "bool(-1)"
   ]
  },
  {
   "cell_type": "code",
   "execution_count": null,
   "id": "429f6891",
   "metadata": {},
   "outputs": [],
   "source": [
    "var = None\n",
    "type(var)"
   ]
  },
  {
   "cell_type": "code",
   "execution_count": null,
   "id": "2647f1bc",
   "metadata": {},
   "outputs": [],
   "source": [
    "bool(var)"
   ]
  },
  {
   "cell_type": "markdown",
   "id": "b4054327",
   "metadata": {},
   "source": [
    "**So:**\n",
    "- Anything greater other than zero evaluates to `True` boolean value in Python\n",
    "- Zeros and `None` evaluate to `False`. `None` **is when our variable is defined, but has no value in it**, i.e. not initialised → very useful check!\n",
    "- Any comparison is a boolean in itself → important to understand"
   ]
  },
  {
   "cell_type": "markdown",
   "id": "da7a9fe3",
   "metadata": {},
   "source": [
    "### String variables are cool"
   ]
  },
  {
   "cell_type": "markdown",
   "id": "5a2dd2cd",
   "metadata": {},
   "source": [
    "String variables in Python have many useful functions and perks.\n",
    "- They can span multiple lines\n",
    "- They can include special characters (indicators of special cases), like:\n",
    "    - `\\n` the new line special character\n",
    "    - `\\t` the tab charachter\n",
    "    - `\\` the escape character if preceds a special case, to deactivate special cases of what follows\n",
    "- They have two useful kinds: raw strings and formatted strings"
   ]
  },
  {
   "cell_type": "code",
   "execution_count": null,
   "id": "bebd214e",
   "metadata": {},
   "outputs": [],
   "source": [
    "var = \"\"\"Here is my first line,\n",
    "And my second,\n",
    "and what about a third one?! why not!\"\"\"\n",
    "print(var)"
   ]
  },
  {
   "cell_type": "code",
   "execution_count": null,
   "id": "05692f08",
   "metadata": {},
   "outputs": [],
   "source": [
    "var = \"Here is line1,\\nAnd line 2,\\nAnd three!\"\n",
    "print(var)"
   ]
  },
  {
   "cell_type": "code",
   "execution_count": null,
   "id": "cb85e766",
   "metadata": {},
   "outputs": [],
   "source": [
    "var"
   ]
  },
  {
   "cell_type": "code",
   "execution_count": null,
   "id": "ff935a30",
   "metadata": {},
   "outputs": [],
   "source": [
    "var = \"\"\"Name:\\tRafi\n",
    "Origin:\\tEarth\"\"\"\n",
    "print(var)"
   ]
  },
  {
   "cell_type": "code",
   "execution_count": null,
   "id": "2ebd2e8b",
   "metadata": {},
   "outputs": [],
   "source": [
    "var = \"\"\"Name:\\tRafi\n",
    "Origin:\\\\tEarth\"\"\"\n",
    "print(var)"
   ]
  },
  {
   "cell_type": "markdown",
   "id": "2399e696",
   "metadata": {},
   "source": [
    "As you see, we can deactivate the special functionality of `\\` manually. This is sometimes tedious, like when defining filepaths on Windows:"
   ]
  },
  {
   "cell_type": "code",
   "execution_count": null,
   "id": "6849d68e",
   "metadata": {},
   "outputs": [],
   "source": [
    "file_path = \"D:\\\\repo\\\\python_fundamentals_workshop\\\\hello.txt\"\n",
    "print(file_path)"
   ]
  },
  {
   "cell_type": "markdown",
   "id": "4088c74b",
   "metadata": {},
   "source": [
    "That's when you use raw strings! Just an `r` before starting the string:"
   ]
  },
  {
   "cell_type": "code",
   "execution_count": null,
   "id": "ba4e633e",
   "metadata": {},
   "outputs": [],
   "source": [
    "file_path = r\"D:\\repo\\python_fundamentals_workshop\\hello.txt\"\n",
    "print(file_path)"
   ]
  },
  {
   "cell_type": "markdown",
   "id": "f298c32e",
   "metadata": {},
   "source": [
    "Finally, there are a lot of things to apply on string variables. Try to press `.` at the end of a string variable and check them up, or maybe see [this resource](https://www.w3schools.com/python/python_ref_string.asp)."
   ]
  },
  {
   "cell_type": "code",
   "execution_count": null,
   "id": "c7f71c17",
   "metadata": {},
   "outputs": [],
   "source": [
    "var = \"    This Is My String   \"\n",
    "var"
   ]
  },
  {
   "cell_type": "code",
   "execution_count": null,
   "id": "2badc9f4",
   "metadata": {},
   "outputs": [],
   "source": [
    "var.lower()"
   ]
  },
  {
   "cell_type": "code",
   "execution_count": null,
   "id": "52fb979f",
   "metadata": {},
   "outputs": [],
   "source": [
    "var.upper()"
   ]
  },
  {
   "cell_type": "code",
   "execution_count": null,
   "id": "bb6a8b2a",
   "metadata": {},
   "outputs": [],
   "source": [
    "var.strip()"
   ]
  },
  {
   "cell_type": "code",
   "execution_count": null,
   "id": "90604854",
   "metadata": {},
   "outputs": [],
   "source": [
    "var.strip().lower()"
   ]
  },
  {
   "cell_type": "markdown",
   "id": "d66eb6a0",
   "metadata": {},
   "source": [
    "#### Formatting Strings using other Variables"
   ]
  },
  {
   "cell_type": "markdown",
   "id": "2ca91f10",
   "metadata": {},
   "source": [
    "There are many ways to print variable values within strings. Let's assume we want to print a greeting to someone.\n",
    "We will use `input` to get the user's name from them."
   ]
  },
  {
   "cell_type": "code",
   "execution_count": null,
   "id": "3b7372eb",
   "metadata": {},
   "outputs": [],
   "source": [
    "your_name = input(\"What is your name?\")"
   ]
  },
  {
   "cell_type": "code",
   "execution_count": null,
   "id": "e8e03a81",
   "metadata": {},
   "outputs": [],
   "source": [
    "print(\"Welcome\", your_name, \"to our workshop!\")"
   ]
  },
  {
   "cell_type": "markdown",
   "id": "5a00b419",
   "metadata": {},
   "source": [
    "A neater and more efficient way is to use formatted strings! Like raw strings, you just put an `f` for formatted before the string:"
   ]
  },
  {
   "cell_type": "code",
   "execution_count": null,
   "id": "fac2fcec",
   "metadata": {},
   "outputs": [],
   "source": [
    "print(f\"Welcome {your_name}!\")"
   ]
  },
  {
   "cell_type": "code",
   "execution_count": null,
   "id": "0c394462",
   "metadata": {},
   "outputs": [],
   "source": [
    "print(f\"Welcome {your_name*3}!\")"
   ]
  },
  {
   "cell_type": "markdown",
   "id": "ceae1b7d",
   "metadata": {},
   "source": [
    "---"
   ]
  },
  {
   "cell_type": "markdown",
   "id": "5b395286",
   "metadata": {},
   "source": [
    "# More complex variables"
   ]
  },
  {
   "cell_type": "markdown",
   "id": "5486f52c",
   "metadata": {},
   "source": [
    "What if we want a group of vairable that are linked to each other?\n",
    "\n",
    "Your **address** is one such kind of data: you have a post code, a city, a street and a house number. Till now, we would define it as:"
   ]
  },
  {
   "cell_type": "code",
   "execution_count": null,
   "id": "d8b47af4",
   "metadata": {},
   "outputs": [],
   "source": [
    "postcode = \"A45 3SA\"\n",
    "street = \"Victoria road\"\n",
    "house_number = 33\n",
    "city = \"Birmingham\""
   ]
  },
  {
   "cell_type": "markdown",
   "id": "3651e70b",
   "metadata": {},
   "source": [
    "A bit messy. However, we can group these in a more complex data types:\n",
    "- Tuple\n",
    "- List\n",
    "- Set\n",
    "- Dictionary\n",
    "\n",
    "When to choose each one though?\n",
    "\n",
    "| Data Type | Allows Duplicates | Ordered | Can change its contents (mutable) |\n",
    "| --- | --- | --- | --- |\n",
    "| Tuple | Yes | Yes | No|\n",
    "| List | Yes | Yes | Yes|\n",
    "| Set | No| No| \"Yes\"|\n",
    "\n",
    "Dictionary is more specific: you store `key:value` pairs inside.\n",
    "Keys must be a basic data type or something that can be used as key because **it doesn't change its internal contents**: like `int`, `str` or maybe `tuple` (In other words, keys **must be immutable**).\n"
   ]
  },
  {
   "cell_type": "markdown",
   "id": "0876c1c1",
   "metadata": {},
   "source": [
    "Getting back to our address example, which one to choose?\n",
    "- My address won't change\n",
    "- The order matters\n",
    "- Duplicates are OK\n",
    "\n",
    "→ A Tuple!\n",
    "Also: a tuple is faster and more memory efficient than lists, and it has fixed number of members."
   ]
  },
  {
   "cell_type": "markdown",
   "id": "8c158a78",
   "metadata": {},
   "source": [
    "► *Do you have examples of when to use lists or sets?*"
   ]
  },
  {
   "cell_type": "markdown",
   "id": "51b5304e",
   "metadata": {},
   "source": [
    "## Tuples: define them with brackets `(` `)`"
   ]
  },
  {
   "cell_type": "code",
   "execution_count": null,
   "id": "6a634a36",
   "metadata": {},
   "outputs": [],
   "source": [
    "address = (house_number, street, city, postcode)\n",
    "address"
   ]
  },
  {
   "cell_type": "code",
   "execution_count": null,
   "id": "3172f5c1",
   "metadata": {},
   "outputs": [],
   "source": [
    "address[2]"
   ]
  },
  {
   "cell_type": "code",
   "execution_count": null,
   "id": "ebb6508b",
   "metadata": {},
   "outputs": [],
   "source": [
    "# We can extract tuple's data in one shot!\n",
    "nbr, strt, cty, pcode = address\n",
    "print(f\"\"\"{nbr} {strt}\n",
    "{cty} {pcode}\"\"\")"
   ]
  },
  {
   "cell_type": "code",
   "execution_count": null,
   "id": "2049ecec",
   "metadata": {
    "scrolled": false
   },
   "outputs": [],
   "source": [
    "address[2] = \"London\""
   ]
  },
  {
   "cell_type": "code",
   "execution_count": null,
   "id": "1035a4a4",
   "metadata": {},
   "outputs": [],
   "source": [
    "address.append(\"Earth\")"
   ]
  },
  {
   "cell_type": "code",
   "execution_count": null,
   "id": "c5a9f4a4",
   "metadata": {},
   "outputs": [],
   "source": [
    "type(address)"
   ]
  },
  {
   "cell_type": "markdown",
   "id": "6a335951",
   "metadata": {},
   "source": [
    "## Lists: define them with square brackets `[` `]`"
   ]
  },
  {
   "cell_type": "code",
   "execution_count": null,
   "id": "db135bde",
   "metadata": {},
   "outputs": [],
   "source": [
    "queue = [\"Tom\", \"John\", \"Peter\", \"Luke\", \"Sam\"]\n",
    "queue"
   ]
  },
  {
   "cell_type": "code",
   "execution_count": null,
   "id": "f120fe36",
   "metadata": {},
   "outputs": [],
   "source": [
    "queue[3]"
   ]
  },
  {
   "cell_type": "code",
   "execution_count": null,
   "id": "30927816",
   "metadata": {},
   "outputs": [],
   "source": [
    "queue[5]"
   ]
  },
  {
   "cell_type": "code",
   "execution_count": null,
   "id": "c8b58757",
   "metadata": {},
   "outputs": [],
   "source": [
    "queue[-1]"
   ]
  },
  {
   "cell_type": "code",
   "execution_count": null,
   "id": "c93bf5fa",
   "metadata": {},
   "outputs": [],
   "source": [
    "queue[-3]"
   ]
  },
  {
   "cell_type": "markdown",
   "id": "c88d2058",
   "metadata": {},
   "source": [
    "Slicing with lists"
   ]
  },
  {
   "cell_type": "code",
   "execution_count": null,
   "id": "1ed70dda",
   "metadata": {},
   "outputs": [],
   "source": [
    "queue[:]"
   ]
  },
  {
   "cell_type": "code",
   "execution_count": null,
   "id": "7d37afb7",
   "metadata": {},
   "outputs": [],
   "source": [
    "queue[1:3]"
   ]
  },
  {
   "cell_type": "code",
   "execution_count": null,
   "id": "81c354ca",
   "metadata": {},
   "outputs": [],
   "source": [
    "queue[2:]"
   ]
  },
  {
   "cell_type": "code",
   "execution_count": null,
   "id": "306e037f",
   "metadata": {},
   "outputs": [],
   "source": [
    "queue[:3]"
   ]
  },
  {
   "cell_type": "code",
   "execution_count": null,
   "id": "202917bb",
   "metadata": {},
   "outputs": [],
   "source": [
    "queue[2,3,4]"
   ]
  },
  {
   "cell_type": "code",
   "execution_count": null,
   "id": "5e3a7d81",
   "metadata": {},
   "outputs": [],
   "source": [
    "# We can change the contents of the queue because it is mutable!\n",
    "queue.append(\"Aaron\")\n",
    "queue"
   ]
  },
  {
   "cell_type": "code",
   "execution_count": null,
   "id": "5c78f10d",
   "metadata": {},
   "outputs": [],
   "source": [
    "# Let's imagine we have a new line of people at the door\n",
    "new_people = [\"Bridget\", \"Valerie\", \"Mary\"]\n",
    "queue.append(new_people)\n",
    "queue"
   ]
  },
  {
   "cell_type": "code",
   "execution_count": null,
   "id": "89015911",
   "metadata": {},
   "outputs": [],
   "source": [
    "queue.append(\"Mary\").append(\"Valerie\")\n",
    "queue"
   ]
  },
  {
   "cell_type": "code",
   "execution_count": null,
   "id": "a87186f4",
   "metadata": {},
   "outputs": [],
   "source": [
    "queue = [\"Tom\", \"John\", \"Peter\", \"Luke\", \"Sam\"]\n",
    "queue.extend(new_people)\n",
    "queue"
   ]
  },
  {
   "cell_type": "code",
   "execution_count": null,
   "id": "196e95c7",
   "metadata": {},
   "outputs": [],
   "source": [
    "# Can use basic operations on lists\n",
    "queue = [\"Tom\", \"John\", \"Peter\", \"Luke\", \"Sam\"]\n",
    "queue + new_people"
   ]
  },
  {
   "cell_type": "code",
   "execution_count": null,
   "id": "5295d1ac",
   "metadata": {},
   "outputs": [],
   "source": [
    "# Since order matters, we want to be able to insert at specific location sometimes. We can then use `.insert()`:\n",
    "queue.insert(3, \"Felicity\")\n",
    "queue"
   ]
  },
  {
   "cell_type": "code",
   "execution_count": null,
   "id": "58a02a51",
   "metadata": {},
   "outputs": [],
   "source": [
    "# Or even sort things\n",
    "queue.sort()\n",
    "queue"
   ]
  },
  {
   "cell_type": "code",
   "execution_count": null,
   "id": "aa7e3dae",
   "metadata": {},
   "outputs": [],
   "source": [
    "queue.sort(reverse=True)\n",
    "queue"
   ]
  },
  {
   "cell_type": "code",
   "execution_count": null,
   "id": "907c9ccb",
   "metadata": {},
   "outputs": [],
   "source": [
    "# Or even remove things\n",
    "queue.remove(\"Peter\")\n",
    "queue"
   ]
  },
  {
   "cell_type": "code",
   "execution_count": null,
   "id": "815cbff1",
   "metadata": {},
   "outputs": [],
   "source": [
    "queue.remove(\"Dan\")"
   ]
  },
  {
   "cell_type": "markdown",
   "id": "012eed88",
   "metadata": {},
   "source": [
    "**We can have multi-dimensional lists!** that is by *nesting* lists:"
   ]
  },
  {
   "cell_type": "code",
   "execution_count": null,
   "id": "9f80183e",
   "metadata": {},
   "outputs": [],
   "source": [
    "matrix = [[1, 2, 3],\n",
    "         [4, 5, 6],\n",
    "         [7, 8, 9]]\n",
    "matrix"
   ]
  },
  {
   "cell_type": "code",
   "execution_count": null,
   "id": "8f599cb5",
   "metadata": {
    "scrolled": true
   },
   "outputs": [],
   "source": [
    "matrix[1, 2]"
   ]
  },
  {
   "cell_type": "code",
   "execution_count": null,
   "id": "a70dd5b5",
   "metadata": {},
   "outputs": [],
   "source": [
    "matrix[1][3]"
   ]
  },
  {
   "cell_type": "code",
   "execution_count": null,
   "id": "beaf3d97",
   "metadata": {},
   "outputs": [],
   "source": [
    "matrix[1][2]"
   ]
  },
  {
   "cell_type": "code",
   "execution_count": null,
   "id": "50285bac",
   "metadata": {},
   "outputs": [],
   "source": [
    "matrix[0].sort(reverse=True)\n",
    "matrix"
   ]
  },
  {
   "cell_type": "code",
   "execution_count": null,
   "id": "89642028",
   "metadata": {},
   "outputs": [],
   "source": [
    "matrix[2][2]"
   ]
  },
  {
   "cell_type": "markdown",
   "id": "05d5dba6",
   "metadata": {},
   "source": [
    "# Sets: define them with `set([])` or with `{` `}` if not empty"
   ]
  },
  {
   "cell_type": "markdown",
   "id": "ba3fbfa5",
   "metadata": {},
   "source": [
    "The main feautre: **no duplicates**! We can perform set operations on sets, like union and intersection, which is very handy! Memberships are typically modelled with sets.\n",
    "\n",
    "Note: a set is **unordered**! so no indexes or order here"
   ]
  },
  {
   "cell_type": "code",
   "execution_count": null,
   "id": "26caca8c",
   "metadata": {},
   "outputs": [],
   "source": [
    "husband_bag = {\"apples\", \"orages\", \"eggs\"}\n",
    "husband_bag"
   ]
  },
  {
   "cell_type": "code",
   "execution_count": null,
   "id": "913124da",
   "metadata": {},
   "outputs": [],
   "source": [
    "husband_bag = set([\"apples\", \"oranges\", \"eggs\"])\n",
    "husband_bag"
   ]
  },
  {
   "cell_type": "code",
   "execution_count": null,
   "id": "42b5860c",
   "metadata": {},
   "outputs": [],
   "source": [
    "husband_bag.add(\"chocolate\")\n",
    "husband_bag"
   ]
  },
  {
   "cell_type": "code",
   "execution_count": null,
   "id": "2920210c",
   "metadata": {},
   "outputs": [],
   "source": [
    "husband_bag.add(\"eggs\")\n",
    "husband_bag"
   ]
  },
  {
   "cell_type": "code",
   "execution_count": null,
   "id": "112d7339",
   "metadata": {},
   "outputs": [],
   "source": [
    "husband_bag.update([\"PS4\", \"Castle Vania\", \"apples\"])\n",
    "husband_bag"
   ]
  },
  {
   "cell_type": "code",
   "execution_count": null,
   "id": "56f438cc",
   "metadata": {},
   "outputs": [],
   "source": [
    "husband_bag[0]"
   ]
  },
  {
   "cell_type": "code",
   "execution_count": null,
   "id": "10f337b0",
   "metadata": {
    "scrolled": true
   },
   "outputs": [],
   "source": [
    "wife_bag = {\"milk\", \"meat\", \"eggs\", \"chocolate\", \"chocolate\", \"chocolate\"}\n",
    "wife_bag"
   ]
  },
  {
   "cell_type": "markdown",
   "id": "ed42a37e",
   "metadata": {},
   "source": [
    "Let's find particular items of both of them:"
   ]
  },
  {
   "cell_type": "code",
   "execution_count": null,
   "id": "3570ddba",
   "metadata": {},
   "outputs": [],
   "source": [
    "wife_bag.difference(husband_bag)"
   ]
  },
  {
   "cell_type": "code",
   "execution_count": null,
   "id": "b457a56d",
   "metadata": {},
   "outputs": [],
   "source": [
    "husband_bag.difference(wife_bag)"
   ]
  },
  {
   "cell_type": "code",
   "execution_count": null,
   "id": "f39c57ca",
   "metadata": {},
   "outputs": [],
   "source": [
    "wife_bag.symmetric_difference(husband_bag)"
   ]
  },
  {
   "cell_type": "code",
   "execution_count": null,
   "id": "4aa2a8d2",
   "metadata": {},
   "outputs": [],
   "source": [
    "wife_bag ^ husband_bag"
   ]
  },
  {
   "cell_type": "markdown",
   "id": "c799db23",
   "metadata": {},
   "source": [
    "Has any of the two bought the same thing twice? let's avoid an argument and find out!"
   ]
  },
  {
   "cell_type": "code",
   "execution_count": null,
   "id": "548ef17c",
   "metadata": {},
   "outputs": [],
   "source": [
    "wife_bag.intersection(husband_bag)"
   ]
  },
  {
   "cell_type": "code",
   "execution_count": null,
   "id": "4e3e0b99",
   "metadata": {},
   "outputs": [],
   "source": [
    "husband_bag.remove(\"eggs\")\n",
    "\n",
    "if len(wife_bag.intersection(husband_bag)) == 0:\n",
    "    print(\"We're good now!\")"
   ]
  },
  {
   "cell_type": "code",
   "execution_count": null,
   "id": "8bf05256",
   "metadata": {},
   "outputs": [],
   "source": [
    "husband_bag.remove(\"eggs\")"
   ]
  },
  {
   "cell_type": "code",
   "execution_count": null,
   "id": "821de23b",
   "metadata": {},
   "outputs": [],
   "source": [
    "husband_bag.add(\"eggs\")\n",
    "husband_bag.discard(\"eggs\")\n",
    "husband_bag"
   ]
  },
  {
   "cell_type": "code",
   "execution_count": null,
   "id": "e7807951",
   "metadata": {},
   "outputs": [],
   "source": [
    "husband_bag.discard(\"eggs\")\n",
    "husband_bag"
   ]
  },
  {
   "cell_type": "markdown",
   "id": "6ebbb602",
   "metadata": {},
   "source": [
    "Let's have an overview of what the couple has bought:"
   ]
  },
  {
   "cell_type": "code",
   "execution_count": null,
   "id": "614bf6b7",
   "metadata": {},
   "outputs": [],
   "source": [
    "husband_bag.union(wife_bag)"
   ]
  },
  {
   "cell_type": "code",
   "execution_count": null,
   "id": "a7155bac",
   "metadata": {},
   "outputs": [],
   "source": [
    "couples_bag = husband_bag.union(wife_bag)\n",
    "\n",
    "print(f\"The couple bought {len(couples_bag)} items\")"
   ]
  },
  {
   "cell_type": "markdown",
   "id": "061a0b20",
   "metadata": {},
   "source": [
    "# Dictionaries: define them with `{` `}`"
   ]
  },
  {
   "cell_type": "markdown",
   "id": "12d6a59d",
   "metadata": {},
   "source": [
    "Very common and power data structure, wherever you have associative relations between a \"key\" and a \"value\": key → value(s)."
   ]
  },
  {
   "cell_type": "markdown",
   "id": "c2ae6c01",
   "metadata": {},
   "source": [
    "Typical example: **telephone directory**!\n",
    "Let's make one for BT, wher we have Tom, Mary and Rebecca as customers."
   ]
  },
  {
   "cell_type": "code",
   "execution_count": null,
   "id": "2b9da96f",
   "metadata": {},
   "outputs": [],
   "source": [
    "bt_phone_book = {}\n",
    "print(bt_phone_book)\n",
    "print(type(bt_phone_book))"
   ]
  },
  {
   "cell_type": "markdown",
   "id": "91ba8fa3",
   "metadata": {},
   "source": [
    "Since its type is dict, there is a `dict()` function which we can use too, like other datatypes:"
   ]
  },
  {
   "cell_type": "code",
   "execution_count": null,
   "id": "516653e5",
   "metadata": {},
   "outputs": [],
   "source": [
    "bt_phone_book = dict([])\n",
    "bt_phone_book"
   ]
  },
  {
   "cell_type": "markdown",
   "id": "6cc59b7e",
   "metadata": {},
   "source": [
    "Since we know the keys, we can use `dict.fromkeys`:"
   ]
  },
  {
   "cell_type": "code",
   "execution_count": null,
   "id": "088a6d72",
   "metadata": {},
   "outputs": [],
   "source": [
    "customers = ['Tom', 'Mary', 'Rebecca']"
   ]
  },
  {
   "cell_type": "code",
   "execution_count": null,
   "id": "3a5e5e23",
   "metadata": {},
   "outputs": [],
   "source": [
    "bt_phone_book = dict.fromkeys(customers, \"0000-000-0000\")\n",
    "bt_phone_book"
   ]
  },
  {
   "cell_type": "code",
   "execution_count": null,
   "id": "edf6deb9",
   "metadata": {},
   "outputs": [],
   "source": [
    "bt_phone_book = {\"Tom\": '013253434',\n",
    "                \"Mary\": '734246344',\n",
    "                \"Rebecca\": '533159372'}\n",
    "bt_phone_book"
   ]
  },
  {
   "cell_type": "markdown",
   "id": "47d318e6",
   "metadata": {},
   "source": [
    "## Dictionary Keys and Values or Items"
   ]
  },
  {
   "cell_type": "code",
   "execution_count": null,
   "id": "3c19666e",
   "metadata": {
    "scrolled": true
   },
   "outputs": [],
   "source": [
    "print(\"Keys:\", bt_phone_book.keys())\n",
    "print(\"Values:\", bt_phone_book.values())"
   ]
  },
  {
   "cell_type": "code",
   "execution_count": null,
   "id": "3e122b10",
   "metadata": {},
   "outputs": [],
   "source": [
    "bt_phone_book[\"Tom\"]"
   ]
  },
  {
   "cell_type": "code",
   "execution_count": null,
   "id": "9293962a",
   "metadata": {},
   "outputs": [],
   "source": [
    "bt_phone_book.get(\"Tom\")"
   ]
  },
  {
   "cell_type": "code",
   "execution_count": null,
   "id": "ba1b4f8a",
   "metadata": {},
   "outputs": [],
   "source": [
    "bt_phone_book[\"Sam\"]"
   ]
  },
  {
   "cell_type": "code",
   "execution_count": null,
   "id": "9aa74ce0",
   "metadata": {},
   "outputs": [],
   "source": [
    "bt_phone_book.get(\"Sam\")"
   ]
  },
  {
   "cell_type": "code",
   "execution_count": null,
   "id": "04813e21",
   "metadata": {
    "scrolled": true
   },
   "outputs": [],
   "source": [
    "bt_phone_book[\"Sam\"] = '72453'\n",
    "bt_phone_book"
   ]
  },
  {
   "cell_type": "code",
   "execution_count": null,
   "id": "07f557e2",
   "metadata": {},
   "outputs": [],
   "source": [
    "del(bt_phone_book[\"Sam\"])\n",
    "bt_phone_book"
   ]
  },
  {
   "cell_type": "code",
   "execution_count": null,
   "id": "dbe0ea01",
   "metadata": {},
   "outputs": [],
   "source": [
    "bt_phone_book.items()"
   ]
  },
  {
   "cell_type": "markdown",
   "id": "42af64d4",
   "metadata": {},
   "source": [
    "What if a person has many phone numbers??"
   ]
  },
  {
   "cell_type": "code",
   "execution_count": null,
   "id": "51c27e78",
   "metadata": {},
   "outputs": [],
   "source": [
    "# Let's make a better phone book\n",
    "bt_phone_book = {\"Tom\": '013253434',\n",
    "                \"Mary\": '734246344',\n",
    "                \"Rebecca\": '533159372'}"
   ]
  },
  {
   "cell_type": "code",
   "execution_count": null,
   "id": "c05bdfa7",
   "metadata": {},
   "outputs": [],
   "source": [
    "# Let's add a number to Rebecca:\n"
   ]
  },
  {
   "cell_type": "code",
   "execution_count": null,
   "id": "f2c0b438",
   "metadata": {},
   "outputs": [],
   "source": [
    "new_customers = {\"Sam\": [143423, 634345], \"Dan\": 632323}\n",
    "bt_phone_book.update(new_customers)\n",
    "bt_phone_book"
   ]
  },
  {
   "cell_type": "code",
   "execution_count": null,
   "id": "ff3dc858",
   "metadata": {},
   "outputs": [],
   "source": [
    "new_data = {\"Sam\": None}\n",
    "bt_phone_book.update(new_data)\n",
    "bt_phone_book"
   ]
  },
  {
   "cell_type": "markdown",
   "id": "49dba8d6",
   "metadata": {},
   "source": [
    "### The `isinstance()` function"
   ]
  },
  {
   "cell_type": "code",
   "execution_count": null,
   "id": "25d07c73",
   "metadata": {},
   "outputs": [],
   "source": [
    "my_list = [2, 6, \"Tom\", \"John\", 8, True]\n",
    "my_tupe = (\"0044\", \"1521\", \"759123\")\n",
    "\n",
    "# Feel free to craft your own even more complex data types to suit your needs!\n",
    "my_dict = {\"country1\": {\"city1\": [\"street1\", \"street2\"],\n",
    "                        \"city2\": \"street3\"},\n",
    "          \"country2\": {\"city3\": \"street4\"}}"
   ]
  },
  {
   "cell_type": "code",
   "execution_count": null,
   "id": "cc273f8b",
   "metadata": {},
   "outputs": [],
   "source": [
    "type(my_list)"
   ]
  },
  {
   "cell_type": "code",
   "execution_count": null,
   "id": "e604a1f5",
   "metadata": {},
   "outputs": [],
   "source": [
    "type(my_tupe)"
   ]
  },
  {
   "cell_type": "code",
   "execution_count": null,
   "id": "c5bfdbd5",
   "metadata": {},
   "outputs": [],
   "source": [
    "type(my_dict)"
   ]
  },
  {
   "cell_type": "code",
   "execution_count": null,
   "id": "ce35cad5",
   "metadata": {},
   "outputs": [],
   "source": [
    "type(my_list) == list"
   ]
  },
  {
   "cell_type": "code",
   "execution_count": null,
   "id": "88f508b2",
   "metadata": {},
   "outputs": [],
   "source": [
    "type(my_tupe) == tuple"
   ]
  },
  {
   "cell_type": "code",
   "execution_count": null,
   "id": "70bca6bb",
   "metadata": {},
   "outputs": [],
   "source": [
    "# Safer and should be used always for headache-free execution (subtypes and OOP...)\n",
    "isinstance(my_list, list)"
   ]
  },
  {
   "cell_type": "code",
   "execution_count": null,
   "id": "5dd24fc7",
   "metadata": {},
   "outputs": [],
   "source": [
    "isinstance(my_dict, tuple)"
   ]
  },
  {
   "cell_type": "code",
   "execution_count": null,
   "id": "1f6fb456",
   "metadata": {},
   "outputs": [],
   "source": [
    "isinstance(\"3\", int)"
   ]
  },
  {
   "cell_type": "markdown",
   "id": "e2f60fff",
   "metadata": {},
   "source": [
    "### The `len()` function"
   ]
  },
  {
   "cell_type": "code",
   "execution_count": null,
   "id": "602ee169",
   "metadata": {
    "scrolled": true
   },
   "outputs": [],
   "source": [
    "len(my_list)"
   ]
  },
  {
   "cell_type": "code",
   "execution_count": null,
   "id": "3837d06d",
   "metadata": {},
   "outputs": [],
   "source": [
    "len(my_tupe)"
   ]
  },
  {
   "cell_type": "code",
   "execution_count": null,
   "id": "3ef05f76",
   "metadata": {},
   "outputs": [],
   "source": [
    "my_dict"
   ]
  },
  {
   "cell_type": "code",
   "execution_count": null,
   "id": "583b4337",
   "metadata": {},
   "outputs": [],
   "source": [
    "len(my_dict)"
   ]
  },
  {
   "cell_type": "code",
   "execution_count": null,
   "id": "e7ce1f3a",
   "metadata": {},
   "outputs": [],
   "source": [
    "len(my_dict[\"country2\"])"
   ]
  },
  {
   "cell_type": "code",
   "execution_count": null,
   "id": "489aff56",
   "metadata": {},
   "outputs": [],
   "source": [
    "# Will you be able to pull this off?\n",
    "len(my_dict[\"country1\"][\"city2\"])"
   ]
  },
  {
   "cell_type": "markdown",
   "id": "6c3de449",
   "metadata": {},
   "source": [
    "### The `in` operator"
   ]
  },
  {
   "cell_type": "code",
   "execution_count": null,
   "id": "848ef283",
   "metadata": {},
   "outputs": [],
   "source": [
    "queue = [\"Sam\", \"Tom\", \"Paul\"]"
   ]
  },
  {
   "cell_type": "code",
   "execution_count": null,
   "id": "140021bb",
   "metadata": {},
   "outputs": [],
   "source": [
    "\"Tom\" in queue"
   ]
  },
  {
   "cell_type": "code",
   "execution_count": null,
   "id": "c0e42b72",
   "metadata": {},
   "outputs": [],
   "source": [
    "\"Tom\" not in queue"
   ]
  },
  {
   "cell_type": "code",
   "execution_count": null,
   "id": "f3e82602",
   "metadata": {},
   "outputs": [],
   "source": [
    "bt_phone_book = {\"Tom\": '013253434',\n",
    "                \"Mary\": '734246344',\n",
    "                \"Rebecca\": '533159372'}"
   ]
  },
  {
   "cell_type": "code",
   "execution_count": null,
   "id": "5e62f3e8",
   "metadata": {},
   "outputs": [],
   "source": [
    "\"Mary\" in bt_phone_book"
   ]
  },
  {
   "cell_type": "code",
   "execution_count": null,
   "id": "0a6a02a3",
   "metadata": {},
   "outputs": [],
   "source": [
    "\"Mary\" in bt_phone_book.values()"
   ]
  },
  {
   "cell_type": "markdown",
   "id": "dabc3aea",
   "metadata": {},
   "source": [
    "---"
   ]
  },
  {
   "cell_type": "markdown",
   "id": "8b3dbbb3",
   "metadata": {},
   "source": [
    "# Conditionals and comparisons"
   ]
  },
  {
   "cell_type": "markdown",
   "id": "f6d38cfb",
   "metadata": {},
   "source": [
    "We have six comparison operators in Python:"
   ]
  },
  {
   "cell_type": "markdown",
   "id": "4dbe8da7",
   "metadata": {},
   "source": [
    "|Operator|Meaning|\n",
    "|---|---|\n",
    "|>| greater than|\n",
    "|<| smaller than|\n",
    "|>=| greater than or equal to|\n",
    "|<=| smaller than or equal to|\n",
    "|**==**| is equal|\n",
    "|!=| is not equal|"
   ]
  },
  {
   "cell_type": "markdown",
   "id": "c2b50f17",
   "metadata": {},
   "source": [
    "**Each comparison results in a boolean True or False, so it gives us a boolean values**.\n",
    "\n",
    "We use `if`, `else` and `elif` for complex comparison logic. **indentation is key to know which code lines belong under which condition expression!**"
   ]
  },
  {
   "cell_type": "code",
   "execution_count": null,
   "id": "95ad0317",
   "metadata": {},
   "outputs": [],
   "source": [
    "var = 0\n",
    "if var > 0:\n",
    "    print(f\"value {var} is positive!\")\n",
    "    var2 = \"Yes!\"\n",
    "elif var < 0:\n",
    "    print(f\"value {var} is negative!\")\n",
    "    var2 = \"No!\"\n",
    "else:\n",
    "    print(f\"value {var} is zero.\")\n",
    "    var2 = \"Meh\"\n",
    "print(var2, \".\")"
   ]
  },
  {
   "cell_type": "code",
   "execution_count": null,
   "id": "88a2abf0",
   "metadata": {},
   "outputs": [],
   "source": [
    "if 2 < 3 < 4 < 5:\n",
    "    print(\"School is good\")\n",
    "else:\n",
    "    print(\"They lied to us!\")"
   ]
  },
  {
   "cell_type": "code",
   "execution_count": null,
   "id": "8b911ec0",
   "metadata": {},
   "outputs": [],
   "source": [
    "if 'a' >= 'z':\n",
    "    print(\"hello\")\n",
    "elif 'a' < 'z':\n",
    "    print(\"bye\")"
   ]
  },
  {
   "cell_type": "code",
   "execution_count": null,
   "id": "e1fc5b96",
   "metadata": {},
   "outputs": [],
   "source": [
    "var = 5\n",
    "\n",
    "if var = 0:\n",
    "    print(f\"This var is absolutely zero, and it's value is {var}\")\n",
    "elif var != 0:\n",
    "    print(f\"{var} is not zilch at the end.\")"
   ]
  },
  {
   "cell_type": "code",
   "execution_count": null,
   "id": "89a27234",
   "metadata": {},
   "outputs": [],
   "source": [
    "if False == 1:\n",
    "    print(\"hello\")\n",
    "elif False != 1:\n",
    "    print(\"bye\")"
   ]
  },
  {
   "cell_type": "markdown",
   "id": "06ad6c65",
   "metadata": {},
   "source": [
    "## Taking it to the next level: `or`, `and` and `not`"
   ]
  },
  {
   "cell_type": "markdown",
   "id": "0759f307",
   "metadata": {},
   "source": [
    "`or`, `not` and `and` can be used to make complex comparisons like this:"
   ]
  },
  {
   "cell_type": "code",
   "execution_count": null,
   "id": "d250d534",
   "metadata": {},
   "outputs": [],
   "source": [
    "check = (2 + 2 == 4) and (5 * 5 == 25) and not (5 + 2 == 7)\n",
    "if check:\n",
    "    print(\"hello\")\n",
    "else:\n",
    "    print(\"bye\")"
   ]
  },
  {
   "cell_type": "code",
   "execution_count": null,
   "id": "47992020",
   "metadata": {},
   "outputs": [],
   "source": [
    "raining = True\n",
    "windy = False\n",
    "warm = True"
   ]
  },
  {
   "cell_type": "code",
   "execution_count": null,
   "id": "2e6acbdf",
   "metadata": {},
   "outputs": [],
   "source": [
    "play_outside = None"
   ]
  },
  {
   "cell_type": "code",
   "execution_count": null,
   "id": "13cfaecb",
   "metadata": {},
   "outputs": [],
   "source": [
    "if warm or not raining:\n",
    "    play_outside = True\n",
    "elif raining and windy:\n",
    "    play_outside = False\n",
    "elif warm and not windy:\n",
    "    play_outside = True\n",
    "\n",
    "print(f\"Play outside: {play_outside}\")"
   ]
  },
  {
   "cell_type": "markdown",
   "id": "95a62fa0",
   "metadata": {},
   "source": [
    "What if a variable is unknown?"
   ]
  },
  {
   "cell_type": "code",
   "execution_count": null,
   "id": "d5c12176",
   "metadata": {},
   "outputs": [],
   "source": [
    "var1 = None\n",
    "var2 = None\n",
    "\n",
    "if var1 == var2:\n",
    "    print(\"zero\")\n",
    "elif var1 != var2:\n",
    "    print(\"not zero\")"
   ]
  },
  {
   "cell_type": "markdown",
   "id": "c77cbc21",
   "metadata": {},
   "source": [
    "However, it is **always recommended** to use `is` when comparing to `None` because `None` is \"unknown\"/\"unassigned\""
   ]
  },
  {
   "cell_type": "code",
   "execution_count": null,
   "id": "6ed9219f",
   "metadata": {},
   "outputs": [],
   "source": [
    "if var1 is var2:\n",
    "    print(\"zero\")\n",
    "else:\n",
    "    print(\"not zero\")"
   ]
  },
  {
   "cell_type": "markdown",
   "id": "d8999e64",
   "metadata": {},
   "source": [
    "---"
   ]
  },
  {
   "cell_type": "markdown",
   "id": "2ea93140",
   "metadata": {},
   "source": [
    "# Loops"
   ]
  },
  {
   "cell_type": "markdown",
   "id": "21684db2",
   "metadata": {},
   "source": [
    "Let's try to print the names of people standing at the till:"
   ]
  },
  {
   "cell_type": "code",
   "execution_count": null,
   "id": "14f46f0f",
   "metadata": {},
   "outputs": [],
   "source": [
    "queue = [\"Tom\", \"John\", \"Peter\", \"Luke\", \"Sam\"]\n",
    "# Print all elements\n",
    "print(queue[0])\n",
    "print(queue[1])\n",
    "print(queue[2])\n",
    "print(queue[3])\n",
    "print(queue[4])"
   ]
  },
  {
   "cell_type": "markdown",
   "id": "f1448544",
   "metadata": {},
   "source": [
    "Imagine that we have 100 customers...\n",
    "\n",
    "For tasks than need repetition, like going over a list or data, we should use loops. Loops are dynamic and convenient.\n",
    "\n",
    "We have two kinds of loops in Python:\n",
    "- `for` loops\n",
    "- `while` loops"
   ]
  },
  {
   "cell_type": "code",
   "execution_count": null,
   "id": "3ab98d9e",
   "metadata": {},
   "outputs": [],
   "source": [
    "for customer in queue:\n",
    "    print(customer)"
   ]
  },
  {
   "cell_type": "markdown",
   "id": "531413e7",
   "metadata": {},
   "source": [
    "We can enumerate the loops, or number them and maybe use these numbers if they are meaningful to us, with `enumerate`:"
   ]
  },
  {
   "cell_type": "code",
   "execution_count": null,
   "id": "23300841",
   "metadata": {},
   "outputs": [],
   "source": [
    "for turn, customer in enumerate(queue):\n",
    "    print(f\"{turn} - {customer}\")"
   ]
  },
  {
   "cell_type": "code",
   "execution_count": null,
   "id": "c06ef723",
   "metadata": {},
   "outputs": [],
   "source": [
    "for turn, customer in enumerate(queue):\n",
    "    print(f\"# {turn+1} - {customer}\")"
   ]
  },
  {
   "cell_type": "markdown",
   "id": "a47f8170",
   "metadata": {},
   "source": [
    "**For (and while) loops can iterate over *iterable* objects**, i.e. they need to have elements to return one at a time.\n",
    "How about this?"
   ]
  },
  {
   "cell_type": "code",
   "execution_count": null,
   "id": "73bbb227",
   "metadata": {},
   "outputs": [],
   "source": [
    "for letter in \"ABCDEFG\":\n",
    "    print(letter)"
   ]
  },
  {
   "cell_type": "code",
   "execution_count": null,
   "id": "e662c7e0",
   "metadata": {},
   "outputs": [],
   "source": [
    "for number in 2376:\n",
    "    print(element)"
   ]
  },
  {
   "cell_type": "code",
   "execution_count": null,
   "id": "9fb120cb",
   "metadata": {},
   "outputs": [],
   "source": [
    "for counter in range(6):\n",
    "    print(counter)"
   ]
  },
  {
   "cell_type": "code",
   "execution_count": null,
   "id": "6792bd39",
   "metadata": {},
   "outputs": [],
   "source": [
    "matrix = [[1, 2, 3],\n",
    "         [4, 5, 6],\n",
    "         [7, 8, 9]]\n",
    "matrix"
   ]
  },
  {
   "cell_type": "code",
   "execution_count": null,
   "id": "79f6b132",
   "metadata": {},
   "outputs": [],
   "source": [
    "for r, element in enumerate(matrix):\n",
    "    print(f\"row {r}:{element}\")"
   ]
  },
  {
   "cell_type": "code",
   "execution_count": null,
   "id": "a6b06053",
   "metadata": {},
   "outputs": [],
   "source": [
    "for r, row in enumerate(matrix):\n",
    "    for c, column in enumerate(row):\n",
    "        print(f\"row{r}, column{c}: {matrix[r][c]}\")"
   ]
  },
  {
   "cell_type": "markdown",
   "id": "27c310fb",
   "metadata": {},
   "source": [
    "If I don't know how many times to iterate, or my loop depends on a guarding condition like user input, `while` can be used:"
   ]
  },
  {
   "cell_type": "code",
   "execution_count": null,
   "id": "8f400240",
   "metadata": {
    "scrolled": false
   },
   "outputs": [],
   "source": [
    "end = 6\n",
    "counter = 0\n",
    "while counter < end:\n",
    "    print(counter)\n",
    "    counter += 1"
   ]
  },
  {
   "cell_type": "code",
   "execution_count": null,
   "id": "ffdc133f",
   "metadata": {},
   "outputs": [],
   "source": [
    "search = [\"innocent\", \"innocent\", \"guilty\", \"innocent\", \"innocent\"]*100\n",
    "search"
   ]
  },
  {
   "cell_type": "code",
   "execution_count": null,
   "id": "567befaa",
   "metadata": {},
   "outputs": [],
   "source": [
    "i = 0\n",
    "while i < len(search) and search[i] != \"guilty\":\n",
    "    print(search[i])\n",
    "    i += 1"
   ]
  },
  {
   "cell_type": "code",
   "execution_count": null,
   "id": "611dc426",
   "metadata": {},
   "outputs": [],
   "source": [
    "num = 0\n",
    "while num != -1:\n",
    "    num = input(\"Enter a number to get its exponential! If you want to quite, enter -1.\\n► \")\n",
    "    print(f\"{num}^2 = {num**2}\")\n",
    "print(\"Bye!\")"
   ]
  },
  {
   "cell_type": "markdown",
   "id": "754796ac",
   "metadata": {},
   "source": [
    "## `break` and `continue`"
   ]
  },
  {
   "cell_type": "markdown",
   "id": "3b810c68",
   "metadata": {},
   "source": [
    "`break` and `continue` are very handful for finely managing loops and enhancing the efficiency (speed and resilence to errors for example).\n",
    "\n",
    "- `break`: breaks the current loop and gets out of it to continue executing **what comes after the loop**\n",
    "- `continue`: skips the current iteration or the loop and goes to the next **iteration** if any"
   ]
  },
  {
   "cell_type": "code",
   "execution_count": null,
   "id": "14cfd368",
   "metadata": {},
   "outputs": [],
   "source": [
    "search = [\"guilty\", \"innocent\", \"innocent\", \"guilty\", \"innocent\", \"innocent\"]*100\n",
    "search"
   ]
  },
  {
   "cell_type": "code",
   "execution_count": null,
   "id": "fdefcdde",
   "metadata": {},
   "outputs": [],
   "source": [
    "# Find if the list contains an innocent:\n",
    "has_innocents = False\n",
    "iterations_run = 0\n",
    "for case in search:\n",
    "    iterations_run += 1\n",
    "    if case == \"innocent\":\n",
    "        has_innocents = True\n",
    "print(f\"Innocents found is {has_innocents} in {iterations_run} iterations.\")"
   ]
  },
  {
   "cell_type": "code",
   "execution_count": null,
   "id": "bfaf4bb5",
   "metadata": {},
   "outputs": [],
   "source": [
    "# Find if the list contains an innocent:\n",
    "has_innocents = False\n",
    "iterations_run = 0\n",
    "for case in search:\n",
    "    iterations_run += 1\n",
    "    if case == \"innocent\":\n",
    "        has_innocents = True\n",
    "        break;\n",
    "print(f\"Innocents found is {has_innocents} in {iterations_run} iterations.\")"
   ]
  },
  {
   "cell_type": "code",
   "execution_count": null,
   "id": "f9c2e2fb",
   "metadata": {},
   "outputs": [],
   "source": [
    "data = [\"Falk\", \"Kim\", \"Uli\", None, \"Dani\", \"Charlie\", None]\n",
    "for name in data:\n",
    "    print(f\"{name} is {len(name)} characters long.\")"
   ]
  },
  {
   "cell_type": "code",
   "execution_count": null,
   "id": "2ce28b64",
   "metadata": {},
   "outputs": [],
   "source": [
    "for name in data:\n",
    "    if name is None:\n",
    "        continue\n",
    "    print(f\"{name} is {len(name)} characters long.\")"
   ]
  },
  {
   "cell_type": "markdown",
   "id": "f6eac898",
   "metadata": {},
   "source": [
    "# List Comprehensions"
   ]
  },
  {
   "cell_type": "markdown",
   "id": "987d05d4",
   "metadata": {},
   "source": [
    "It is an advanced \"aesthetic\" concept, so understand loops perfectly before using these."
   ]
  },
  {
   "cell_type": "code",
   "execution_count": null,
   "id": "61819470",
   "metadata": {},
   "outputs": [],
   "source": [
    "nums = [1, 2, 3]\n",
    "doubles = []\n",
    "\n",
    "for num in nums:\n",
    "    doubles.append(num*2)\n",
    "\n",
    "doubles"
   ]
  },
  {
   "cell_type": "code",
   "execution_count": null,
   "id": "5cfbfcb3",
   "metadata": {},
   "outputs": [],
   "source": [
    "doubles = [num*2 for num in nums]\n",
    "doubles"
   ]
  },
  {
   "cell_type": "code",
   "execution_count": null,
   "id": "62e5efaf",
   "metadata": {},
   "outputs": [],
   "source": [
    "nums = [1, 2, 3, 4]\n",
    "even_doubles = []\n",
    "\n",
    "for num in nums:\n",
    "    if num % 2 == 0:\n",
    "        even_doubles.append(num*2)\n",
    "\n",
    "even_doubles"
   ]
  },
  {
   "cell_type": "code",
   "execution_count": null,
   "id": "552d4471",
   "metadata": {},
   "outputs": [],
   "source": [
    "even_doubles = [x*2 for x in nums if x%2 == 0]\n",
    "even_doubles"
   ]
  },
  {
   "cell_type": "markdown",
   "id": "3e36b8af",
   "metadata": {},
   "source": [
    "---"
   ]
  },
  {
   "cell_type": "markdown",
   "id": "5170fa4a",
   "metadata": {},
   "source": [
    "# I/O"
   ]
  },
  {
   "cell_type": "markdown",
   "id": "fa5de2c6",
   "metadata": {},
   "source": [
    "Let's look at a quich example to read a CSV file in a slightly different way.\n",
    "\n",
    "`Pandas` is amazing at doing so, but some I/O experience can come a long way."
   ]
  },
  {
   "cell_type": "code",
   "execution_count": null,
   "id": "6d51ab07",
   "metadata": {},
   "outputs": [],
   "source": [
    "import os\n",
    "os.getcwd()"
   ]
  },
  {
   "cell_type": "code",
   "execution_count": null,
   "id": "e8dddee3",
   "metadata": {},
   "outputs": [],
   "source": [
    "file_path = r\".\\resources\\titanic.csv\""
   ]
  },
  {
   "cell_type": "code",
   "execution_count": null,
   "id": "b829d1a9",
   "metadata": {},
   "outputs": [],
   "source": [
    "import csv\n",
    "from pprint import pprint\n",
    "\n",
    "file_handler = open(file_path, mode=\"r\")\n",
    "interpret_data = csv.DictReader(file_handler)\n",
    "for line in interpret_data:\n",
    "    pprint(line)\n",
    "\n",
    "# CRUCIAL!!\n",
    "file_handler.close()\n",
    "print(\"\\nIs the file closed properly??\", file_handler.closed)"
   ]
  },
  {
   "cell_type": "markdown",
   "id": "0c34c0fb",
   "metadata": {},
   "source": [
    "It is crucial to close the file! Safer is to use a **context manager** like `with`.\n",
    "\n",
    "They manage the memory and resources for you and they take care of cleaning the mess after their context ends; context = a block of code."
   ]
  },
  {
   "cell_type": "code",
   "execution_count": null,
   "id": "47e0a614",
   "metadata": {},
   "outputs": [],
   "source": [
    "with open(file_path, mode='r') as file_handler:\n",
    "    interpret_data = csv.DictReader(file_handler)\n",
    "    for line in interpret_data:\n",
    "        print(f\"{line['Name']}:\\t{line['Survived']}\")\n",
    "\n",
    "print(\"\\nIs the file closed properly??\", file_handler.closed)"
   ]
  },
  {
   "cell_type": "code",
   "execution_count": null,
   "id": "d9bed82b",
   "metadata": {},
   "outputs": [],
   "source": [
    "with open(file_path, mode='r') as file_handler:\n",
    "    interpret_data = csv.reader(file_handler)\n",
    "    # How many people do we have?\n",
    "    print(f\"We have {len(list(interpret_data))} people on the Titanic\")\n",
    "    \n",
    "    for line in interpret_data:\n",
    "        print(f\"{line['Name']}:\\t{line['Survived']}\")\n",
    "\n",
    "print(\"\\nIs the file closed properly??\", file_handler.closed)"
   ]
  },
  {
   "cell_type": "markdown",
   "id": "370ac7a9",
   "metadata": {},
   "source": [
    "---"
   ]
  },
  {
   "cell_type": "markdown",
   "id": "be65c659",
   "metadata": {},
   "source": [
    "# Functions: the lego pieces at last! define then with `def`"
   ]
  },
  {
   "cell_type": "markdown",
   "id": "91382a9c",
   "metadata": {},
   "source": [
    "You have all used them! `print()` is a function.\n",
    "\n",
    "A function has:\n",
    "- a name\n",
    "- some parameters if needed, can be mandatory or optional with default values\n",
    "- a return value: always, even `None`\n",
    "\n",
    "These three elements are sometimes known as **signatures**."
   ]
  },
  {
   "cell_type": "markdown",
   "id": "2433a4e2",
   "metadata": {},
   "source": [
    "Let's define a function that checks if a number is even? **note the indentation!!**"
   ]
  },
  {
   "cell_type": "code",
   "execution_count": null,
   "id": "d4571806",
   "metadata": {},
   "outputs": [],
   "source": [
    "def is_even(number):\n",
    "    check = (number % 2 == 0)\n",
    "    return(check)"
   ]
  },
  {
   "cell_type": "code",
   "execution_count": null,
   "id": "08994209",
   "metadata": {},
   "outputs": [],
   "source": [
    "is_even(3) # we call the function with the *argument* 3"
   ]
  },
  {
   "cell_type": "code",
   "execution_count": null,
   "id": "6d9171d0",
   "metadata": {},
   "outputs": [],
   "source": [
    "is_even(6)"
   ]
  },
  {
   "cell_type": "code",
   "execution_count": null,
   "id": "01564004",
   "metadata": {},
   "outputs": [],
   "source": [
    "type(is_even(6))"
   ]
  },
  {
   "cell_type": "code",
   "execution_count": null,
   "id": "10f1bd68",
   "metadata": {},
   "outputs": [],
   "source": [
    "even = is_even(6)\n",
    "even"
   ]
  },
  {
   "cell_type": "code",
   "execution_count": null,
   "id": "68bac178",
   "metadata": {},
   "outputs": [],
   "source": [
    "is_even()"
   ]
  },
  {
   "cell_type": "markdown",
   "id": "11e417f5",
   "metadata": {},
   "source": [
    "You can give your parameters default values so they will be optional."
   ]
  },
  {
   "cell_type": "code",
   "execution_count": null,
   "id": "b06f60a8",
   "metadata": {},
   "outputs": [],
   "source": [
    "def is_even(number = 0):\n",
    "    check = (number % 2 == 0)\n",
    "    return(check)"
   ]
  },
  {
   "cell_type": "code",
   "execution_count": null,
   "id": "7aedecc0",
   "metadata": {},
   "outputs": [],
   "source": [
    "is_even()"
   ]
  },
  {
   "cell_type": "markdown",
   "id": "82e6f86a",
   "metadata": {},
   "source": [
    "You can be explicit about the types of parameters."
   ]
  },
  {
   "cell_type": "code",
   "execution_count": null,
   "id": "d3209931",
   "metadata": {},
   "outputs": [],
   "source": [
    "is_even(\"r\")"
   ]
  },
  {
   "cell_type": "code",
   "execution_count": null,
   "id": "afe63953",
   "metadata": {},
   "outputs": [],
   "source": [
    "def is_even(number:int = 0):\n",
    "    check = (number % 2 == 0)\n",
    "    return(check)"
   ]
  },
  {
   "cell_type": "code",
   "execution_count": null,
   "id": "c2783d1b",
   "metadata": {},
   "outputs": [],
   "source": [
    "is_even(\"r\")"
   ]
  },
  {
   "cell_type": "markdown",
   "id": "519432cc",
   "metadata": {},
   "source": [
    "Let's define a function that calculates the equation $f(x) = 5x + 3$"
   ]
  },
  {
   "cell_type": "code",
   "execution_count": null,
   "id": "59de4044",
   "metadata": {},
   "outputs": [],
   "source": [
    "def find(x: int):\n",
    "    y = 5 *x + 3\n",
    "    return y"
   ]
  },
  {
   "cell_type": "code",
   "execution_count": null,
   "id": "1689ad69",
   "metadata": {},
   "outputs": [],
   "source": [
    "print(find(2))\n",
    "print(find(5))"
   ]
  },
  {
   "cell_type": "code",
   "execution_count": null,
   "id": "bdb467ec",
   "metadata": {},
   "outputs": [],
   "source": [
    "for x in range(3):\n",
    "    print(f\"x = {x} → y = {find(x)}\")"
   ]
  },
  {
   "cell_type": "markdown",
   "id": "f4a91c69",
   "metadata": {},
   "source": [
    "## Scope Caveats"
   ]
  },
  {
   "cell_type": "code",
   "execution_count": null,
   "id": "0650cd6b",
   "metadata": {},
   "outputs": [],
   "source": [
    "var = 0\n",
    "#..\n",
    "#..\n",
    "def fun():\n",
    "    print(f\"Hello from fun and var is {var}\")\n",
    "\n",
    "fun()\n",
    "var"
   ]
  },
  {
   "cell_type": "code",
   "execution_count": null,
   "id": "a4fbfd41",
   "metadata": {},
   "outputs": [],
   "source": [
    "var = 0\n",
    "#..\n",
    "#..\n",
    "def fun():\n",
    "    var = 2\n",
    "    print(f\"Hello from fun and var is {var}\")\n",
    "\n",
    "fun()\n",
    "var"
   ]
  },
  {
   "cell_type": "code",
   "execution_count": null,
   "id": "6c609324",
   "metadata": {},
   "outputs": [],
   "source": [
    "var = 0\n",
    "def fun():\n",
    "    global var\n",
    "    var = 2\n",
    "    print(f\"Hello from fun and var is {var}\")\n",
    "\n",
    "fun()\n",
    "var"
   ]
  },
  {
   "cell_type": "code",
   "execution_count": null,
   "id": "965940da",
   "metadata": {},
   "outputs": [],
   "source": [
    "var = 0\n",
    "def fun(myvar):\n",
    "    myvar = 2\n",
    "    print(f\"Hello from fun and var is {myvar}\")\n",
    "\n",
    "fun(myvar=var)\n",
    "var"
   ]
  },
  {
   "cell_type": "code",
   "execution_count": null,
   "id": "03f18d2d",
   "metadata": {},
   "outputs": [],
   "source": [
    "def fun():\n",
    "    var2 = 2\n",
    "    print(f\"Hello from fun and var2 is {var2}\")\n",
    "\n",
    "fun()\n",
    "print(var2)"
   ]
  },
  {
   "cell_type": "markdown",
   "id": "5ca208aa",
   "metadata": {},
   "source": [
    "Can we use a function inside a function??"
   ]
  },
  {
   "cell_type": "markdown",
   "id": "8994b81d",
   "metadata": {},
   "source": [
    "---"
   ]
  }
 ],
 "metadata": {
  "kernelspec": {
   "display_name": "Python 3 (ipykernel)",
   "language": "python",
   "name": "python3"
  },
  "language_info": {
   "codemirror_mode": {
    "name": "ipython",
    "version": 3
   },
   "file_extension": ".py",
   "mimetype": "text/x-python",
   "name": "python",
   "nbconvert_exporter": "python",
   "pygments_lexer": "ipython3",
   "version": "3.9.6"
  }
 },
 "nbformat": 4,
 "nbformat_minor": 5
}
