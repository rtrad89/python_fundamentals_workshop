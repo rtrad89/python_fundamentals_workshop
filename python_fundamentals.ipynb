{
 "cells": [
  {
   "cell_type": "markdown",
   "id": "2402af3a",
   "metadata": {},
   "source": [
    "# Python Fundamentals Workshop\n",
    "***Part 1***"
   ]
  },
  {
   "cell_type": "markdown",
   "id": "2d0645ba",
   "metadata": {},
   "source": [
    "<img src=\"https://www.python.org/static/community_logos/python-logo-master-v3-TM.png\" title=\"Python Logo\"/>"
   ]
  },
  {
   "cell_type": "markdown",
   "id": "9eb01367",
   "metadata": {},
   "source": [
    "The main source of materials is the [official wiki page of Python](https://wiki.python.org/moin/BeginnersGuide/Programmers) (subsequently [this tutorial](https://python.land/python-tutorial)) and [Python cheatsheet](https://www.pythoncheatsheet.org/)."
   ]
  },
  {
   "cell_type": "markdown",
   "id": "882a7412",
   "metadata": {},
   "source": [
    "# The Zen of Python"
   ]
  },
  {
   "cell_type": "markdown",
   "id": "a0f363ab",
   "metadata": {},
   "source": [
    "Try `import this` to learn about some advocated principles by Python's gurus."
   ]
  },
  {
   "cell_type": "code",
   "execution_count": null,
   "id": "21f64e7d",
   "metadata": {},
   "outputs": [],
   "source": [
    "import this"
   ]
  },
  {
   "cell_type": "markdown",
   "id": "c4e76862",
   "metadata": {},
   "source": [
    "---"
   ]
  },
  {
   "cell_type": "markdown",
   "id": "a2270844",
   "metadata": {},
   "source": [
    "# Commenting in Python"
   ]
  },
  {
   "cell_type": "markdown",
   "id": "994cbd6f",
   "metadata": {},
   "source": [
    "You can insert your comments in Python which will not be interpreted by it at all.\n",
    "Why?\n",
    "- Document what you are doing\n",
    "- Debug\n",
    "- Reminders: use `# TODO add another function here`\n",
    "- Etc."
   ]
  },
  {
   "cell_type": "code",
   "execution_count": null,
   "id": "10187ca8",
   "metadata": {},
   "outputs": [],
   "source": [
    "# This is a single line comment\n",
    "\n",
    "\"\"\" This is a longer\n",
    "multiline\n",
    "comment\"\"\"\n",
    "\n",
    "# Or maybe\n",
    "# This multiline\n",
    "# comment\n"
   ]
  },
  {
   "cell_type": "markdown",
   "id": "18f80367",
   "metadata": {},
   "source": [
    "---"
   ]
  },
  {
   "cell_type": "markdown",
   "id": "00874cca",
   "metadata": {},
   "source": [
    "# Simple Operators"
   ]
  },
  {
   "cell_type": "markdown",
   "id": "1cca88ea",
   "metadata": {},
   "source": [
    "We have seven simple operators in Python:\n",
    "\n",
    "| # | Operator | Semantics | Example |\n",
    "| --- | --- | --- | --- |\n",
    "| 1 | `**`  | Exponent | `2 ** 3 = 8` |\n",
    "| 2 | `%` \t| Modulus/Remainder | \t`22 % 8 = 6` |\n",
    "| 3 | `//` | Integer division | \t`22 // 8 = 2` |\n",
    "| 4 | `/` \t| Division | \t`22 / 8 = 2.75` |\n",
    "| 5 | `*` \t| Multiplication | \t`3 * 3 = 9` |\n",
    "| 6 | `-` \t| Subtraction | \t`5 - 2 = 3` |\n",
    "| 7 | `+`  | \tAddition | \t`2 + 2 = 4` |\n",
    "| - | `=` | Assignment | - |\n"
   ]
  },
  {
   "cell_type": "markdown",
   "id": "74477789",
   "metadata": {},
   "source": [
    "**What do these `#` numbers mean though?** Let's try to evaluate the following **expressions**:"
   ]
  },
  {
   "cell_type": "code",
   "execution_count": null,
   "id": "efcda735",
   "metadata": {},
   "outputs": [],
   "source": [
    "6 + 6 / 2"
   ]
  },
  {
   "cell_type": "code",
   "execution_count": null,
   "id": "5efd64de",
   "metadata": {},
   "outputs": [],
   "source": [
    "2 * 3 * 2 / 2 + 2"
   ]
  },
  {
   "cell_type": "code",
   "execution_count": null,
   "id": "a199ced5",
   "metadata": {},
   "outputs": [],
   "source": [
    "2 * 3 + 2 * 3"
   ]
  },
  {
   "cell_type": "code",
   "execution_count": null,
   "id": "d287cb3a",
   "metadata": {},
   "outputs": [],
   "source": [
    "2 * 3 + 2 ** 2 * 3"
   ]
  },
  {
   "cell_type": "code",
   "execution_count": null,
   "id": "f852826b",
   "metadata": {
    "scrolled": true
   },
   "outputs": [],
   "source": [
    "2 * 3 + 2 ** (2 * 3)"
   ]
  },
  {
   "cell_type": "markdown",
   "id": "55308f06",
   "metadata": {},
   "source": [
    "Assignment can be augmented thus:\n",
    "\n",
    "|Operator|Equivalent|\n",
    "|---|---|\n",
    "|var += 1 | var = var + 1|\n",
    "|var -= 1 | var = var - 1|\n",
    "|var *= 1 | var = var * 1|\n",
    "|var /= 1 | var = var / 1|\n",
    "|var %= 1 | var = var % 1|"
   ]
  },
  {
   "cell_type": "code",
   "execution_count": null,
   "id": "6e116d2f",
   "metadata": {},
   "outputs": [],
   "source": [
    "4 % 2"
   ]
  },
  {
   "cell_type": "code",
   "execution_count": null,
   "id": "afad385f",
   "metadata": {},
   "outputs": [],
   "source": [
    "5 % 2"
   ]
  },
  {
   "cell_type": "code",
   "execution_count": null,
   "id": "d37f3456",
   "metadata": {},
   "outputs": [],
   "source": [
    "var = 10\n",
    "var += 5\n",
    "var"
   ]
  },
  {
   "cell_type": "code",
   "execution_count": null,
   "id": "140960f1",
   "metadata": {},
   "outputs": [],
   "source": [
    "var %= 3\n",
    "var"
   ]
  },
  {
   "cell_type": "markdown",
   "id": "8b3f516f",
   "metadata": {},
   "source": [
    "**Operators mean different things with different data types, or might not work!!**"
   ]
  },
  {
   "cell_type": "code",
   "execution_count": null,
   "id": "ea29c45d",
   "metadata": {},
   "outputs": [],
   "source": [
    "\"Hello python!\" * 3"
   ]
  },
  {
   "cell_type": "markdown",
   "id": "0ef6701c",
   "metadata": {},
   "source": [
    "So it's *absolutely important* to know your data types. Thus, let's learn more about `variables` in Python!"
   ]
  },
  {
   "cell_type": "markdown",
   "id": "1e6aa5dc",
   "metadata": {},
   "source": [
    "---"
   ]
  },
  {
   "cell_type": "markdown",
   "id": "579246e1",
   "metadata": {},
   "source": [
    "# Variables"
   ]
  },
  {
   "cell_type": "markdown",
   "id": "35d8eb76",
   "metadata": {},
   "source": [
    "Variables are significant quantities that you want to save and use **later** in your code. Typical example would be **calculations** you make.\n",
    "\n",
    "Every variable in python must have **a name**. Names must be:\n",
    "- Starting with a letter, or an underscore `_`! We cannot start a variable with a number like `1_best_var_ever`\n",
    "- Containing only letters, numbers and `_`, so **one word**"
   ]
  },
  {
   "cell_type": "markdown",
   "id": "dfcb3d19",
   "metadata": {},
   "source": [
    "→ **Additional encouraged rules**:\n",
    "- Never name a variable with a reserved word (coloured usually)! like `print` or `def`\n",
    "    - Sometimes you will get a syntax error, sometimes you'd have very bad results!\n",
    "- Always use meaningful names, even if long\n",
    "- Variable names are case sensetive! So better use lower case always as a general rule, however:\n",
    "- Follow the naming and coding conventions of Python (found in `PEP 8` guide) from the start to get used to them. See them in [PEP 8 -- Style Guide for Python Code](https://www.python.org/dev/peps/pep-0008/)."
   ]
  },
  {
   "cell_type": "code",
   "execution_count": null,
   "id": "68c3ace4",
   "metadata": {},
   "outputs": [],
   "source": [
    "var = 4\n",
    "print(var)"
   ]
  },
  {
   "cell_type": "code",
   "execution_count": null,
   "id": "5b612b0c",
   "metadata": {
    "scrolled": true
   },
   "outputs": [],
   "source": [
    "my beautiful var = 5"
   ]
  },
  {
   "cell_type": "code",
   "execution_count": null,
   "id": "b7fe3f18",
   "metadata": {},
   "outputs": [],
   "source": [
    "my_beautiful_var = 5\n",
    "print(my_beautiful_var)"
   ]
  },
  {
   "cell_type": "code",
   "execution_count": null,
   "id": "2b820380",
   "metadata": {},
   "outputs": [],
   "source": [
    "_var = 4\n",
    "print(_var)"
   ]
  },
  {
   "cell_type": "code",
   "execution_count": null,
   "id": "64ca659c",
   "metadata": {
    "scrolled": true
   },
   "outputs": [],
   "source": [
    "1st_var = 4"
   ]
  },
  {
   "cell_type": "code",
   "execution_count": null,
   "id": "73d2e4c7",
   "metadata": {},
   "outputs": [],
   "source": [
    "_var = 4"
   ]
  },
  {
   "cell_type": "code",
   "execution_count": null,
   "id": "15aac725",
   "metadata": {},
   "outputs": [],
   "source": [
    "def = 4"
   ]
  },
  {
   "cell_type": "markdown",
   "id": "12f457e6",
   "metadata": {},
   "source": [
    "## Types of Simple Variables in Python"
   ]
  },
  {
   "cell_type": "markdown",
   "id": "e25e3cda",
   "metadata": {},
   "source": [
    "We don't have to specify the types as we see above! However, we need to understand them and identify them.\n",
    "\n",
    "We have booleans (`bool`), integers (`int`), floats (`float`) and strings (`str`). We can test for their types using `type(.)`."
   ]
  },
  {
   "cell_type": "code",
   "execution_count": null,
   "id": "b4d12f6c",
   "metadata": {},
   "outputs": [],
   "source": [
    "var = True\n",
    "type(var)"
   ]
  },
  {
   "cell_type": "code",
   "execution_count": null,
   "id": "f03dd79a",
   "metadata": {},
   "outputs": [],
   "source": [
    "var = False\n",
    "type(var)"
   ]
  },
  {
   "cell_type": "code",
   "execution_count": null,
   "id": "43d84c76",
   "metadata": {},
   "outputs": [],
   "source": [
    "var = 5\n",
    "type(var)"
   ]
  },
  {
   "cell_type": "code",
   "execution_count": null,
   "id": "4a1662b1",
   "metadata": {},
   "outputs": [],
   "source": [
    "var = -5.5\n",
    "type(var)"
   ]
  },
  {
   "cell_type": "code",
   "execution_count": null,
   "id": "581613e8",
   "metadata": {},
   "outputs": [],
   "source": [
    "var = \"hello\"\n",
    "type(var)"
   ]
  },
  {
   "cell_type": "code",
   "execution_count": null,
   "id": "b8415423",
   "metadata": {},
   "outputs": [],
   "source": [
    "var = \"4\"\n",
    "type(var)"
   ]
  },
  {
   "cell_type": "code",
   "execution_count": null,
   "id": "a8a007e1",
   "metadata": {},
   "outputs": [],
   "source": [
    "var * 3"
   ]
  },
  {
   "cell_type": "code",
   "execution_count": null,
   "id": "2dbe1031",
   "metadata": {
    "scrolled": true
   },
   "outputs": [],
   "source": [
    "var = '4'\n",
    "type(var)"
   ]
  },
  {
   "cell_type": "markdown",
   "id": "a3a5a9f5",
   "metadata": {},
   "source": [
    "Double or single quotes is your choice, but Python prefers `'` over `\"`.\n",
    "\n",
    "Let's try to define a var with the value: `I'm happy`:"
   ]
  },
  {
   "cell_type": "code",
   "execution_count": null,
   "id": "fcd22753",
   "metadata": {
    "scrolled": true
   },
   "outputs": [],
   "source": [
    "var = 'I'm happy'\n",
    "var"
   ]
  },
  {
   "cell_type": "code",
   "execution_count": null,
   "id": "56dcad4b",
   "metadata": {},
   "outputs": [],
   "source": [
    "var = \"I'm happy\"\n",
    "var"
   ]
  },
  {
   "cell_type": "code",
   "execution_count": null,
   "id": "e17d0ea5",
   "metadata": {},
   "outputs": [],
   "source": [
    "var = \"I like 'AMD'\"\n",
    "var"
   ]
  },
  {
   "cell_type": "code",
   "execution_count": null,
   "id": "fa258543",
   "metadata": {},
   "outputs": [],
   "source": [
    "var = 'I\\'m happy'\n",
    "var"
   ]
  },
  {
   "cell_type": "markdown",
   "id": "1ed98c84",
   "metadata": {},
   "source": [
    "### Knowing your variables types makes a lot of difference"
   ]
  },
  {
   "cell_type": "markdown",
   "id": "a457e8fd",
   "metadata": {},
   "source": [
    "Especially if you are reading data from text files or CSV files!"
   ]
  },
  {
   "cell_type": "code",
   "execution_count": null,
   "id": "27c6ee1c",
   "metadata": {},
   "outputs": [],
   "source": [
    "4 + 6"
   ]
  },
  {
   "cell_type": "code",
   "execution_count": null,
   "id": "e8dd7400",
   "metadata": {},
   "outputs": [],
   "source": [
    "\"4\" + \"6\""
   ]
  },
  {
   "cell_type": "code",
   "execution_count": null,
   "id": "e8a2a342",
   "metadata": {},
   "outputs": [],
   "source": [
    "5 * 3"
   ]
  },
  {
   "cell_type": "code",
   "execution_count": null,
   "id": "911f22b9",
   "metadata": {},
   "outputs": [],
   "source": [
    "\"5\" * 3"
   ]
  },
  {
   "cell_type": "code",
   "execution_count": null,
   "id": "e6cc5b94",
   "metadata": {},
   "outputs": [],
   "source": [
    "5 * \"3\""
   ]
  },
  {
   "cell_type": "code",
   "execution_count": null,
   "id": "756b7948",
   "metadata": {},
   "outputs": [],
   "source": [
    "2 ** 3"
   ]
  },
  {
   "cell_type": "code",
   "execution_count": null,
   "id": "25fe1d11",
   "metadata": {},
   "outputs": [],
   "source": [
    "2 ** \"3\""
   ]
  },
  {
   "cell_type": "markdown",
   "id": "fe153280",
   "metadata": {},
   "source": [
    "Note the difference in how the output is formulated, which helps you debug and develop your code:"
   ]
  },
  {
   "cell_type": "code",
   "execution_count": null,
   "id": "ba757d86",
   "metadata": {},
   "outputs": [],
   "source": [
    "type(2)"
   ]
  },
  {
   "cell_type": "code",
   "execution_count": null,
   "id": "61810f5a",
   "metadata": {},
   "outputs": [],
   "source": [
    "type(\"2\")"
   ]
  },
  {
   "cell_type": "code",
   "execution_count": null,
   "id": "3b45eccd",
   "metadata": {},
   "outputs": [],
   "source": [
    "type('2')"
   ]
  },
  {
   "cell_type": "code",
   "execution_count": null,
   "id": "fd11fb40",
   "metadata": {},
   "outputs": [],
   "source": [
    "type(2.0)"
   ]
  },
  {
   "cell_type": "markdown",
   "id": "488e8a4f",
   "metadata": {},
   "source": [
    "### Moving between variable types"
   ]
  },
  {
   "cell_type": "markdown",
   "id": "55cb732b",
   "metadata": {},
   "source": [
    "Sometimes we want to convert a variable from type to type.\n",
    "When you want to convert a variable from string to integer, you can use the data type keyword as function:"
   ]
  },
  {
   "cell_type": "code",
   "execution_count": null,
   "id": "3b3c280e",
   "metadata": {},
   "outputs": [],
   "source": [
    "var = 5.0\n",
    "var"
   ]
  },
  {
   "cell_type": "code",
   "execution_count": null,
   "id": "31fc535b",
   "metadata": {},
   "outputs": [],
   "source": [
    "str(var)"
   ]
  },
  {
   "cell_type": "code",
   "execution_count": null,
   "id": "f1d898b1",
   "metadata": {},
   "outputs": [],
   "source": [
    "str(int(var))"
   ]
  },
  {
   "cell_type": "code",
   "execution_count": null,
   "id": "a8732e90",
   "metadata": {},
   "outputs": [],
   "source": [
    "var = \"6\"\n",
    "float(var)"
   ]
  },
  {
   "cell_type": "code",
   "execution_count": null,
   "id": "8bd49f42",
   "metadata": {
    "scrolled": true
   },
   "outputs": [],
   "source": [
    "var = \"-6\"\n",
    "int(var)"
   ]
  },
  {
   "cell_type": "code",
   "execution_count": null,
   "id": "6a2ec330",
   "metadata": {},
   "outputs": [],
   "source": [
    "float(var)"
   ]
  },
  {
   "cell_type": "code",
   "execution_count": null,
   "id": "c9a739d6",
   "metadata": {},
   "outputs": [],
   "source": [
    "var = \"-6.787232\"\n",
    "float(var)"
   ]
  },
  {
   "cell_type": "code",
   "execution_count": null,
   "id": "152b45f5",
   "metadata": {
    "scrolled": true
   },
   "outputs": [],
   "source": [
    "int(var)"
   ]
  },
  {
   "cell_type": "code",
   "execution_count": null,
   "id": "42b5603d",
   "metadata": {},
   "outputs": [],
   "source": [
    "int(float(var))"
   ]
  },
  {
   "cell_type": "code",
   "execution_count": null,
   "id": "e156a7ba",
   "metadata": {},
   "outputs": [],
   "source": [
    "var = \"6.x\"\n",
    "int(var)"
   ]
  },
  {
   "cell_type": "code",
   "execution_count": null,
   "id": "469e144c",
   "metadata": {},
   "outputs": [],
   "source": [
    "var = 5 > 4\n",
    "type(var)"
   ]
  },
  {
   "cell_type": "code",
   "execution_count": null,
   "id": "cb5817ac",
   "metadata": {},
   "outputs": [],
   "source": [
    "var"
   ]
  },
  {
   "cell_type": "code",
   "execution_count": null,
   "id": "557abe2e",
   "metadata": {},
   "outputs": [],
   "source": [
    "int(var)"
   ]
  },
  {
   "cell_type": "code",
   "execution_count": null,
   "id": "04ced181",
   "metadata": {},
   "outputs": [],
   "source": [
    "int(False)"
   ]
  },
  {
   "cell_type": "code",
   "execution_count": null,
   "id": "2fa67ecd",
   "metadata": {},
   "outputs": [],
   "source": [
    "var = True + 4\n",
    "print(var)\n",
    "type(var)"
   ]
  },
  {
   "cell_type": "code",
   "execution_count": null,
   "id": "737e1fce",
   "metadata": {},
   "outputs": [],
   "source": [
    "var = 0\n",
    "bool(0)"
   ]
  },
  {
   "cell_type": "code",
   "execution_count": null,
   "id": "7a1c94e2",
   "metadata": {},
   "outputs": [],
   "source": [
    "var = 1\n",
    "bool(1)"
   ]
  },
  {
   "cell_type": "code",
   "execution_count": null,
   "id": "a8733203",
   "metadata": {},
   "outputs": [],
   "source": [
    "var = 3\n",
    "bool(var)"
   ]
  },
  {
   "cell_type": "code",
   "execution_count": null,
   "id": "03854d83",
   "metadata": {},
   "outputs": [],
   "source": [
    "var = 3.4\n",
    "bool(var)"
   ]
  },
  {
   "cell_type": "code",
   "execution_count": null,
   "id": "db89bb23",
   "metadata": {},
   "outputs": [],
   "source": [
    "var = 0\n",
    "bool(0)"
   ]
  },
  {
   "cell_type": "code",
   "execution_count": null,
   "id": "109eadc4",
   "metadata": {},
   "outputs": [],
   "source": [
    "bool(-1)"
   ]
  },
  {
   "cell_type": "code",
   "execution_count": null,
   "id": "429f6891",
   "metadata": {},
   "outputs": [],
   "source": [
    "var = None\n",
    "type(var)"
   ]
  },
  {
   "cell_type": "code",
   "execution_count": null,
   "id": "2647f1bc",
   "metadata": {},
   "outputs": [],
   "source": [
    "bool(var)"
   ]
  },
  {
   "cell_type": "markdown",
   "id": "b4054327",
   "metadata": {},
   "source": [
    "**So:**\n",
    "- Anything greater other than zero evaluates to `True` boolean value in Python\n",
    "- Zeros and `None` evaluate to `False`. `None` **is when our variable is defined, but has no value in it**, i.e. not initialised → very useful check!\n",
    "- Any comparison is a boolean in itself → important to understand"
   ]
  },
  {
   "cell_type": "markdown",
   "id": "da7a9fe3",
   "metadata": {},
   "source": [
    "### String variables are cool"
   ]
  },
  {
   "cell_type": "markdown",
   "id": "5a2dd2cd",
   "metadata": {},
   "source": [
    "String variables in Python have many useful functions and perks.\n",
    "- They can span multiple lines\n",
    "- They can include special characters (indicators of special cases), like:\n",
    "    - `\\n` the new line special character\n",
    "    - `\\t` the tab character\n",
    "    - `\\` the escape character if preceds a special case, to deactivate the special property of what follows\n",
    "- They have two useful kinds: raw strings and formatted strings"
   ]
  },
  {
   "cell_type": "code",
   "execution_count": null,
   "id": "bebd214e",
   "metadata": {},
   "outputs": [],
   "source": [
    "var = \"\"\"Here is my first line,\n",
    "And my second,\n",
    "and what about a third one?! why not!\"\"\"\n",
    "print(var)"
   ]
  },
  {
   "cell_type": "code",
   "execution_count": null,
   "id": "05692f08",
   "metadata": {},
   "outputs": [],
   "source": [
    "var = \"Here is line1,\\nAnd line 2,\\nAnd three!\"\n",
    "print(var)"
   ]
  },
  {
   "cell_type": "code",
   "execution_count": null,
   "id": "cb85e766",
   "metadata": {},
   "outputs": [],
   "source": [
    "var"
   ]
  },
  {
   "cell_type": "code",
   "execution_count": null,
   "id": "ff935a30",
   "metadata": {},
   "outputs": [],
   "source": [
    "var = \"\"\"Name:\\tRafi\n",
    "Origin:\\tEarth\"\"\"\n",
    "print(var)"
   ]
  },
  {
   "cell_type": "code",
   "execution_count": null,
   "id": "2ebd2e8b",
   "metadata": {},
   "outputs": [],
   "source": [
    "var = \"\"\"Name:\\tRafi\n",
    "Origin:\\\\tEarth\"\"\"\n",
    "print(var)"
   ]
  },
  {
   "cell_type": "markdown",
   "id": "2399e696",
   "metadata": {},
   "source": [
    "As you see, we can deactivate the special functionality of `\\` manually. This is sometimes tedious, like when defining filepaths on Windows:"
   ]
  },
  {
   "cell_type": "code",
   "execution_count": null,
   "id": "6849d68e",
   "metadata": {},
   "outputs": [],
   "source": [
    "file_path = \"D:\\repo\\python_fundamentals_workshop\\hello.txt\"\n",
    "print(file_path)"
   ]
  },
  {
   "cell_type": "markdown",
   "id": "4088c74b",
   "metadata": {},
   "source": [
    "That's when you use raw strings! Just an `r` before starting the string:"
   ]
  },
  {
   "cell_type": "code",
   "execution_count": null,
   "id": "ba4e633e",
   "metadata": {},
   "outputs": [],
   "source": [
    "file_path = r\"D:\\repo\\python_fundamentals_workshop\\hello.txt\"\n",
    "print(file_path)"
   ]
  },
  {
   "cell_type": "markdown",
   "id": "d66eb6a0",
   "metadata": {},
   "source": [
    "#### Formatting Strings using other Variables"
   ]
  },
  {
   "cell_type": "markdown",
   "id": "2ca91f10",
   "metadata": {},
   "source": [
    "There are many ways to print variable values within strings. Let's assume we want to print a greeting to someone.\n",
    "We will use `input` to get the user's name from them."
   ]
  },
  {
   "cell_type": "code",
   "execution_count": null,
   "id": "3b7372eb",
   "metadata": {},
   "outputs": [],
   "source": [
    "your_name = input(\"What is your name?\")"
   ]
  },
  {
   "cell_type": "code",
   "execution_count": null,
   "id": "e8e03a81",
   "metadata": {},
   "outputs": [],
   "source": [
    "print(\"Welcome\", your_name, \"to our workshop!\")"
   ]
  },
  {
   "cell_type": "markdown",
   "id": "5a00b419",
   "metadata": {},
   "source": [
    "A neater and more efficient way is to use formatted strings! Like raw strings, you just put an `f` for formatted before the string:"
   ]
  },
  {
   "cell_type": "code",
   "execution_count": null,
   "id": "fac2fcec",
   "metadata": {},
   "outputs": [],
   "source": [
    "print(f\"Welcome {your_name}!\")"
   ]
  },
  {
   "cell_type": "code",
   "execution_count": null,
   "id": "0c394462",
   "metadata": {},
   "outputs": [],
   "source": [
    "print(f\"Welcome {your_name*3}!\")"
   ]
  },
  {
   "cell_type": "markdown",
   "id": "f298c32e",
   "metadata": {},
   "source": [
    "Finally, there are a lot of things to apply on string variables. Try to press `.` at the end of a string variable and check them up, or maybe see [this resource](https://www.w3schools.com/python/python_ref_string.asp)."
   ]
  },
  {
   "cell_type": "code",
   "execution_count": null,
   "id": "c7f71c17",
   "metadata": {},
   "outputs": [],
   "source": [
    "var = \"    This Is My String   \"\n",
    "var"
   ]
  },
  {
   "cell_type": "code",
   "execution_count": null,
   "id": "2badc9f4",
   "metadata": {},
   "outputs": [],
   "source": [
    "var.lower()"
   ]
  },
  {
   "cell_type": "code",
   "execution_count": null,
   "id": "52fb979f",
   "metadata": {},
   "outputs": [],
   "source": [
    "var.upper()"
   ]
  },
  {
   "cell_type": "code",
   "execution_count": null,
   "id": "bb6a8b2a",
   "metadata": {},
   "outputs": [],
   "source": [
    "var.strip()"
   ]
  },
  {
   "cell_type": "code",
   "execution_count": null,
   "id": "90604854",
   "metadata": {},
   "outputs": [],
   "source": [
    "var.strip().lower()"
   ]
  },
  {
   "cell_type": "markdown",
   "id": "ceae1b7d",
   "metadata": {},
   "source": [
    "---"
   ]
  },
  {
   "cell_type": "markdown",
   "id": "5b395286",
   "metadata": {},
   "source": [
    "# More complex variables"
   ]
  },
  {
   "cell_type": "markdown",
   "id": "5486f52c",
   "metadata": {},
   "source": [
    "What if we want a group of vairable that are linked to each other?\n",
    "\n",
    "Your **address** is one such kind of data: you have a post code, a city, a street and a house number. Till now, we would define it as:"
   ]
  },
  {
   "cell_type": "code",
   "execution_count": null,
   "id": "d8b47af4",
   "metadata": {},
   "outputs": [],
   "source": [
    "postcode = \"A45 3SA\"\n",
    "street = \"Victoria road\"\n",
    "house_number = 33\n",
    "city = \"Birmingham\""
   ]
  },
  {
   "cell_type": "markdown",
   "id": "3651e70b",
   "metadata": {},
   "source": [
    "A bit messy. However, we can group these in a more complex data types:\n",
    "- Tuple\n",
    "- List\n",
    "- Set\n",
    "- Dictionary\n",
    "\n",
    "When to choose each one though?\n",
    "\n",
    "| Data Type | Allows Duplicates | Ordered | Can change its contents (mutable) |\n",
    "| --- | --- | --- | --- |\n",
    "| Tuple | Yes | Yes | No|\n",
    "| List | Yes | Yes | Yes|\n",
    "| Set | No| No| \"Yes\"|\n",
    "\n",
    "Dictionary is more specific: you store `key:value` pairs inside.\n",
    "Keys must be a basic data type or something that can be used as key because **it doesn't change its internal contents**: like `int`, `str` or maybe `tuple` (In other words, keys **must be immutable**).\n"
   ]
  },
  {
   "cell_type": "markdown",
   "id": "0876c1c1",
   "metadata": {},
   "source": [
    "Getting back to our address example, which one to choose?\n",
    "- My address won't change\n",
    "- The order matters\n",
    "- Duplicates are OK\n",
    "\n",
    "→ A Tuple!\n",
    "Also: a tuple is faster and more memory efficient than lists, and it has fixed number of members."
   ]
  },
  {
   "cell_type": "markdown",
   "id": "8c158a78",
   "metadata": {},
   "source": [
    "► *Do you have examples of when to use lists or sets?*"
   ]
  },
  {
   "cell_type": "markdown",
   "id": "51b5304e",
   "metadata": {},
   "source": [
    "## Tuples: define them with brackets `(` `)`"
   ]
  },
  {
   "cell_type": "code",
   "execution_count": null,
   "id": "6a634a36",
   "metadata": {},
   "outputs": [],
   "source": [
    "address = (house_number, street, city, postcode)\n",
    "address"
   ]
  },
  {
   "cell_type": "code",
   "execution_count": null,
   "id": "3172f5c1",
   "metadata": {},
   "outputs": [],
   "source": [
    "address[2]"
   ]
  },
  {
   "cell_type": "code",
   "execution_count": null,
   "id": "ebb6508b",
   "metadata": {},
   "outputs": [],
   "source": [
    "# We can extract tuple's data in one shot!\n",
    "nbr, strt, cty, pcode = address\n",
    "print(f\"\"\"{nbr} {strt}\n",
    "{cty} {pcode}\"\"\")"
   ]
  },
  {
   "cell_type": "code",
   "execution_count": null,
   "id": "2049ecec",
   "metadata": {
    "scrolled": false
   },
   "outputs": [],
   "source": [
    "address[2] = \"London\""
   ]
  },
  {
   "cell_type": "code",
   "execution_count": null,
   "id": "1035a4a4",
   "metadata": {},
   "outputs": [],
   "source": [
    "address.append(\"Earth\")"
   ]
  },
  {
   "cell_type": "code",
   "execution_count": null,
   "id": "c5a9f4a4",
   "metadata": {},
   "outputs": [],
   "source": [
    "type(address)"
   ]
  },
  {
   "cell_type": "markdown",
   "id": "6a335951",
   "metadata": {},
   "source": [
    "## Lists: define them with square brackets `[` `]`"
   ]
  },
  {
   "cell_type": "code",
   "execution_count": null,
   "id": "db135bde",
   "metadata": {},
   "outputs": [],
   "source": [
    "queue = [\"Tom\", \"John\", \"Peter\", \"Luke\", \"Sam\"]\n",
    "queue"
   ]
  },
  {
   "cell_type": "code",
   "execution_count": null,
   "id": "f120fe36",
   "metadata": {},
   "outputs": [],
   "source": [
    "queue[3]"
   ]
  },
  {
   "cell_type": "code",
   "execution_count": null,
   "id": "30927816",
   "metadata": {},
   "outputs": [],
   "source": [
    "queue[5]"
   ]
  },
  {
   "cell_type": "code",
   "execution_count": null,
   "id": "c8b58757",
   "metadata": {},
   "outputs": [],
   "source": [
    "queue[-1]"
   ]
  },
  {
   "cell_type": "code",
   "execution_count": null,
   "id": "c93bf5fa",
   "metadata": {},
   "outputs": [],
   "source": [
    "queue[-3]"
   ]
  },
  {
   "cell_type": "markdown",
   "id": "c88d2058",
   "metadata": {},
   "source": [
    "#### Slicing with lists"
   ]
  },
  {
   "cell_type": "code",
   "execution_count": null,
   "id": "1ed70dda",
   "metadata": {},
   "outputs": [],
   "source": [
    "queue[:]"
   ]
  },
  {
   "cell_type": "code",
   "execution_count": null,
   "id": "7d37afb7",
   "metadata": {},
   "outputs": [],
   "source": [
    "queue[1:3]"
   ]
  },
  {
   "cell_type": "code",
   "execution_count": null,
   "id": "81c354ca",
   "metadata": {},
   "outputs": [],
   "source": [
    "queue[2:]"
   ]
  },
  {
   "cell_type": "code",
   "execution_count": null,
   "id": "306e037f",
   "metadata": {},
   "outputs": [],
   "source": [
    "queue[:3]"
   ]
  },
  {
   "cell_type": "code",
   "execution_count": null,
   "id": "202917bb",
   "metadata": {},
   "outputs": [],
   "source": [
    "queue[2,3,4]"
   ]
  },
  {
   "cell_type": "code",
   "execution_count": null,
   "id": "5e3a7d81",
   "metadata": {},
   "outputs": [],
   "source": [
    "# We can change the contents of the queue because it is mutable!\n",
    "queue.append(\"Aaron\")\n",
    "queue"
   ]
  },
  {
   "cell_type": "code",
   "execution_count": null,
   "id": "5c78f10d",
   "metadata": {},
   "outputs": [],
   "source": [
    "# Let's imagine we have a new line of people at the door\n",
    "new_people = [\"Bridget\", \"Valerie\", \"Mary\"]\n",
    "queue.append(new_people)\n",
    "queue"
   ]
  },
  {
   "cell_type": "code",
   "execution_count": null,
   "id": "89015911",
   "metadata": {},
   "outputs": [],
   "source": [
    "queue.append(\"Mary\").append(\"Valerie\")\n",
    "queue"
   ]
  },
  {
   "cell_type": "code",
   "execution_count": null,
   "id": "a87186f4",
   "metadata": {},
   "outputs": [],
   "source": [
    "queue = [\"Tom\", \"John\", \"Peter\", \"Luke\", \"Sam\"]\n",
    "queue.extend(new_people)\n",
    "queue"
   ]
  },
  {
   "cell_type": "code",
   "execution_count": null,
   "id": "196e95c7",
   "metadata": {},
   "outputs": [],
   "source": [
    "# Can use basic operations on lists\n",
    "queue = [\"Tom\", \"John\", \"Peter\", \"Luke\", \"Sam\"]\n",
    "queue + new_people"
   ]
  },
  {
   "cell_type": "code",
   "execution_count": null,
   "id": "5295d1ac",
   "metadata": {},
   "outputs": [],
   "source": [
    "# Since order matters, we want to be able to insert at specific location sometimes. We can then use `.insert()`:\n",
    "queue.insert(3, \"Felicity\")\n",
    "queue"
   ]
  },
  {
   "cell_type": "code",
   "execution_count": null,
   "id": "58a02a51",
   "metadata": {},
   "outputs": [],
   "source": [
    "# Or even sort things\n",
    "queue.sort()\n",
    "queue"
   ]
  },
  {
   "cell_type": "code",
   "execution_count": null,
   "id": "aa7e3dae",
   "metadata": {},
   "outputs": [],
   "source": [
    "queue.sort(reverse=True)\n",
    "queue"
   ]
  },
  {
   "cell_type": "code",
   "execution_count": null,
   "id": "907c9ccb",
   "metadata": {},
   "outputs": [],
   "source": [
    "# Or even remove things\n",
    "queue.remove(\"Peter\")\n",
    "queue"
   ]
  },
  {
   "cell_type": "code",
   "execution_count": null,
   "id": "815cbff1",
   "metadata": {},
   "outputs": [],
   "source": [
    "queue.remove(\"Dan\")"
   ]
  },
  {
   "cell_type": "markdown",
   "id": "dabc3aea",
   "metadata": {},
   "source": [
    "---"
   ]
  }
 ],
 "metadata": {
  "kernelspec": {
   "display_name": "Python 3 (ipykernel)",
   "language": "python",
   "name": "python3"
  },
  "language_info": {
   "codemirror_mode": {
    "name": "ipython",
    "version": 3
   },
   "file_extension": ".py",
   "mimetype": "text/x-python",
   "name": "python",
   "nbconvert_exporter": "python",
   "pygments_lexer": "ipython3",
   "version": "3.9.6"
  }
 },
 "nbformat": 4,
 "nbformat_minor": 5
}
