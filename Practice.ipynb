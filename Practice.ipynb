{
 "cells": [
  {
   "cell_type": "markdown",
   "id": "a73b7590",
   "metadata": {},
   "source": [
    "# Python Fundamentals Workshop Practice - Part 1"
   ]
  },
  {
   "cell_type": "markdown",
   "id": "b03700c0",
   "metadata": {},
   "source": [
    "Please complete the following programming and debugging tasks during the workshop, one at a time. Reach out to the online tutor in case you have problems.\n",
    "\n",
    "- Each code snippet should execute without any errors, sometimes with a pass message, and produce the desired result\n",
    "- Carefully read the errors to fix the bugs.\n",
    "- Please ignore the `assert` statements if any, they are just automatic grading."
   ]
  },
  {
   "cell_type": "markdown",
   "id": "3f44da89",
   "metadata": {},
   "source": [
    "# Fix Me Please"
   ]
  },
  {
   "cell_type": "code",
   "execution_count": null,
   "id": "3cde3b51",
   "metadata": {},
   "outputs": [],
   "source": [
    "my-var = 10\n",
    "print(my-var)"
   ]
  },
  {
   "cell_type": "code",
   "execution_count": null,
   "id": "c359a54c",
   "metadata": {},
   "outputs": [],
   "source": [
    "second var = \"Hello\"\n",
    "print(second var)"
   ]
  },
  {
   "cell_type": "code",
   "execution_count": 1,
   "id": "153d10c7",
   "metadata": {},
   "outputs": [
    {
     "ename": "NameError",
     "evalue": "name 'my_var' is not defined",
     "output_type": "error",
     "traceback": [
      "\u001b[1;31m---------------------------------------------------------------------------\u001b[0m",
      "\u001b[1;31mNameError\u001b[0m                                 Traceback (most recent call last)",
      "\u001b[1;32m~\\AppData\\Local\\Temp/ipykernel_5692/3902825703.py\u001b[0m in \u001b[0;36m<module>\u001b[1;34m\u001b[0m\n\u001b[0;32m      1\u001b[0m \u001b[0mMy_var\u001b[0m \u001b[1;33m=\u001b[0m \u001b[1;36m10\u001b[0m\u001b[1;33m\u001b[0m\u001b[1;33m\u001b[0m\u001b[0m\n\u001b[0;32m      2\u001b[0m \u001b[1;33m\u001b[0m\u001b[0m\n\u001b[1;32m----> 3\u001b[1;33m \u001b[0mprint\u001b[0m\u001b[1;33m(\u001b[0m\u001b[0mmy_var\u001b[0m\u001b[1;33m)\u001b[0m\u001b[1;33m\u001b[0m\u001b[1;33m\u001b[0m\u001b[0m\n\u001b[0m",
      "\u001b[1;31mNameError\u001b[0m: name 'my_var' is not defined"
     ]
    }
   ],
   "source": [
    "My_var = 10\n",
    "\n",
    "print(my_var)"
   ]
  },
  {
   "cell_type": "code",
   "execution_count": null,
   "id": "9a93d46b",
   "metadata": {},
   "outputs": [],
   "source": [
    "average = 4 + 6 + 7 + 33 + 11 / 5\n",
    "\n",
    "assert average == 12.2, \"wrong result! try again\"\n",
    "print(\"pass! well done!\")"
   ]
  },
  {
   "cell_type": "code",
   "execution_count": null,
   "id": "b2ab8913",
   "metadata": {},
   "outputs": [],
   "source": [
    "message = f\"The average is average\"\n",
    "\n",
    "assert message == \"The average is 12.2\", \"wrong result! try again\"\n",
    "print(\"pass! well done!\")"
   ]
  },
  {
   "cell_type": "code",
   "execution_count": null,
   "id": "48a0ac15",
   "metadata": {},
   "outputs": [],
   "source": [
    "# Convert the average to integer\n",
    "average = \n",
    "\n",
    "assert isinstance(average, int), \"wrong result! try again\"\n",
    "print(\"pass! well done!\")"
   ]
  },
  {
   "cell_type": "code",
   "execution_count": 5,
   "id": "8f2f77a4",
   "metadata": {},
   "outputs": [
    {
     "ename": "AssertionError",
     "evalue": "wrong result! try again",
     "output_type": "error",
     "traceback": [
      "\u001b[1;31m---------------------------------------------------------------------------\u001b[0m",
      "\u001b[1;31mAssertionError\u001b[0m                            Traceback (most recent call last)",
      "\u001b[1;32m~\\AppData\\Local\\Temp/ipykernel_5692/1731549980.py\u001b[0m in \u001b[0;36m<module>\u001b[1;34m\u001b[0m\n\u001b[0;32m      3\u001b[0m \u001b[0my\u001b[0m \u001b[1;33m=\u001b[0m \u001b[0mx\u001b[0m\u001b[1;33m*\u001b[0m\u001b[1;36m3\u001b[0m\u001b[1;33m\u001b[0m\u001b[1;33m\u001b[0m\u001b[0m\n\u001b[0;32m      4\u001b[0m \u001b[1;33m\u001b[0m\u001b[0m\n\u001b[1;32m----> 5\u001b[1;33m \u001b[1;32massert\u001b[0m \u001b[0my\u001b[0m \u001b[1;33m==\u001b[0m \u001b[1;34m\"333\"\u001b[0m\u001b[1;33m,\u001b[0m \u001b[1;34m\"wrong result! try again\"\u001b[0m\u001b[1;33m\u001b[0m\u001b[1;33m\u001b[0m\u001b[0m\n\u001b[0m\u001b[0;32m      6\u001b[0m \u001b[0mprint\u001b[0m\u001b[1;33m(\u001b[0m\u001b[1;34m\"pass! well done!\"\u001b[0m\u001b[1;33m)\u001b[0m\u001b[1;33m\u001b[0m\u001b[1;33m\u001b[0m\u001b[0m\n",
      "\u001b[1;31mAssertionError\u001b[0m: wrong result! try again"
     ]
    }
   ],
   "source": [
    "# Change the definition of x to produce \"333\" in y?\n",
    "x = 3\n",
    "y = x*3\n",
    "\n",
    "assert y == \"333\", \"wrong result! try again\"\n",
    "print(\"pass! well done!\")"
   ]
  },
  {
   "cell_type": "code",
   "execution_count": null,
   "id": "286751fe",
   "metadata": {},
   "outputs": [],
   "source": [
    "# We want to distribute orphans over adopting families, but we cannot divide an orphan\n",
    "# i.e. we cannot have fractions in the result!\n",
    "# Fix what's necessary here to do so in two ways: way 1\n",
    "families = \"25\"\n",
    "orphans = \"121\"\n",
    "orphan_for_family = orphans / families\n",
    "\n",
    "assert orphan_for_family == 4, \"wrong result! try again\"\n",
    "print(\"pass! well done!\")"
   ]
  },
  {
   "cell_type": "code",
   "execution_count": null,
   "id": "1bb5d477",
   "metadata": {},
   "outputs": [],
   "source": [
    "# We want to distribute orphans over adopting families, but we cannot divide an orphan\n",
    "# i.e. we cannot have fractions in the result!\n",
    "# Fix what's necessary here to do so in two ways: way 2\n",
    "families = \"25\"\n",
    "orphans = \"121\"\n",
    "orphan_for_family = orphans / families\n",
    "\n",
    "assert orphan_for_family == 4, \"wrong result! try again\"\n",
    "print(\"pass! well done!\")"
   ]
  },
  {
   "cell_type": "code",
   "execution_count": null,
   "id": "c5a09be6",
   "metadata": {},
   "outputs": [],
   "source": [
    "# Create an list from a range from 1 to 10 inclusive, using range()\n",
    "my_list = \n",
    "\n",
    "assert my_list == [1, 2, 3, 4, 5 ,6 ,7 ,8 ,9, 10], \"wrong result! try again\"\n",
    "print(\"pass! well done!\")\n"
   ]
  },
  {
   "cell_type": "code",
   "execution_count": null,
   "id": "e099693d",
   "metadata": {},
   "outputs": [],
   "source": [
    "# Save all the even numbers in my_list using a for loop\n",
    "# Hint: even numbers have a 0 modulo over 2\n",
    "even = []\n",
    "for ? in my_list :\n",
    "    \n",
    "\n",
    "assert even == [2, 4, 6, 8, 10], \"wrong result! try again\"\n",
    "print(\"pass! well done!\")"
   ]
  },
  {
   "cell_type": "markdown",
   "id": "b53f664f",
   "metadata": {},
   "source": [
    "# What Will I Print and Why?"
   ]
  },
  {
   "cell_type": "markdown",
   "id": "3adef223",
   "metadata": {},
   "source": [
    "Please insert your answers in the empty cells **before running the cell above!**"
   ]
  },
  {
   "cell_type": "code",
   "execution_count": 8,
   "id": "2dfab6d8",
   "metadata": {},
   "outputs": [
    {
     "name": "stdout",
     "output_type": "stream",
     "text": [
      "True\n",
      "False\n",
      "False\n",
      "True\n",
      "False\n"
     ]
    }
   ],
   "source": [
    "array = [1, \"2\", 3.0, 4, 2 > 4]\n",
    "for element in array:\n",
    "    print(type(element)==int)"
   ]
  },
  {
   "cell_type": "markdown",
   "id": "708c5e18",
   "metadata": {},
   "source": []
  },
  {
   "cell_type": "code",
   "execution_count": 10,
   "id": "466244db",
   "metadata": {},
   "outputs": [
    {
     "name": "stdout",
     "output_type": "stream",
     "text": [
      "1\n",
      "2\n",
      "3.0\n",
      "4\n"
     ]
    }
   ],
   "source": [
    "array = [1, \"2\", 3.0, 4, 2 > 4]\n",
    "for element in array:\n",
    "    if isinstance(element, bool):\n",
    "        continue\n",
    "    print(element)"
   ]
  },
  {
   "cell_type": "markdown",
   "id": "72d90f65",
   "metadata": {},
   "source": []
  },
  {
   "cell_type": "markdown",
   "id": "e3ed00fd",
   "metadata": {},
   "source": [
    "# Advanced Coding"
   ]
  },
  {
   "cell_type": "code",
   "execution_count": null,
   "id": "483537d4",
   "metadata": {},
   "outputs": [],
   "source": [
    "# Convert the following While loop to a for, to print the same output, using break statement\n",
    "data = list(range(1, 15))\n",
    "i = 0\n",
    "\n",
    "while i < len(data) / 2:\n",
    "    print(data[i])\n",
    "    i += 1"
   ]
  },
  {
   "cell_type": "code",
   "execution_count": null,
   "id": "f0b75286",
   "metadata": {},
   "outputs": [],
   "source": [
    "# Insert code here\n",
    "data = list(range(1, 15))\n",
    "for ? in ?:\n",
    "    "
   ]
  },
  {
   "cell_type": "markdown",
   "id": "d1a34167",
   "metadata": {},
   "source": [
    "# Additional Practice?"
   ]
  },
  {
   "cell_type": "code",
   "execution_count": null,
   "id": "822ceceb",
   "metadata": {},
   "outputs": [],
   "source": []
  }
 ],
 "metadata": {
  "kernelspec": {
   "display_name": "Python 3 (ipykernel)",
   "language": "python",
   "name": "python3"
  },
  "language_info": {
   "codemirror_mode": {
    "name": "ipython",
    "version": 3
   },
   "file_extension": ".py",
   "mimetype": "text/x-python",
   "name": "python",
   "nbconvert_exporter": "python",
   "pygments_lexer": "ipython3",
   "version": "3.9.6"
  }
 },
 "nbformat": 4,
 "nbformat_minor": 5
}
