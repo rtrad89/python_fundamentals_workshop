{
 "cells": [
  {
   "cell_type": "markdown",
   "id": "a73b7590",
   "metadata": {},
   "source": [
    "# Python Fundamentals Workshop Practice"
   ]
  },
  {
   "cell_type": "markdown",
   "id": "b03700c0",
   "metadata": {},
   "source": [
    "Please complete the following programming and debugging tasks during the workshop, one at a time. Reach out to the online tutor in case you have problems.\n",
    "\n",
    "- Each code snippet should execute without any errors, sometimes with a pass message, and produce the desired result\n",
    "- Carefully read the errors to fix the bugs.\n",
    "- Please ignore the `assert` statements if any, they are just automatic grading."
   ]
  },
  {
   "cell_type": "markdown",
   "id": "3f44da89",
   "metadata": {},
   "source": [
    "# Fix Me Please"
   ]
  },
  {
   "cell_type": "code",
   "execution_count": null,
   "id": "3cde3b51",
   "metadata": {},
   "outputs": [],
   "source": [
    "my-var = 10\n",
    "print(my-var)"
   ]
  },
  {
   "cell_type": "code",
   "execution_count": null,
   "id": "c359a54c",
   "metadata": {},
   "outputs": [],
   "source": [
    "second var = \"Hello\"\n",
    "print(second var)"
   ]
  },
  {
   "cell_type": "code",
   "execution_count": null,
   "id": "192db20d",
   "metadata": {},
   "outputs": [],
   "source": [
    "My_var = 10\n",
    "\n",
    "print(my_var)"
   ]
  },
  {
   "cell_type": "code",
   "execution_count": null,
   "id": "9a93d46b",
   "metadata": {},
   "outputs": [],
   "source": [
    "average = 4 + 6 + 7 + 33 + 11 / 5\n",
    "\n",
    "assert average == 12.2, \"wrong result! try again\"\n",
    "print(\"pass! well done!\")"
   ]
  },
  {
   "cell_type": "code",
   "execution_count": null,
   "id": "b2ab8913",
   "metadata": {},
   "outputs": [],
   "source": [
    "message = f\"The average is average\"\n",
    "\n",
    "assert message == \"The average is 12.2\", \"wrong result! try again\"\n",
    "print(\"pass! well done!\")"
   ]
  },
  {
   "cell_type": "code",
   "execution_count": null,
   "id": "48a0ac15",
   "metadata": {},
   "outputs": [],
   "source": [
    "# Convert the average to integer\n",
    "average = \n",
    "\n",
    "assert isinstance(average, int), \"wrong result! try again\"\n",
    "print(\"pass! well done!\")"
   ]
  },
  {
   "cell_type": "code",
   "execution_count": null,
   "id": "55d138bb",
   "metadata": {},
   "outputs": [],
   "source": [
    "# Change the definition of x to produce \"333\" in y?\n",
    "x = 3\n",
    "y = x*3\n",
    "\n",
    "assert y == \"333\", \"wrong result! try again\"\n",
    "print(\"pass! well done!\")"
   ]
  },
  {
   "cell_type": "code",
   "execution_count": null,
   "id": "2b0353ff",
   "metadata": {},
   "outputs": [],
   "source": [
    "# We want to distribute orphans over adopting families, but we cannot divide an orphan\n",
    "# i.e. we cannot have fractions in the result!\n",
    "# Fix what's necessary here to do so in two ways: way 1\n",
    "families = \"25\"\n",
    "orphans = \"121\"\n",
    "orphan_for_family = orphans / families\n",
    "\n",
    "assert orphan_for_family == 4, \"wrong result! try again\"\n",
    "print(\"pass! well done!\")"
   ]
  },
  {
   "cell_type": "code",
   "execution_count": null,
   "id": "15d6a135",
   "metadata": {},
   "outputs": [],
   "source": [
    "# We want to distribute orphans over adopting families, but we cannot divide an orphan\n",
    "# i.e. we cannot have fractions in the result!\n",
    "# Fix what's necessary here to do so in two ways: way 2\n",
    "families = \"25\"\n",
    "orphans = \"121\"\n",
    "orphan_for_family = orphans / families\n",
    "\n",
    "assert orphan_for_family == 4, \"wrong result! try again\"\n",
    "print(\"pass! well done!\")"
   ]
  },
  {
   "cell_type": "code",
   "execution_count": null,
   "id": "c5a09be6",
   "metadata": {},
   "outputs": [],
   "source": [
    "# Create an list from a range from 1 to 10 inclusive, using range()\n",
    "my_list = \n",
    "\n",
    "assert my_list == [1, 2, 3, 4, 5 ,6 ,7 ,8 ,9, 10], \"wrong result! try again\"\n",
    "print(\"pass! well done!\")\n"
   ]
  },
  {
   "cell_type": "code",
   "execution_count": null,
   "id": "e099693d",
   "metadata": {},
   "outputs": [],
   "source": [
    "# Save all the even numbers in my_list using a for loop\n",
    "# Hint: even numbers have a 0 modulo over 2\n",
    "even = []\n",
    "for ? in my_list :\n",
    "    \n",
    "\n",
    "assert even == [2, 4, 6, 8, 10], \"wrong result! try again\"\n",
    "print(\"pass! well done!\")"
   ]
  },
  {
   "cell_type": "markdown",
   "id": "b53f664f",
   "metadata": {},
   "source": [
    "# What Will I Print and Why?"
   ]
  },
  {
   "cell_type": "markdown",
   "id": "b8675c5d",
   "metadata": {},
   "source": [
    "Please insert your answers in the empty cells **before running the cell above!**"
   ]
  },
  {
   "cell_type": "code",
   "execution_count": null,
   "id": "2dfab6d8",
   "metadata": {},
   "outputs": [],
   "source": [
    "array = [1, \"2\", 3.0, 4, 2 > 4]\n",
    "for element in array:\n",
    "    print(type(element)==int)"
   ]
  },
  {
   "cell_type": "markdown",
   "id": "708c5e18",
   "metadata": {},
   "source": []
  },
  {
   "cell_type": "code",
   "execution_count": null,
   "id": "466244db",
   "metadata": {},
   "outputs": [],
   "source": [
    "array = [1, \"2\", 3.0, 4, 2 > 4]\n",
    "for element in array:\n",
    "    if isinstance(element, bool):\n",
    "        continue\n",
    "    print(element)"
   ]
  },
  {
   "cell_type": "markdown",
   "id": "72d90f65",
   "metadata": {},
   "source": []
  },
  {
   "cell_type": "markdown",
   "id": "e3ed00fd",
   "metadata": {},
   "source": [
    "# Advanced Coding"
   ]
  },
  {
   "cell_type": "code",
   "execution_count": null,
   "id": "483537d4",
   "metadata": {},
   "outputs": [],
   "source": [
    "# Convert the following While loop to a for, to print the same output, using break statement\n",
    "data = list(range(1, 15))\n",
    "i = 0\n",
    "\n",
    "while i < len(data) / 2:\n",
    "    print(data[i])\n",
    "    i += 1"
   ]
  },
  {
   "cell_type": "code",
   "execution_count": null,
   "id": "f0b75286",
   "metadata": {},
   "outputs": [],
   "source": [
    "# Insert code here\n",
    "data = list(range(1, 15))\n",
    "for ? in ?:\n",
    "    "
   ]
  },
  {
   "cell_type": "markdown",
   "id": "0910e2ed",
   "metadata": {},
   "source": [
    "# Additional Practice?"
   ]
  },
  {
   "cell_type": "markdown",
   "id": "a4e03ed7",
   "metadata": {},
   "source": [
    "## Create a function that takes the path of a CSV file and returns the contents in a list?"
   ]
  },
  {
   "cell_type": "code",
   "execution_count": null,
   "id": "fad8d715",
   "metadata": {},
   "outputs": [],
   "source": []
  },
  {
   "cell_type": "code",
   "execution_count": null,
   "id": "20c96b79",
   "metadata": {},
   "outputs": [],
   "source": []
  }
 ],
 "metadata": {
  "kernelspec": {
   "display_name": "Python 3 (ipykernel)",
   "language": "python",
   "name": "python3"
  },
  "language_info": {
   "codemirror_mode": {
    "name": "ipython",
    "version": 3
   },
   "file_extension": ".py",
   "mimetype": "text/x-python",
   "name": "python",
   "nbconvert_exporter": "python",
   "pygments_lexer": "ipython3",
   "version": "3.9.6"
  }
 },
 "nbformat": 4,
 "nbformat_minor": 5
}
